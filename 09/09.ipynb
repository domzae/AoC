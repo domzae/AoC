{
 "cells": [
  {
   "cell_type": "code",
   "execution_count": 1,
   "id": "ae95476a-30ff-4d39-aeaf-a13debceddab",
   "metadata": {},
   "outputs": [],
   "source": [
    "import numpy as np\n",
    "from scipy.ndimage import measurements"
   ]
  },
  {
   "cell_type": "markdown",
   "id": "76c68a63-4bf8-4ed0-a675-372a44d60d5f",
   "metadata": {
    "tags": []
   },
   "source": [
    "# Get inputs"
   ]
  },
  {
   "cell_type": "code",
   "execution_count": 2,
   "id": "2c317d4c-42ed-4d58-b1ed-c9be5cca037d",
   "metadata": {},
   "outputs": [],
   "source": [
    "#with open(\"test_input.txt\") as f:\n",
    "with open(\"input.txt\") as f:\n",
    "    inp = f.readlines()\n",
    "    inp = [line.rstrip() for line in inp]"
   ]
  },
  {
   "cell_type": "code",
   "execution_count": 3,
   "id": "036e58b0",
   "metadata": {},
   "outputs": [],
   "source": [
    "cleaned = []\n",
    "for x in inp:\n",
    "    cleaned.append(np.array([int(y) for y in x]))\n",
    "cleaned = np.array(cleaned)"
   ]
  },
  {
   "cell_type": "markdown",
   "id": "9d0aa6d0-c00f-4587-894b-b85e59098257",
   "metadata": {},
   "source": [
    "## Q1"
   ]
  },
  {
   "cell_type": "code",
   "execution_count": 4,
   "id": "44600798",
   "metadata": {},
   "outputs": [],
   "source": [
    "padded = np.pad(cleaned, (1,1), 'constant', constant_values=(9,9))"
   ]
  },
  {
   "cell_type": "code",
   "execution_count": 5,
   "id": "1ef042d7",
   "metadata": {},
   "outputs": [],
   "source": [
    "lows = []\n",
    "for y, row in enumerate(padded[1:-1],1):\n",
    "    for x, cell in enumerate(row[1:-1],1):\n",
    "        if cell >= row[x+1]:\n",
    "            continue\n",
    "        if cell >= row[x-1]:\n",
    "            continue\n",
    "        if cell >= padded[y-1,x]:\n",
    "            continue\n",
    "        if cell >= padded[y+1,x]:\n",
    "            continue\n",
    "        lows.append(cell+1)"
   ]
  },
  {
   "cell_type": "code",
   "execution_count": 6,
   "id": "b323b949",
   "metadata": {},
   "outputs": [
    {
     "name": "stdout",
     "output_type": "stream",
     "text": [
      "Part 1: 494\n"
     ]
    }
   ],
   "source": [
    "print(f\"Part 1: {sum(lows)}\")"
   ]
  },
  {
   "cell_type": "markdown",
   "id": "686ade79-8415-43b8-8157-a0fa817c1d01",
   "metadata": {
    "tags": []
   },
   "source": [
    "## Q2"
   ]
  },
  {
   "cell_type": "code",
   "execution_count": 7,
   "id": "3f26d35f",
   "metadata": {},
   "outputs": [
    {
     "data": {
      "text/plain": [
       "array([[1, 1, 1, ..., 0, 1, 1],\n",
       "       [1, 1, 1, ..., 1, 0, 1],\n",
       "       [1, 1, 0, ..., 1, 1, 0],\n",
       "       ...,\n",
       "       [1, 1, 1, ..., 0, 1, 1],\n",
       "       [1, 1, 1, ..., 1, 1, 1],\n",
       "       [1, 1, 1, ..., 0, 1, 1]])"
      ]
     },
     "execution_count": 7,
     "metadata": {},
     "output_type": "execute_result"
    }
   ],
   "source": [
    "bin = np.where(cleaned == 9, 0, 1)\n",
    "bin"
   ]
  },
  {
   "cell_type": "code",
   "execution_count": 8,
   "id": "49d3166b",
   "metadata": {},
   "outputs": [
    {
     "data": {
      "text/plain": [
       "1048128"
      ]
     },
     "execution_count": 8,
     "metadata": {},
     "output_type": "execute_result"
    }
   ],
   "source": [
    "labels, n = measurements.label(bin)\n",
    "arr, sizes = np.unique(labels, return_counts = True)\n",
    "np.prod(np.sort(sizes)[-4:-1])"
   ]
  },
  {
   "cell_type": "code",
   "execution_count": 9,
   "id": "b323b949",
   "metadata": {},
   "outputs": [
    {
     "name": "stdout",
     "output_type": "stream",
     "text": [
      "Part 2: 1048128\n"
     ]
    }
   ],
   "source": [
    "print(f\"Part 2: {np.prod(np.sort(sizes)[-4:-1])}\")"
   ]
  }
 ],
 "metadata": {
  "kernelspec": {
   "display_name": "Python 3 (ipykernel)",
   "language": "python",
   "name": "python3"
  },
  "language_info": {
   "codemirror_mode": {
    "name": "ipython",
    "version": 3
   },
   "file_extension": ".py",
   "mimetype": "text/x-python",
   "name": "python",
   "nbconvert_exporter": "python",
   "pygments_lexer": "ipython3",
   "version": "3.8.12"
  }
 },
 "nbformat": 4,
 "nbformat_minor": 5
}
