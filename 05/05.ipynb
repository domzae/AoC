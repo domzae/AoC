{
 "cells": [
  {
   "cell_type": "code",
   "execution_count": 1,
   "id": "ae95476a-30ff-4d39-aeaf-a13debceddab",
   "metadata": {},
   "outputs": [],
   "source": [
    "import numpy as np"
   ]
  },
  {
   "cell_type": "markdown",
   "id": "76c68a63-4bf8-4ed0-a675-372a44d60d5f",
   "metadata": {
    "tags": []
   },
   "source": [
    "# Get inputs"
   ]
  },
  {
   "cell_type": "code",
   "execution_count": 2,
   "id": "2c317d4c-42ed-4d58-b1ed-c9be5cca037d",
   "metadata": {},
   "outputs": [],
   "source": [
    "#with open(\"test_input.txt\") as f:\n",
    "with open(\"input.txt\") as f:\n",
    "    inp = f.readlines()\n",
    "    inp = [line.rstrip() for line in inp]"
   ]
  },
  {
   "cell_type": "code",
   "execution_count": 3,
   "id": "6cb19e48-717b-496b-a80a-eb61fc0699da",
   "metadata": {
    "tags": []
   },
   "outputs": [
    {
     "data": {
      "text/plain": [
       "['427,523 -> 427,790', '94,639 -> 94,951']"
      ]
     },
     "execution_count": 3,
     "metadata": {},
     "output_type": "execute_result"
    }
   ],
   "source": [
    "inp[:2]"
   ]
  },
  {
   "cell_type": "code",
   "execution_count": 4,
   "id": "a1ba8f06-bdda-49cb-96e8-4d0defd84ca3",
   "metadata": {},
   "outputs": [
    {
     "data": {
      "text/plain": [
       "array([[427, 523, 427, 790],\n",
       "       [ 94, 639,  94, 951],\n",
       "       [757, 371, 465, 663],\n",
       "       ...,\n",
       "       [ 61, 804,  61, 832],\n",
       "       [475, 387, 966, 878],\n",
       "       [822, 740, 822, 186]])"
      ]
     },
     "execution_count": 4,
     "metadata": {},
     "output_type": "execute_result"
    }
   ],
   "source": [
    "cleaned = []\n",
    "for line in inp:\n",
    "    tmp = np.array([list(map(int,element.split(\",\"))) for element in line.split(\" -> \")]).flatten()\n",
    "    # append if x1 = x2 or y1 = y2 - horiuzontal/vertical\n",
    "    if tmp[0] == tmp[2] or tmp[1] == tmp[3]:\n",
    "        cleaned.append(tmp)\n",
    "        \n",
    "    # append if diagonal for Q2\n",
    "    elif abs(tmp[0] - tmp[2]) == abs(tmp[1] - tmp[3]):\n",
    "        cleaned.append(tmp)\n",
    "cleaned = np.array(cleaned)\n",
    "cleaned"
   ]
  },
  {
   "cell_type": "code",
   "execution_count": 5,
   "id": "6a38ec95-6c6e-4f32-afaf-a75faa784019",
   "metadata": {},
   "outputs": [
    {
     "data": {
      "text/plain": [
       "array([[427, 523, 427, 790],\n",
       "       [ 94, 639,  94, 951],\n",
       "       [503, 935, 503, 148],\n",
       "       ...,\n",
       "       [375, 342, 375, 668],\n",
       "       [ 61, 804,  61, 832],\n",
       "       [822, 740, 822, 186]])"
      ]
     },
     "execution_count": 5,
     "metadata": {},
     "output_type": "execute_result"
    }
   ],
   "source": [
    "cleaned = []\n",
    "for line in inp:\n",
    "    tmp = np.array([list(map(int,element.split(\",\"))) for element in line.split(\" -> \")]).flatten()\n",
    "    # append if x1 = x2 or y1 = y2 - horiuzontal/vertical\n",
    "    if tmp[0] == tmp[2] or tmp[1] == tmp[3]:\n",
    "        cleaned.append(tmp)\n",
    "cleaned = np.array(cleaned)\n",
    "cleaned"
   ]
  },
  {
   "cell_type": "code",
   "execution_count": 6,
   "id": "726f7f80-9396-4854-89b3-350796d1eab9",
   "metadata": {},
   "outputs": [],
   "source": [
    "x1 = max(cleaned[:,0])\n",
    "x2 = max(cleaned[:,2])\n",
    "y1 = max(cleaned[:,1])\n",
    "y2 = max(cleaned[:,3])\n",
    "\n",
    "x = max(x1,x2) + 1\n",
    "y = max(y1,y2) + 1\n",
    "m = max(y,x)"
   ]
  },
  {
   "cell_type": "code",
   "execution_count": 7,
   "id": "b17e8ba5-2c81-4c2e-a555-fb4bbea64d05",
   "metadata": {},
   "outputs": [],
   "source": [
    "zerod = np.zeros((m,m), dtype=int)"
   ]
  },
  {
   "cell_type": "markdown",
   "id": "9d0aa6d0-c00f-4587-894b-b85e59098257",
   "metadata": {},
   "source": [
    "## Q1"
   ]
  },
  {
   "cell_type": "code",
   "execution_count": 8,
   "id": "05c485cd-58d7-41d5-a476-060b4f9e1009",
   "metadata": {},
   "outputs": [],
   "source": [
    "def fill_board(board):\n",
    "    for line in cleaned:\n",
    "        x1,y1,x2,y2 = line\n",
    "        \n",
    "        # move y\n",
    "        if x1 == x2:\n",
    "            if y1 < y2:\n",
    "                while y1 <= y2:\n",
    "                    board[x1,y1] += 1\n",
    "                    y1 += 1\n",
    "            else:\n",
    "                while y2 <= y1:\n",
    "                    board[x1,y2] += 1\n",
    "                    y2 += 1\n",
    "        else:\n",
    "            if x1 < x2:\n",
    "                while x1 <= x2:\n",
    "                    board[x1,y1] +=1\n",
    "                    x1 += 1\n",
    "            else:\n",
    "                while x2 <= x1:\n",
    "                    board[x2,y1] +=1\n",
    "                    x2 += 1\n",
    "    return board.T"
   ]
  },
  {
   "cell_type": "code",
   "execution_count": 9,
   "id": "e5735bbb-b394-486f-88e7-7d3265483bcf",
   "metadata": {},
   "outputs": [
    {
     "data": {
      "text/plain": [
       "array([[0, 0, 0, ..., 0, 0, 0],\n",
       "       [0, 0, 0, ..., 0, 0, 0],\n",
       "       [0, 0, 0, ..., 0, 0, 0],\n",
       "       ...,\n",
       "       [0, 0, 0, ..., 0, 0, 0],\n",
       "       [0, 0, 0, ..., 0, 0, 0],\n",
       "       [0, 0, 0, ..., 0, 0, 0]])"
      ]
     },
     "execution_count": 9,
     "metadata": {},
     "output_type": "execute_result"
    }
   ],
   "source": [
    "filled = fill_board(zerod.copy())\n",
    "filled"
   ]
  },
  {
   "cell_type": "code",
   "execution_count": 10,
   "id": "0d62b379-7061-430e-8a67-194a180ce63a",
   "metadata": {},
   "outputs": [],
   "source": [
    "unique, counts = np.unique(filled, return_counts=True)\n",
    "unique_counts = dict(zip(unique, counts))"
   ]
  },
  {
   "cell_type": "code",
   "execution_count": 11,
   "id": "a48d220f-3a7f-4ac6-82df-6873f0896eb6",
   "metadata": {},
   "outputs": [
    {
     "data": {
      "text/plain": [
       "{2: 7071, 3: 222, 4: 4}"
      ]
     },
     "execution_count": 11,
     "metadata": {},
     "output_type": "execute_result"
    }
   ],
   "source": [
    "unique_counts.pop(0)\n",
    "unique_counts.pop(1)\n",
    "unique_counts"
   ]
  },
  {
   "cell_type": "code",
   "execution_count": 12,
   "id": "b323b949",
   "metadata": {},
   "outputs": [
    {
     "name": "stdout",
     "output_type": "stream",
     "text": [
      "Part 1: 7297\n"
     ]
    }
   ],
   "source": [
    "print(f\"Part 1: {sum(unique_counts.values())}\")"
   ]
  },
  {
   "cell_type": "markdown",
   "id": "686ade79-8415-43b8-8157-a0fa817c1d01",
   "metadata": {
    "tags": []
   },
   "source": [
    "## Q2"
   ]
  },
  {
   "cell_type": "code",
   "execution_count": 13,
   "id": "002428d8-c837-4eae-8bbe-63b6b9114924",
   "metadata": {
    "collapsed": true,
    "jupyter": {
     "outputs_hidden": true
    },
    "tags": []
   },
   "outputs": [
    {
     "data": {
      "text/plain": [
       "array([[757, 371, 465, 663],\n",
       "       [167, 754, 710, 211]])"
      ]
     },
     "execution_count": 13,
     "metadata": {},
     "output_type": "execute_result"
    }
   ],
   "source": [
    "cleaneddiag = []\n",
    "for line in inp:\n",
    "    tmp = np.array([list(map(int,element.split(\",\"))) for element in line.split(\" -> \")]).flatten()\n",
    "    # append if diagonal for Q2\n",
    "    if abs(tmp[0] - tmp[2]) == abs(tmp[1] - tmp[3]):\n",
    "        cleaneddiag.append(tmp)\n",
    "cleaneddiag = np.array(cleaneddiag)\n",
    "cleaneddiag[:2]"
   ]
  },
  {
   "cell_type": "code",
   "execution_count": 14,
   "id": "9822c33b-2bc1-4f89-8e89-40fb13ae9733",
   "metadata": {},
   "outputs": [],
   "source": [
    "def fill_board_diag(board):\n",
    "    for line in cleaneddiag:\n",
    "        x1,y1,x2,y2 = line\n",
    "        \n",
    "        # right\n",
    "        if x1 < x2:\n",
    "            # down\n",
    "            if y1 < y2:\n",
    "                while y1 <= y2:\n",
    "                    board[x1,y1] += 1\n",
    "                    y1 += 1\n",
    "                    x1 += 1\n",
    "            # up\n",
    "            else:\n",
    "                while y2 <= y1:\n",
    "                    board[x1,y1] += 1\n",
    "                    y1 -= 1\n",
    "                    x1 += 1\n",
    "        # left\n",
    "        else:\n",
    "            # down\n",
    "            if y1 < y2:\n",
    "                while y1 <= y2:\n",
    "                    board[x1,y1] += 1\n",
    "                    y1 += 1\n",
    "                    x1 -= 1\n",
    "            # up\n",
    "            else:\n",
    "                while y2 <= y1:\n",
    "                    board[x1,y1] += 1\n",
    "                    y1 -= 1\n",
    "                    x1 -= 1\n",
    "    return board.T"
   ]
  },
  {
   "cell_type": "code",
   "execution_count": 15,
   "id": "c27d0dcc-b287-4df5-b5de-be6501dae92d",
   "metadata": {},
   "outputs": [
    {
     "data": {
      "text/plain": [
       "array([[0, 0, 0, ..., 0, 0, 0],\n",
       "       [0, 0, 0, ..., 0, 0, 0],\n",
       "       [0, 0, 0, ..., 0, 0, 0],\n",
       "       ...,\n",
       "       [0, 0, 0, ..., 0, 0, 0],\n",
       "       [0, 0, 0, ..., 0, 0, 0],\n",
       "       [0, 0, 0, ..., 0, 0, 0]])"
      ]
     },
     "execution_count": 15,
     "metadata": {},
     "output_type": "execute_result"
    }
   ],
   "source": [
    "fill_board_diag(filled.T)"
   ]
  },
  {
   "cell_type": "code",
   "execution_count": 16,
   "id": "2d9cfda1-6632-46d2-8c2d-bead3fe5476a",
   "metadata": {},
   "outputs": [],
   "source": [
    "unique, counts = np.unique(filled, return_counts=True)\n",
    "unique_counts = dict(zip(unique, counts))"
   ]
  },
  {
   "cell_type": "code",
   "execution_count": 17,
   "id": "647da4b3-c460-49cf-8482-5c0e64a6177b",
   "metadata": {},
   "outputs": [
    {
     "data": {
      "text/plain": [
       "{2: 19328, 3: 1610, 4: 99, 5: 1}"
      ]
     },
     "execution_count": 17,
     "metadata": {},
     "output_type": "execute_result"
    }
   ],
   "source": [
    "unique_counts.pop(0)\n",
    "unique_counts.pop(1)\n",
    "unique_counts"
   ]
  },
  {
   "cell_type": "code",
   "execution_count": 18,
   "id": "d333b76f-0be7-431f-b449-313a50a047d9",
   "metadata": {},
   "outputs": [
    {
     "name": "stdout",
     "output_type": "stream",
     "text": [
      "Part 2: 21038\n"
     ]
    }
   ],
   "source": [
    "print(f\"Part 2: {sum(unique_counts.values())}\")"
   ]
  }
 ],
 "metadata": {
  "kernelspec": {
   "display_name": "Python 3 (ipykernel)",
   "language": "python",
   "name": "python3"
  },
  "language_info": {
   "codemirror_mode": {
    "name": "ipython",
    "version": 3
   },
   "file_extension": ".py",
   "mimetype": "text/x-python",
   "name": "python",
   "nbconvert_exporter": "python",
   "pygments_lexer": "ipython3",
   "version": "3.8.12"
  }
 },
 "nbformat": 4,
 "nbformat_minor": 5
}
