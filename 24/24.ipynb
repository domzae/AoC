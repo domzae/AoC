{
 "cells": [
  {
   "cell_type": "code",
   "execution_count": 1,
   "id": "b5d77168",
   "metadata": {},
   "outputs": [],
   "source": [
    "import math"
   ]
  },
  {
   "cell_type": "markdown",
   "id": "76c68a63-4bf8-4ed0-a675-372a44d60d5f",
   "metadata": {
    "tags": []
   },
   "source": [
    "# Get inputs"
   ]
  },
  {
   "cell_type": "code",
   "execution_count": 2,
   "id": "2c317d4c-42ed-4d58-b1ed-c9be5cca037d",
   "metadata": {},
   "outputs": [],
   "source": [
    "#with open(\"test_input.txt\") as f:\n",
    "with open(\"input.txt\") as f:\n",
    "    inp = f.readlines()\n",
    "    inp = [line.split() for line in inp]"
   ]
  },
  {
   "cell_type": "markdown",
   "id": "9d0aa6d0-c00f-4587-894b-b85e59098257",
   "metadata": {},
   "source": [
    "## Q1 & Q2"
   ]
  },
  {
   "cell_type": "code",
   "execution_count": 3,
   "id": "7b9d70d2",
   "metadata": {},
   "outputs": [
    {
     "data": {
      "text/plain": [
       "[[1, 14, 12],\n",
       " [1, 13, 6],\n",
       " [1, 12, 4],\n",
       " [1, 14, 5],\n",
       " [1, 13, 0],\n",
       " [26, -7, 4],\n",
       " [26, -13, 15],\n",
       " [1, 10, 14],\n",
       " [26, -7, 6],\n",
       " [1, 11, 14],\n",
       " [26, -9, 8],\n",
       " [26, -2, 5],\n",
       " [26, -9, 14],\n",
       " [26, -14, 4]]"
      ]
     },
     "execution_count": 3,
     "metadata": {},
     "output_type": "execute_result"
    }
   ],
   "source": [
    "params = []\n",
    "for i in range(0, 18*14, 18):\n",
    "    params.append([int(inp[i+4][-1]),\n",
    "                   int(inp[i+5][-1]),\n",
    "                   int(inp[i+15][-1])])\n",
    "params"
   ]
  },
  {
   "cell_type": "code",
   "execution_count": 4,
   "id": "3a401b9b",
   "metadata": {},
   "outputs": [],
   "source": [
    "def get_z(params, z, w):\n",
    "    if (z % 26 + params[1]) != w: \n",
    "        z = z // params[0] * 26 + w + params[2]\n",
    "    else:\n",
    "        z = z // params[0]\n",
    "    return z"
   ]
  },
  {
   "cell_type": "code",
   "execution_count": 5,
   "id": "26a1c688",
   "metadata": {},
   "outputs": [
    {
     "name": "stdout",
     "output_type": "stream",
     "text": [
      "Largest (Part 1): 99799212949967 \n",
      "Smallest (Part 2): 34198111816311\n"
     ]
    }
   ],
   "source": [
    "zees = {0: [0, 0]}\n",
    "for i, param in enumerate(params):\n",
    "    new_zs = {}\n",
    "    for z, inp in zees.items():\n",
    "        for w in range(1, 10):\n",
    "            new_z = get_z(param, z, w)\n",
    "\n",
    "            if param[0] == 1 or (param[0] == 26 and new_z < z):\n",
    "                if new_z not in new_zs: \n",
    "                    new_zs[new_z] = [inp[0]*10+w, inp[1]*10+w]\n",
    "                else:\n",
    "                    new_zs[new_z][0] = min(new_zs[new_z][0], inp[0]*10+w)\n",
    "                    new_zs[new_z][1] = max(new_zs[new_z][1], inp[1]*10+w)\n",
    "    \n",
    "    zees = new_zs\n",
    "\n",
    "print('Largest (Part 1):', zees[0][1], \"\\nSmallest (Part 2):\", zees[0][0])"
   ]
  }
 ],
 "metadata": {
  "kernelspec": {
   "display_name": "Python 3 (ipykernel)",
   "language": "python",
   "name": "python3"
  },
  "language_info": {
   "codemirror_mode": {
    "name": "ipython",
    "version": 3
   },
   "file_extension": ".py",
   "mimetype": "text/x-python",
   "name": "python",
   "nbconvert_exporter": "python",
   "pygments_lexer": "ipython3",
   "version": "3.8.12"
  }
 },
 "nbformat": 4,
 "nbformat_minor": 5
}
