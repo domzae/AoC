{
 "cells": [
  {
   "cell_type": "code",
   "execution_count": 1,
   "id": "0a8f2752",
   "metadata": {},
   "outputs": [],
   "source": [
    "import math"
   ]
  },
  {
   "cell_type": "markdown",
   "id": "76c68a63-4bf8-4ed0-a675-372a44d60d5f",
   "metadata": {
    "tags": []
   },
   "source": [
    "# Get inputs"
   ]
  },
  {
   "cell_type": "code",
   "execution_count": 2,
   "id": "2c317d4c-42ed-4d58-b1ed-c9be5cca037d",
   "metadata": {},
   "outputs": [],
   "source": [
    "# with open(\"test_input.txt\") as f: inp_test = f.readlines()\n",
    "with open(\"input.txt\") as f: inp = f.readlines()\n",
    "with open(\"gaëtan.txt\") as f: gaëtan = f.readlines()"
   ]
  },
  {
   "cell_type": "code",
   "execution_count": 3,
   "id": "4bfda549",
   "metadata": {},
   "outputs": [
    {
     "data": {
      "text/plain": [
       "'000011110011'"
      ]
     },
     "execution_count": 3,
     "metadata": {},
     "output_type": "execute_result"
    }
   ],
   "source": [
    "# Hex -> binary\n",
    "converter = {\n",
    "    \"0\" : \"0000\",\n",
    "    \"1\" : \"0001\",\n",
    "    \"2\" : \"0010\",\n",
    "    \"3\" : \"0011\",\n",
    "    \"4\" : \"0100\",\n",
    "    \"5\" : \"0101\",\n",
    "    \"6\" : \"0110\",\n",
    "    \"7\" : \"0111\",\n",
    "    \"8\" : \"1000\",\n",
    "    \"9\" : \"1001\",\n",
    "    \"A\" : \"1010\",\n",
    "    \"B\" : \"1011\",\n",
    "    \"C\" : \"1100\",\n",
    "    \"D\" : \"1101\",\n",
    "    \"E\" : \"1110\",\n",
    "    \"F\" : \"1111\"}\n",
    "\n",
    "def get_bin(hex):\n",
    "    return ''.join([converter[x] for x in hex])\n",
    "\n",
    "get_bin('0F3')"
   ]
  },
  {
   "cell_type": "markdown",
   "id": "9d0aa6d0-c00f-4587-894b-b85e59098257",
   "metadata": {},
   "source": [
    "## Q1 & Q2"
   ]
  },
  {
   "cell_type": "code",
   "execution_count": 4,
   "id": "8fa71186",
   "metadata": {},
   "outputs": [],
   "source": [
    "def calc_ID(vals, typeID):\n",
    "    \"\"\"Calculate value based on type ID (switch-case waiting room)\"\"\"\n",
    "    \n",
    "    # Handle single values\n",
    "    if isinstance(vals, int):\n",
    "        return vals\n",
    "    if len(vals) == 1:\n",
    "        return vals[0]\n",
    "    \n",
    "    if typeID == 0:\n",
    "        return sum(vals)\n",
    "    if typeID == 1:\n",
    "        return math.prod(vals)\n",
    "    if typeID == 2:\n",
    "        return min(vals)\n",
    "    if typeID == 3:\n",
    "        return max(vals)\n",
    "    if typeID == 4:\n",
    "        return vals[0]\n",
    "    if typeID == 5:\n",
    "        return 1 if vals[0] > vals[1] else 0\n",
    "    if typeID == 6:\n",
    "        return 0 if vals[0] > vals[1] else 1\n",
    "    if typeID == 7:\n",
    "        return 1 if vals[0] == vals[1] else 0\n",
    "    \n",
    "    print(\"No Valid ID\")\n",
    "    "
   ]
  },
  {
   "cell_type": "code",
   "execution_count": 5,
   "id": "f3e937dc",
   "metadata": {},
   "outputs": [],
   "source": [
    "def read_literal(bin):\n",
    "    \"\"\"Loops through 5 bits at a time, dropping the front bit\"\"\"\n",
    "    \n",
    "    fixed = ''\n",
    "    for i in range(0, len(bin)+1, 5):\n",
    "        fixed += bin[i+1:i+5]\n",
    "        \n",
    "        # If the first bit if a loop is 0, it is the last one\n",
    "        if int(bin[i]) == 0:\n",
    "            break\n",
    "\n",
    "    return int(fixed,2), i+5"
   ]
  },
  {
   "cell_type": "code",
   "execution_count": 6,
   "id": "2e450db8",
   "metadata": {},
   "outputs": [],
   "source": [
    "def parse_literal(bin, loc):\n",
    "    \"\"\"Parses packet as literal\"\"\"\n",
    "    \n",
    "    literal, exit_loc = read_literal(bin[loc:])\n",
    "    \n",
    "    return exit_loc + loc, literal"
   ]
  },
  {
   "cell_type": "code",
   "execution_count": 7,
   "id": "00eab1c3",
   "metadata": {},
   "outputs": [],
   "source": [
    "def parse_operator_0(bin, loc, typeID_int):\n",
    "    \"\"\"Parses packet as operator of sub-packets with a total length of L\"\"\"\n",
    "    \n",
    "    Lbin = bin[loc:loc+15]\n",
    "    L = int(Lbin,2)\n",
    "    end = loc + 15 + L\n",
    "    \n",
    "    # Begin a new parse, giving the new start and end location\n",
    "    loc, new_versions, vals = begin_parse(bin, loc+15, end)\n",
    "    \n",
    "    # Calculate the value given the typeID\n",
    "    value = calc_ID(vals, typeID_int)\n",
    "\n",
    "    return loc, new_versions, value"
   ]
  },
  {
   "cell_type": "code",
   "execution_count": 8,
   "id": "a3be3dfb",
   "metadata": {},
   "outputs": [],
   "source": [
    "def parse_operator_1(bin, loc, end, typeID_int):\n",
    "    \"\"\"Parses packet as operator with L sub-packets\"\"\"\n",
    "    \n",
    "    Lbin = bin[loc:loc+11]\n",
    "    L = int(Lbin,2)\n",
    "    \n",
    "    versions = []\n",
    "    values = []\n",
    "    \n",
    "    loc = loc + 11\n",
    "    for _ in range(L):\n",
    "        # Begin a new parse, giving the new start/end location, and op1\n",
    "        loc, new_versions, val = begin_parse(bin, loc, end, op1=True)\n",
    "        versions.extend(new_versions)\n",
    "        values.extend(val)\n",
    "\n",
    "    # Calculate the value given the typeID\n",
    "    value = calc_ID(values, typeID_int)\n",
    "\n",
    "    return loc, versions, value\n",
    "    "
   ]
  },
  {
   "cell_type": "code",
   "execution_count": 9,
   "id": "43af585d",
   "metadata": {},
   "outputs": [],
   "source": [
    "def begin_parse(bin, loc=0, end=None, op1=False):\n",
    "    \"\"\"Consumes binary string from left to right, starting at loc=0\"\"\"\n",
    "    \n",
    "    versions = []\n",
    "    values = []\n",
    "    \n",
    "    # Set end length to entire string if not specified\n",
    "    if end is None:\n",
    "        end = len(bin)\n",
    "\n",
    "    # Continue consuming until there are not enough characters left\n",
    "    while loc < end - 10:\n",
    "        version = bin[loc:loc+3]\n",
    "        versions.append(version)\n",
    "        \n",
    "        typeID = bin[loc+3:loc+6]\n",
    "        typeID_int = int(typeID,2)\n",
    "        ID = int(bin[loc+6])\n",
    "        \n",
    "        if typeID_int == 4:\n",
    "            # print(f\"version={int(version,2)}, typeID={typeID_int}, Literal packet\")\n",
    "            loc, val = parse_literal(bin, loc+6)\n",
    "            \n",
    "        elif ID == 0:\n",
    "            # print(f\"version={int(version,2)}, typeID={typeID_int}, Operator packet, {ID=}\")\n",
    "            loc, new_versions, val = parse_operator_0(bin, loc+7, typeID_int)\n",
    "            versions.extend(new_versions)\n",
    "\n",
    "        else:\n",
    "            # print(f\"version={int(version,2)}, typeID={typeID_int}, Operator packet, {ID=}\")\n",
    "            loc, new_versions, val = parse_operator_1(bin, loc+7, end, typeID_int)\n",
    "            versions.extend(new_versions)\n",
    "\n",
    "        values.append(val)\n",
    "\n",
    "        # parse_operator_1() handles number of loops\n",
    "        if op1:\n",
    "            break\n",
    "    \n",
    "    return loc, versions, values\n",
    "    "
   ]
  },
  {
   "cell_type": "code",
   "execution_count": 10,
   "id": "0acc66c3",
   "metadata": {},
   "outputs": [
    {
     "name": "stdout",
     "output_type": "stream",
     "text": [
      "Part 1 -> Sum of Versions: 883\n",
      "Part 2 -> Value: 1675215002927\n"
     ]
    }
   ],
   "source": [
    "#_, versions, value = begin_parse(get_bin('9C0141080250320F1802104A08'))\n",
    "#_, versions, value = begin_parse(get_bin(inp[0]))\n",
    "_, versions, value = begin_parse(get_bin(gaëtan[0]))\n",
    "\n",
    "print(f\"Part 1 -> Sum of Versions: {sum([int(x,2) for x in versions])}\")\n",
    "\n",
    "print(f\"Part 2 -> Value: {value[0]}\")"
   ]
  },
  {
   "cell_type": "code",
   "execution_count": 11,
   "id": "d4cf2d10",
   "metadata": {},
   "outputs": [
    {
     "name": "stdout",
     "output_type": "stream",
     "text": [
      "Value should be:  1675198555015\n",
      "Currently off by:      16447912\n"
     ]
    }
   ],
   "source": [
    "print(f\"\"\"Value should be:  1675198555015\n",
    "Currently off by:      {value[0]-1675198555015}\"\"\")"
   ]
  }
 ],
 "metadata": {
  "kernelspec": {
   "display_name": "Python 3 (ipykernel)",
   "language": "python",
   "name": "python3"
  },
  "language_info": {
   "codemirror_mode": {
    "name": "ipython",
    "version": 3
   },
   "file_extension": ".py",
   "mimetype": "text/x-python",
   "name": "python",
   "nbconvert_exporter": "python",
   "pygments_lexer": "ipython3",
   "version": "3.8.12"
  }
 },
 "nbformat": 4,
 "nbformat_minor": 5
}
