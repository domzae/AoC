{
 "cells": [
  {
   "cell_type": "code",
   "execution_count": 9,
   "id": "ae95476a-30ff-4d39-aeaf-a13debceddab",
   "metadata": {},
   "outputs": [],
   "source": [
    "import numpy as np\n",
    "from collections import Counter"
   ]
  },
  {
   "cell_type": "markdown",
   "id": "76c68a63-4bf8-4ed0-a675-372a44d60d5f",
   "metadata": {
    "tags": []
   },
   "source": [
    "# Get inputs"
   ]
  },
  {
   "cell_type": "code",
   "execution_count": 10,
   "id": "2c317d4c-42ed-4d58-b1ed-c9be5cca037d",
   "metadata": {},
   "outputs": [],
   "source": [
    "#with open(\"test_input.txt\") as f:\n",
    "with open(\"input.txt\") as f:\n",
    "    inp = f.readlines()\n",
    "    inp = [line.rstrip() for line in inp]"
   ]
  },
  {
   "cell_type": "markdown",
   "id": "9d0aa6d0-c00f-4587-894b-b85e59098257",
   "metadata": {},
   "source": [
    "## Q1"
   ]
  },
  {
   "cell_type": "code",
   "execution_count": 17,
   "id": "4c7682a0",
   "metadata": {},
   "outputs": [],
   "source": [
    "cleaned = [x.split(' | ') for x in inp]\n",
    "outputs = [x[1].split(' ') for x in cleaned]\n",
    "outputs = [[len(x) for x in group] for group in outputs]\n",
    "#outputs"
   ]
  },
  {
   "cell_type": "code",
   "execution_count": 12,
   "id": "fef8649a",
   "metadata": {},
   "outputs": [],
   "source": [
    "c = Counter(x for xs in outputs for x in xs)"
   ]
  },
  {
   "cell_type": "code",
   "execution_count": 13,
   "id": "3bcd5105",
   "metadata": {},
   "outputs": [
    {
     "data": {
      "text/plain": [
       "245"
      ]
     },
     "execution_count": 13,
     "metadata": {},
     "output_type": "execute_result"
    }
   ],
   "source": [
    "# 1      4      7      8\n",
    "c[2] + c[4] + c[3] + c[7]"
   ]
  },
  {
   "cell_type": "markdown",
   "id": "686ade79-8415-43b8-8157-a0fa817c1d01",
   "metadata": {
    "tags": []
   },
   "source": [
    "## Q2"
   ]
  },
  {
   "cell_type": "code",
   "execution_count": 14,
   "id": "6df2c76a-0009-40cf-82c8-42a7c0d97ffd",
   "metadata": {},
   "outputs": [
    {
     "data": {
      "text/plain": [
       "[['badf',\n",
       "  'gadfec',\n",
       "  'bgcad',\n",
       "  'ad',\n",
       "  'dbcfg',\n",
       "  'gcaeb',\n",
       "  'fecdgab',\n",
       "  'gad',\n",
       "  'bgcadf',\n",
       "  'efcdgb'],\n",
       " ['gcadb', 'ad', 'agd', 'deacfg']]"
      ]
     },
     "execution_count": 14,
     "metadata": {},
     "output_type": "execute_result"
    }
   ],
   "source": [
    "cleaned = [x.split(' | ') for x in inp]\n",
    "split = [[x.split(' ') for x in group] for group in cleaned]\n",
    "#outputs = [[len(x) for x in group] for group in outputs]\n",
    "split[0]"
   ]
  },
  {
   "cell_type": "code",
   "execution_count": 15,
   "id": "115c0d7c",
   "metadata": {},
   "outputs": [
    {
     "name": "stdout",
     "output_type": "stream",
     "text": [
      "[[3, 1, 7, 0], [3, 0, 9, 0], [9, 1, 9, 2], [3, 5, 7, 6], [0, 1, 0, 2], [0, 6, 2, 5], [6, 7, 6, 5], [7, 1, 1, 6], [3, 9, 5, 4], [2, 2, 6, 8], [5, 5, 8, 7], [9, 3, 6, 9], [4, 8, 4, 8], [3, 8, 2, 8], [3, 9, 6, 5], [8, 1, 5, 9], [9, 4, 8, 8], [8, 2, 6, 7], [2, 3, 0, 3], [5, 4, 1, 3], [9, 1, 3, 0], [1, 1, 5, 6], [5, 7, 9, 9], [2, 7, 2, 3], [7, 1, 3, 3], [3, 9, 4, 8], [2, 8, 9, 4], [3, 8, 2, 5], [5, 2, 2, 5], [9, 3, 0, 5], [0, 9, 9, 1], [3, 2, 2, 0], [5, 5, 9, 3], [1, 9, 3, 6], [7, 2, 4, 0], [7, 4, 1, 6], [9, 8, 2, 2], [9, 0, 5, 6], [0, 4, 6, 5], [0, 1, 1, 9], [1, 9, 1, 5], [5, 9, 5, 8], [9, 0, 4, 5], [5, 0, 3, 0], [4, 5, 4, 9], [6, 0, 9, 9], [6, 2, 6, 8], [0, 3, 0, 3], [9, 0, 5, 7], [8, 2, 7, 1], [0, 8, 9, 7], [2, 1, 0, 6], [8, 6, 7, 5], [9, 5, 3, 6], [6, 7, 7, 0], [0, 3, 7, 9], [4, 5, 8, 3], [6, 1, 9, 9], [9, 3, 0, 5], [5, 0, 4, 3], [5, 5, 0, 4], [5, 2, 2, 5], [1, 2, 9, 1], [9, 9, 4, 2], [2, 3, 6, 3], [2, 8, 9, 2], [6, 9, 9, 8], [9, 4, 6, 3], [5, 5, 0, 0], [1, 5, 2, 7], [7, 2, 9, 9], [9, 9, 5, 5], [5, 1, 5, 2], [3, 5, 3, 6], [8, 9, 2, 0], [9, 4, 8, 2], [3, 3, 8, 4], [2, 5, 9, 3], [2, 6, 0, 9], [5, 4, 1, 7], [6, 6, 0, 0], [1, 7, 6, 4], [7, 3, 4, 5], [4, 1, 8, 8], [1, 0, 3, 2], [7, 2, 5, 1], [1, 6, 3, 6], [6, 5, 2, 0], [0, 9, 1, 5], [5, 6, 5, 5], [6, 3, 3, 1], [2, 2, 5, 3], [0, 3, 3, 9], [4, 3, 2, 6], [1, 2, 5, 0], [9, 5, 8, 9], [4, 2, 1, 5], [0, 4, 9, 0], [4, 7, 9, 9], [7, 0, 0, 2], [0, 9, 4, 1], [2, 2, 5, 4], [8, 5, 5, 7], [6, 3, 6, 8], [9, 0, 6, 5], [9, 3, 3, 0], [7, 2, 4, 2], [1, 2, 5, 3], [2, 9, 0, 4], [5, 3, 0, 6], [1, 1, 7, 7], [9, 0, 6, 6], [2, 4, 3, 8], [8, 5, 2, 4], [7, 0, 5, 5], [1, 8, 9, 3], [1, 9, 6, 5], [5, 2, 5, 6], [2, 4, 3, 5], [1, 3, 9, 1], [6, 4, 1, 7], [6, 1, 5, 0], [0, 6, 5, 6], [5, 9, 2, 0], [3, 5, 8, 9], [5, 1, 1, 4], [5, 9, 2, 5], [5, 9, 1, 6], [7, 2, 7, 2], [4, 5, 2, 6], [9, 8, 9, 2], [4, 9, 1, 9], [3, 5, 1, 3], [5, 5, 0, 3], [5, 4, 4, 9], [2, 6, 2, 0], [2, 4, 0, 8], [0, 3, 1, 3], [4, 5, 0, 4], [5, 5, 5, 7], [2, 8, 4, 5], [5, 4, 1, 3], [5, 9, 4, 1], [0, 3, 1, 0], [6, 6, 1, 9], [0, 7, 3, 1], [6, 0, 6, 7], [3, 9, 3, 5], [3, 9, 0, 0], [3, 4, 8, 8], [0, 2, 8, 0], [3, 6, 1, 2], [3, 7, 0, 4], [7, 3, 0, 6], [8, 9, 7, 5], [6, 9, 5, 6], [7, 8, 0, 3], [2, 0, 4, 1], [0, 1, 5, 5], [5, 3, 9, 2], [8, 3, 0, 3], [8, 7, 3, 0], [3, 0, 6, 6], [7, 5, 9, 3], [7, 8, 0, 4], [4, 2, 4, 8], [2, 2, 4, 1], [7, 0, 3, 9], [0, 2, 0, 9], [7, 1, 8, 5], [8, 2, 6, 8], [0, 1, 4, 6], [2, 6, 5, 1], [6, 6, 4, 7], [0, 2, 8, 6], [8, 0, 4, 5], [2, 1, 8, 9], [2, 0, 9, 0], [6, 6, 9, 5], [0, 5, 3, 3], [2, 4, 4, 9], [6, 4, 8, 5], [9, 2, 6, 9], [2, 5, 0, 6], [7, 3, 3, 7], [5, 0, 2, 1], [0, 2, 0, 6], [8, 3, 1, 2], [5, 2, 4, 4], [8, 6, 0, 6], [8, 5, 6, 3], [5, 9, 3, 3], [2, 1, 5, 4], [2, 6, 7, 7], [4, 2, 6, 7], [6, 1, 6, 0], [9, 2, 5, 1], [1, 8, 0, 5], [6, 2, 8, 0], [9, 8, 5, 6]]\n"
     ]
    }
   ],
   "source": [
    "outlist = []\n",
    "for i, sp in enumerate(split):\n",
    "    outlist.append([])\n",
    "    tmp = {x:None for x in range(9)}\n",
    "    for group in sp:\n",
    "        for x in group:\n",
    "            if len(x) == 3:\n",
    "                tmp[7] = x\n",
    "            elif len(x) == 4:\n",
    "                tmp[4] = x\n",
    "            elif len(x) == 7:\n",
    "                tmp[8] = x\n",
    "            elif len(x) == 2:\n",
    "                tmp[1] = x\n",
    "    \n",
    "    for group in sp:\n",
    "        for x in group:\n",
    "            if len(x) == 5:\n",
    "                # check if 3\n",
    "                cnt = 0\n",
    "                for char in tmp[7]:\n",
    "                    if char in x:\n",
    "                        cnt += 1\n",
    "                if cnt == 3:\n",
    "                    tmp[3] = x\n",
    "                    continue\n",
    "                # check if 2\n",
    "                cnt = 0\n",
    "                for char in tmp[4]:\n",
    "                    if char in x:\n",
    "                        cnt += 1\n",
    "                if cnt == 2:\n",
    "                    tmp[2] = x\n",
    "                    continue\n",
    "                # must be 5\n",
    "                if cnt == 3:\n",
    "                    tmp[5] = x\n",
    "                    continue\n",
    "            if len(x) == 6:\n",
    "                # check if 6\n",
    "                cnt = 0\n",
    "                for char in tmp[7]:\n",
    "                    if char in x:\n",
    "                        cnt += 1\n",
    "                if cnt != 3:\n",
    "                    tmp[6] = x\n",
    "                    continue\n",
    "                # check if 9\n",
    "                else:\n",
    "                    cnt = 0\n",
    "                    for char in tmp[4]:\n",
    "                        if char in x:\n",
    "                            cnt += 1\n",
    "                    if cnt == 4:\n",
    "                        tmp[9] = x\n",
    "                        continue\n",
    "                    # must be 0\n",
    "                    elif cnt == 3:\n",
    "                        tmp[0] = x\n",
    "                        continue\n",
    "    for out in sp[1]:\n",
    "        for num, str in tmp.items():\n",
    "            if sorted(out) == sorted(str):\n",
    "                outlist[i].append(num)\n",
    "    \n",
    "    #print(tmp)\n",
    "print(outlist)"
   ]
  },
  {
   "cell_type": "code",
   "execution_count": 16,
   "id": "63c5eeb0",
   "metadata": {},
   "outputs": [
    {
     "data": {
      "text/plain": [
       "983026"
      ]
     },
     "execution_count": 16,
     "metadata": {},
     "output_type": "execute_result"
    }
   ],
   "source": [
    "del str\n",
    "total = 0\n",
    "for group in outlist:\n",
    "    n = int(''.join(list(map(str,group))))\n",
    "    total += n\n",
    "total"
   ]
  },
  {
   "cell_type": "code",
   "execution_count": null,
   "id": "3f26d35f",
   "metadata": {},
   "outputs": [],
   "source": []
  }
 ],
 "metadata": {
  "kernelspec": {
   "display_name": "Python 3 (ipykernel)",
   "language": "python",
   "name": "python3"
  },
  "language_info": {
   "codemirror_mode": {
    "name": "ipython",
    "version": 3
   },
   "file_extension": ".py",
   "mimetype": "text/x-python",
   "name": "python",
   "nbconvert_exporter": "python",
   "pygments_lexer": "ipython3",
   "version": "3.8.12"
  }
 },
 "nbformat": 4,
 "nbformat_minor": 5
}
