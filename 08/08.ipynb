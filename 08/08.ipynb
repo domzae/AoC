{
 "cells": [
  {
   "cell_type": "code",
   "execution_count": 1,
   "id": "ae95476a-30ff-4d39-aeaf-a13debceddab",
   "metadata": {},
   "outputs": [],
   "source": [
    "import numpy as np\n",
    "from collections import Counter"
   ]
  },
  {
   "cell_type": "markdown",
   "id": "76c68a63-4bf8-4ed0-a675-372a44d60d5f",
   "metadata": {
    "tags": []
   },
   "source": [
    "# Get inputs"
   ]
  },
  {
   "cell_type": "code",
   "execution_count": 2,
   "id": "2c317d4c-42ed-4d58-b1ed-c9be5cca037d",
   "metadata": {},
   "outputs": [],
   "source": [
    "#with open(\"test_input.txt\") as f:\n",
    "with open(\"input.txt\") as f:\n",
    "    inp = f.readlines()\n",
    "    inp = [line.rstrip() for line in inp]"
   ]
  },
  {
   "cell_type": "markdown",
   "id": "9d0aa6d0-c00f-4587-894b-b85e59098257",
   "metadata": {},
   "source": [
    "## Q1"
   ]
  },
  {
   "cell_type": "code",
   "execution_count": 3,
   "id": "4c7682a0",
   "metadata": {},
   "outputs": [],
   "source": [
    "cleaned = [x.split(' | ') for x in inp]\n",
    "outputs = [x[1].split(' ') for x in cleaned]\n",
    "outputs = [[len(x) for x in group] for group in outputs]\n",
    "#outputs"
   ]
  },
  {
   "cell_type": "code",
   "execution_count": 4,
   "id": "fef8649a",
   "metadata": {},
   "outputs": [],
   "source": [
    "c = Counter(x for xs in outputs for x in xs)"
   ]
  },
  {
   "cell_type": "code",
   "execution_count": 5,
   "id": "3bcd5105",
   "metadata": {},
   "outputs": [
    {
     "data": {
      "text/plain": [
       "245"
      ]
     },
     "execution_count": 5,
     "metadata": {},
     "output_type": "execute_result"
    }
   ],
   "source": [
    "# 1      4      7      8\n",
    "c[2] + c[4] + c[3] + c[7]"
   ]
  },
  {
   "cell_type": "code",
   "execution_count": 6,
   "id": "b323b949",
   "metadata": {},
   "outputs": [
    {
     "name": "stdout",
     "output_type": "stream",
     "text": [
      "Part 1: 245\n"
     ]
    }
   ],
   "source": [
    "print(f\"Part 1: {c[2] + c[4] + c[3] + c[7]}\")"
   ]
  },
  {
   "cell_type": "markdown",
   "id": "686ade79-8415-43b8-8157-a0fa817c1d01",
   "metadata": {
    "tags": []
   },
   "source": [
    "## Q2"
   ]
  },
  {
   "cell_type": "code",
   "execution_count": 7,
   "id": "6df2c76a-0009-40cf-82c8-42a7c0d97ffd",
   "metadata": {},
   "outputs": [
    {
     "data": {
      "text/plain": [
       "[['badf',\n",
       "  'gadfec',\n",
       "  'bgcad',\n",
       "  'ad',\n",
       "  'dbcfg',\n",
       "  'gcaeb',\n",
       "  'fecdgab',\n",
       "  'gad',\n",
       "  'bgcadf',\n",
       "  'efcdgb'],\n",
       " ['gcadb', 'ad', 'agd', 'deacfg']]"
      ]
     },
     "execution_count": 7,
     "metadata": {},
     "output_type": "execute_result"
    }
   ],
   "source": [
    "cleaned = [x.split(' | ') for x in inp]\n",
    "split = [[x.split(' ') for x in group] for group in cleaned]\n",
    "#outputs = [[len(x) for x in group] for group in outputs]\n",
    "split[0]"
   ]
  },
  {
   "cell_type": "code",
   "execution_count": 8,
   "id": "115c0d7c",
   "metadata": {},
   "outputs": [
    {
     "name": "stdout",
     "output_type": "stream",
     "text": [
      "total=983026\n",
      "CPU times: user 10.3 ms, sys: 112 µs, total: 10.5 ms\n",
      "Wall time: 10 ms\n"
     ]
    }
   ],
   "source": [
    "%%time\n",
    "outlist = []\n",
    "for i, sp in enumerate(split):\n",
    "    outlist.append([])\n",
    "    tmp = {x:None for x in range(9)}\n",
    "    for group in sp:\n",
    "        for x in group:\n",
    "            if len(x) == 3:\n",
    "                tmp[7] = x\n",
    "            elif len(x) == 4:\n",
    "                tmp[4] = x\n",
    "            elif len(x) == 7:\n",
    "                tmp[8] = x\n",
    "            elif len(x) == 2:\n",
    "                tmp[1] = x\n",
    "    \n",
    "    for group in sp:\n",
    "        for x in group:\n",
    "            if len(x) == 5:\n",
    "                # check if 3\n",
    "                cnt = 0\n",
    "                for char in tmp[7]:\n",
    "                    if char in x:\n",
    "                        cnt += 1\n",
    "                if cnt == 3:\n",
    "                    tmp[3] = x\n",
    "                    continue\n",
    "                # check if 2\n",
    "                cnt = 0\n",
    "                for char in tmp[4]:\n",
    "                    if char in x:\n",
    "                        cnt += 1\n",
    "                if cnt == 2:\n",
    "                    tmp[2] = x\n",
    "                    continue\n",
    "                # must be 5\n",
    "                if cnt == 3:\n",
    "                    tmp[5] = x\n",
    "                    continue\n",
    "            if len(x) == 6:\n",
    "                # check if 6\n",
    "                cnt = 0\n",
    "                for char in tmp[7]:\n",
    "                    if char in x:\n",
    "                        cnt += 1\n",
    "                if cnt != 3:\n",
    "                    tmp[6] = x\n",
    "                    continue\n",
    "                # check if 9\n",
    "                else:\n",
    "                    cnt = 0\n",
    "                    for char in tmp[4]:\n",
    "                        if char in x:\n",
    "                            cnt += 1\n",
    "                    if cnt == 4:\n",
    "                        tmp[9] = x\n",
    "                        continue\n",
    "                    # must be 0\n",
    "                    elif cnt == 3:\n",
    "                        tmp[0] = x\n",
    "                        continue\n",
    "    for out in sp[1]:\n",
    "        for num, str in tmp.items():\n",
    "            if sorted(out) == sorted(str):\n",
    "                outlist[i].append(num)\n",
    "    \n",
    "    #print(tmp)\n",
    "#print(outlist)\n",
    "del str\n",
    "total = 0\n",
    "for group in outlist:\n",
    "    n = int(''.join(list(map(str,group))))\n",
    "    total += n\n",
    "print(f\"{total=}\")"
   ]
  },
  {
   "cell_type": "code",
   "execution_count": 9,
   "id": "b323b949",
   "metadata": {},
   "outputs": [
    {
     "name": "stdout",
     "output_type": "stream",
     "text": [
      "Part 2: 983026\n"
     ]
    }
   ],
   "source": [
    "print(f\"Part 2: {total}\")"
   ]
  }
 ],
 "metadata": {
  "kernelspec": {
   "display_name": "Python 3 (ipykernel)",
   "language": "python",
   "name": "python3"
  },
  "language_info": {
   "codemirror_mode": {
    "name": "ipython",
    "version": 3
   },
   "file_extension": ".py",
   "mimetype": "text/x-python",
   "name": "python",
   "nbconvert_exporter": "python",
   "pygments_lexer": "ipython3",
   "version": "3.8.12"
  }
 },
 "nbformat": 4,
 "nbformat_minor": 5
}
