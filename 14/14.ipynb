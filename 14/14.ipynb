{
 "cells": [
  {
   "cell_type": "code",
   "execution_count": 1,
   "id": "0a8f2752",
   "metadata": {},
   "outputs": [],
   "source": [
    "from collections import Counter, defaultdict"
   ]
  },
  {
   "cell_type": "markdown",
   "id": "76c68a63-4bf8-4ed0-a675-372a44d60d5f",
   "metadata": {
    "tags": []
   },
   "source": [
    "# Get inputs"
   ]
  },
  {
   "cell_type": "code",
   "execution_count": 2,
   "id": "2c317d4c-42ed-4d58-b1ed-c9be5cca037d",
   "metadata": {},
   "outputs": [],
   "source": [
    "#with open(\"test_input.txt\") as f:\n",
    "with open(\"input.txt\") as f:\n",
    "    inp = f.readlines()\n",
    "    inp = [line.rstrip() for line in inp]"
   ]
  },
  {
   "cell_type": "code",
   "execution_count": 3,
   "id": "b85d46f1",
   "metadata": {},
   "outputs": [],
   "source": [
    "template = inp[0]\n",
    "#template"
   ]
  },
  {
   "cell_type": "code",
   "execution_count": 4,
   "id": "3ab2c403",
   "metadata": {},
   "outputs": [],
   "source": [
    "rules = {y[0]:y[1] for y in [x.split(\" -> \") for x in inp[2:]]}\n",
    "#rules"
   ]
  },
  {
   "cell_type": "markdown",
   "id": "9d0aa6d0-c00f-4587-894b-b85e59098257",
   "metadata": {},
   "source": [
    "## Q1"
   ]
  },
  {
   "cell_type": "code",
   "execution_count": 5,
   "id": "36c23300",
   "metadata": {},
   "outputs": [
    {
     "data": {
      "text/plain": [
       "2223"
      ]
     },
     "execution_count": 5,
     "metadata": {},
     "output_type": "execute_result"
    }
   ],
   "source": [
    "template_ = template\n",
    "for i in range(10):\n",
    "    tmp = \"\"\n",
    "    for loc,j in enumerate(template_[:-1]):\n",
    "        tmp += j\n",
    "        tmp += rules[j+template_[loc+1]]\n",
    "    tmp += template_[-1]\n",
    "    template_ = tmp\n",
    "\n",
    "\n",
    "c = Counter(template_)\n",
    "max(c.values()) - min(c.values())"
   ]
  },
  {
   "cell_type": "markdown",
   "id": "686ade79-8415-43b8-8157-a0fa817c1d01",
   "metadata": {
    "tags": []
   },
   "source": [
    "## Q2"
   ]
  },
  {
   "cell_type": "code",
   "execution_count": 6,
   "id": "44fabe4e",
   "metadata": {},
   "outputs": [
    {
     "name": "stdout",
     "output_type": "stream",
     "text": [
      "1.82 ms ± 18.5 µs per loop (mean ± std. dev. of 7 runs, 100 loops each)\n"
     ]
    }
   ],
   "source": [
    "%%timeit\n",
    "# initial pair counts\n",
    "pairs = defaultdict(int)\n",
    "for i,x in enumerate(template[:-1]):\n",
    "    pairs[x+template[i+1]] += 1\n",
    "\n",
    "# initial individual character counts\n",
    "individuals = defaultdict(int)\n",
    "for x in template:\n",
    "    individuals[x] += 1\n",
    "\n",
    "for i in range(40):\n",
    "    tmp_pairs = defaultdict(int)\n",
    "    for k,v in pairs.items():\n",
    "        # add the new insertion to the individual counts v times\n",
    "        ins = rules[k]\n",
    "        individuals[ins] += v\n",
    "        \n",
    "        # get the 2 new resulting pairs\n",
    "        tmp_pairs[k[0]+ins] += v\n",
    "        tmp_pairs[ins+k[1]] += v\n",
    "\n",
    "    pairs = tmp_pairs\n",
    "\n",
    "max(individuals.values()) - min(individuals.values())"
   ]
  }
 ],
 "metadata": {
  "kernelspec": {
   "display_name": "Python 3 (ipykernel)",
   "language": "python",
   "name": "python3"
  },
  "language_info": {
   "codemirror_mode": {
    "name": "ipython",
    "version": 3
   },
   "file_extension": ".py",
   "mimetype": "text/x-python",
   "name": "python",
   "nbconvert_exporter": "python",
   "pygments_lexer": "ipython3",
   "version": "3.8.12"
  }
 },
 "nbformat": 4,
 "nbformat_minor": 5
}
