{
 "cells": [
  {
   "cell_type": "code",
   "execution_count": 1,
   "id": "2c317d4c-42ed-4d58-b1ed-c9be5cca037d",
   "metadata": {},
   "outputs": [],
   "source": [
    "with open(\"02.txt\") as f:\n",
    "    ls = f.readlines()\n",
    "    ls = [line.rstrip() for line in ls]"
   ]
  },
  {
   "cell_type": "code",
   "execution_count": 2,
   "id": "6cb19e48-717b-496b-a80a-eb61fc0699da",
   "metadata": {},
   "outputs": [
    {
     "data": {
      "text/plain": [
       "['forward 1', 'down 3', 'down 2', 'up 1', 'down 7']"
      ]
     },
     "execution_count": 2,
     "metadata": {},
     "output_type": "execute_result"
    }
   ],
   "source": [
    "ls[:5]"
   ]
  },
  {
   "cell_type": "code",
   "execution_count": 3,
   "id": "2272c363-3019-4139-876b-b648f42677d1",
   "metadata": {},
   "outputs": [],
   "source": [
    "x = [\"forward 5\",\"down 5\",\"forward 8\",\"up 3\",\"down 8\",\"forward 2\"]"
   ]
  },
  {
   "cell_type": "code",
   "execution_count": 4,
   "id": "ebb60181-c7a3-4eca-a7a6-3a5728331337",
   "metadata": {},
   "outputs": [
    {
     "data": {
      "text/plain": [
       "True"
      ]
     },
     "execution_count": 4,
     "metadata": {},
     "output_type": "execute_result"
    }
   ],
   "source": [
    "\"up\" in x[3]"
   ]
  },
  {
   "cell_type": "code",
   "execution_count": 5,
   "id": "99d0d1d7-7369-4add-9e08-bca38c872b67",
   "metadata": {},
   "outputs": [
    {
     "data": {
      "text/plain": [
       "3"
      ]
     },
     "execution_count": 5,
     "metadata": {},
     "output_type": "execute_result"
    }
   ],
   "source": [
    "int(x[3].replace(\"up\", \"\"))"
   ]
  },
  {
   "cell_type": "markdown",
   "id": "9d0aa6d0-c00f-4587-894b-b85e59098257",
   "metadata": {},
   "source": [
    "## Q1"
   ]
  },
  {
   "cell_type": "code",
   "execution_count": 6,
   "id": "4e1a8a9a-494d-4214-bca2-9570b3dc22f8",
   "metadata": {},
   "outputs": [
    {
     "name": "stdout",
     "output_type": "stream",
     "text": [
      "1931 953 1840243\n"
     ]
    }
   ],
   "source": [
    "hz = 0\n",
    "dp = 0\n",
    "\n",
    "for line in ls:\n",
    "    #print(last, line)\n",
    "    if \"forward\" in line:\n",
    "        hz += int(line.replace(\"forward\", \"\"))\n",
    "    elif \"down\" in line:\n",
    "        dp += int(line.replace(\"down\", \"\"))\n",
    "    else:\n",
    "        dp -= int(line.replace(\"up\", \"\"))\n",
    "print(hz, dp, hz*dp)"
   ]
  },
  {
   "cell_type": "code",
   "execution_count": 7,
   "id": "b323b949",
   "metadata": {},
   "outputs": [
    {
     "name": "stdout",
     "output_type": "stream",
     "text": [
      "Part 1: 1840243\n"
     ]
    }
   ],
   "source": [
    "print(f\"Part 1: {hz*dp}\")"
   ]
  },
  {
   "cell_type": "markdown",
   "id": "686ade79-8415-43b8-8157-a0fa817c1d01",
   "metadata": {},
   "source": [
    "## Q2"
   ]
  },
  {
   "cell_type": "code",
   "execution_count": 8,
   "id": "ea449ed4-2f28-49d3-a1f6-8c602bdce2e6",
   "metadata": {},
   "outputs": [
    {
     "name": "stdout",
     "output_type": "stream",
     "text": [
      "aim=953, dp=894762, hz=1931, hz*dp=1727785422\n"
     ]
    }
   ],
   "source": [
    "aim = 0\n",
    "hz = 0\n",
    "dp = 0\n",
    "\n",
    "for line in ls:\n",
    "    #print(last, line)\n",
    "    if \"forward\" in line:\n",
    "        hz += int(line.replace(\"forward\", \"\"))\n",
    "        dp += aim * int(line.replace(\"forward\", \"\"))\n",
    "    elif \"down\" in line:\n",
    "        aim += int(line.replace(\"down\", \"\"))\n",
    "    else:\n",
    "        aim -= int(line.replace(\"up\", \"\"))\n",
    "print(f\"{aim=}, {dp=}, {hz=}, {hz*dp=}\")"
   ]
  },
  {
   "cell_type": "code",
   "execution_count": 9,
   "id": "b323b949",
   "metadata": {},
   "outputs": [
    {
     "name": "stdout",
     "output_type": "stream",
     "text": [
      "Part 2: 1727785422\n"
     ]
    }
   ],
   "source": [
    "print(f\"Part 2: {hz*dp}\")"
   ]
  }
 ],
 "metadata": {
  "kernelspec": {
   "display_name": "Python 3 (ipykernel)",
   "language": "python",
   "name": "python3"
  },
  "language_info": {
   "codemirror_mode": {
    "name": "ipython",
    "version": 3
   },
   "file_extension": ".py",
   "mimetype": "text/x-python",
   "name": "python",
   "nbconvert_exporter": "python",
   "pygments_lexer": "ipython3",
   "version": "3.8.12"
  }
 },
 "nbformat": 4,
 "nbformat_minor": 5
}
