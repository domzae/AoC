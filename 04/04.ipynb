{
 "cells": [
  {
   "cell_type": "code",
   "execution_count": 1,
   "id": "ae95476a-30ff-4d39-aeaf-a13debceddab",
   "metadata": {},
   "outputs": [],
   "source": [
    "import numpy as np"
   ]
  },
  {
   "cell_type": "markdown",
   "id": "76c68a63-4bf8-4ed0-a675-372a44d60d5f",
   "metadata": {
    "tags": []
   },
   "source": [
    "# Get inputs"
   ]
  },
  {
   "cell_type": "code",
   "execution_count": 2,
   "id": "2c317d4c-42ed-4d58-b1ed-c9be5cca037d",
   "metadata": {},
   "outputs": [],
   "source": [
    "#with open(\"test_input.txt\") as f:\n",
    "with open(\"input.txt\") as f:\n",
    "    inp = f.readlines()\n",
    "    inp = [line.rstrip() for line in inp]"
   ]
  },
  {
   "cell_type": "code",
   "execution_count": 3,
   "id": "b40cd493-2020-44c9-ad03-cfd781f08739",
   "metadata": {
    "tags": []
   },
   "outputs": [],
   "source": [
    "draw = list(map(int,inp[0].split(\",\")))\n",
    "#draw"
   ]
  },
  {
   "cell_type": "code",
   "execution_count": 4,
   "id": "6cb19e48-717b-496b-a80a-eb61fc0699da",
   "metadata": {},
   "outputs": [],
   "source": [
    "all_boards = []\n",
    "tmp_board = []\n",
    "for i, section in enumerate(inp[1:]):\n",
    "    # skip every 5th row\n",
    "    if i % 6 == 0:\n",
    "        continue\n",
    "    \n",
    "    tmp_board.append(list(map(int,section.split())))\n",
    "    if len(tmp_board) == 5:\n",
    "        all_boards.append(tmp_board)\n",
    "        tmp_board = []\n",
    "all_boards = np.array(all_boards)\n",
    "#all_boards"
   ]
  },
  {
   "cell_type": "markdown",
   "id": "9d0aa6d0-c00f-4587-894b-b85e59098257",
   "metadata": {},
   "source": [
    "## Q1"
   ]
  },
  {
   "cell_type": "code",
   "execution_count": 5,
   "id": "22b1ba28-8409-4e99-8c2a-92fc2e43a66f",
   "metadata": {},
   "outputs": [],
   "source": [
    "def check_bingo(boards):\n",
    "    for board_num, board in enumerate(boards):\n",
    "        # check rows\n",
    "        for row in board:\n",
    "            if np.isnan(row).all():\n",
    "                return board_num\n",
    "            \n",
    "        # check columns\n",
    "        for column in board.T:\n",
    "            if np.isnan(column).all():\n",
    "                return board_num\n",
    "        # check diagonals\n",
    "        if np.isnan(board.diagonal()).all():\n",
    "            return board_num\n",
    "        if np.isnan(np.fliplr(all_boards[0]).diagonal()).all():\n",
    "            return board_num\n",
    "    \n",
    "    return None\n",
    "    #"
   ]
  },
  {
   "cell_type": "code",
   "execution_count": 6,
   "id": "4e1a8a9a-494d-4214-bca2-9570b3dc22f8",
   "metadata": {},
   "outputs": [],
   "source": [
    "def play_bingo(seq):\n",
    "    boards = all_boards.copy()\n",
    "    for num in seq:\n",
    "        # replace draw with nan\n",
    "        boards = np.where(boards==num, np.nan, boards)\n",
    "\n",
    "        # check for bingo\n",
    "        winner = check_bingo(boards)\n",
    "        if winner is not None:\n",
    "            # sum ignoring nan, multiplied by current draw\n",
    "            return np.nansum(boards[winner]) * num\n",
    "        \n",
    "    return \"No winner\""
   ]
  },
  {
   "cell_type": "code",
   "execution_count": 7,
   "id": "b323b949",
   "metadata": {},
   "outputs": [
    {
     "name": "stdout",
     "output_type": "stream",
     "text": [
      "Part 1: 21607.0\n"
     ]
    }
   ],
   "source": [
    "print(f\"Part 1: {play_bingo(draw)}\")"
   ]
  },
  {
   "cell_type": "markdown",
   "id": "686ade79-8415-43b8-8157-a0fa817c1d01",
   "metadata": {
    "tags": []
   },
   "source": [
    "## Q2"
   ]
  },
  {
   "cell_type": "code",
   "execution_count": 8,
   "id": "e4466ec2-d7d6-43ff-bd28-4bdd5e80546e",
   "metadata": {},
   "outputs": [],
   "source": [
    "def check_bingo2(boards):\n",
    "    winners = []\n",
    "    for board_num, board in enumerate(boards):\n",
    "        # check rows\n",
    "        cont = False\n",
    "        for row in board:\n",
    "            if np.isnan(row).all() and board_num not in winners:\n",
    "                winners.append(board_num)\n",
    "        \n",
    "        # check columns\n",
    "        for column in board.T:\n",
    "            if np.isnan(column).all() and board_num not in winners:\n",
    "                winners.append(board_num)\n",
    "                \n",
    "        # check diagonals\n",
    "        if np.isnan(board.diagonal()).all() and board_num not in winners:\n",
    "            winners.append(board_num)\n",
    "            continue\n",
    "        if np.isnan(np.fliplr(all_boards[0]).diagonal()).all() and board_num not in winners:\n",
    "            winners.append(board_num)\n",
    "            continue\n",
    "    \n",
    "    return None if winners == [] else winners\n",
    "    #"
   ]
  },
  {
   "cell_type": "code",
   "execution_count": 9,
   "id": "caa50b8a-8fd0-4a18-add7-ed7498fff5c3",
   "metadata": {},
   "outputs": [],
   "source": [
    "def play_bingo2(seq):\n",
    "    boards = all_boards.copy()\n",
    "    for num in seq:\n",
    "        # replace draw with nan\n",
    "        boards = np.where(boards==num, np.nan, boards)\n",
    "\n",
    "        # check for bingo\n",
    "        winner = check_bingo2(boards)\n",
    "        # print(winner, len(boards))\n",
    "        if winner is not None:\n",
    "            # sum ignoring nan, multiplied by current draw\n",
    "            if (len(boards) == 1) or (num == seq[-1]):\n",
    "                print(boards[winner])\n",
    "                return np.nansum(boards[winner]) * num\n",
    "            else:\n",
    "                for to_del in winner[::-1]:\n",
    "                    boards = np.delete(boards, to_del, axis=0)\n",
    "        \n",
    "    return \"No winner\""
   ]
  },
  {
   "cell_type": "code",
   "execution_count": 11,
   "id": "6ec3998b-1ee9-40e3-aa6e-4e41a6d514ea",
   "metadata": {},
   "outputs": [
    {
     "name": "stdout",
     "output_type": "stream",
     "text": [
      "[[[nan nan 56. nan nan]\n",
      "  [36. 57. nan nan 77.]\n",
      "  [nan nan 35. nan nan]\n",
      "  [82. nan nan nan nan]\n",
      "  [45. nan nan nan nan]]]\n",
      "Part 2: 19012.0\n"
     ]
    }
   ],
   "source": [
    "print(f\"Part 2: {play_bingo2(draw)}\")"
   ]
  }
 ],
 "metadata": {
  "kernelspec": {
   "display_name": "Python 3 (ipykernel)",
   "language": "python",
   "name": "python3"
  },
  "language_info": {
   "codemirror_mode": {
    "name": "ipython",
    "version": 3
   },
   "file_extension": ".py",
   "mimetype": "text/x-python",
   "name": "python",
   "nbconvert_exporter": "python",
   "pygments_lexer": "ipython3",
   "version": "3.8.12"
  }
 },
 "nbformat": 4,
 "nbformat_minor": 5
}
