{
 "cells": [
  {
   "cell_type": "code",
   "execution_count": 1,
   "metadata": {},
   "outputs": [],
   "source": [
    "from functools import reduce\n",
    "import numpy as np\n",
    "import pandas as pd\n",
    "import requests\n",
    "from bs4 import BeautifulSoup\n",
    "import os"
   ]
  },
  {
   "cell_type": "markdown",
   "metadata": {},
   "source": [
    "#### Get input as {key: value} pairs"
   ]
  },
  {
   "cell_type": "code",
   "execution_count": 2,
   "metadata": {},
   "outputs": [
    {
     "data": {
      "text/plain": [
       "\"P#qw:#/Vq:q-(.'qk iquq? V:Sq#Tq#!:nq wq!/ ,q/. eqd qss:q/ dqè. so)q. eq!?:-rà/:#eqwu#?q wq\\\\/:,/ dqV?o!  Tqàààw?#\""
      ]
     },
     "execution_count": 2,
     "metadata": {},
     "output_type": "execute_result"
    }
   ],
   "source": [
    "with open(\"input.txt\") as f:\n",
    "    inp = f.readlines()\n",
    "inp = {int(sp[0]):sp[1].strip() for sp in [line.split(\": \") for line in inp]}\n",
    "inp[507]"
   ]
  },
  {
   "cell_type": "markdown",
   "metadata": {},
   "source": [
    "#### Generate cookies"
   ]
  },
  {
   "cell_type": "code",
   "execution_count": 3,
   "metadata": {},
   "outputs": [],
   "source": [
    "try:\n",
    "    with open(\"cookies.txt\") as f:\n",
    "        cookies = f.readlines()\n",
    "        cookies_dict = {cookies[0].strip(): cookies[1]}\n",
    "        \n",
    "    cookies_dict\n",
    "except FileNotFoundError:\n",
    "    print(\"Generate your own cookies! (cookies.txt)\")"
   ]
  },
  {
   "cell_type": "code",
   "execution_count": 4,
   "metadata": {},
   "outputs": [
    {
     "data": {
      "text/plain": [
       "'JamesWordie - Batch #523 London'"
      ]
     },
     "execution_count": 4,
     "metadata": {},
     "output_type": "execute_result"
    }
   ],
   "source": [
    "def scrape_key(sender_identifier):\n",
    "    \"\"\"Uses html files if they exist, otherwise scrapes website\n",
    "    to collect the decryption keys and user info\"\"\"\n",
    "    \n",
    "    if os.path.exists(f\"html_files/{sender_identifier}.html\"):\n",
    "        with open(f\"html_files/{sender_identifier}.html\") as f:\n",
    "            soup = BeautifulSoup(f, \"html.parser\")\n",
    "            \n",
    "    else:\n",
    "        url = \"https://aoc.lewagon.community/stats/users/\" + str(sender_identifier)\n",
    "        \n",
    "        html = requests.get(url, cookies=cookies_dict).content\n",
    "        soup = BeautifulSoup(html, \"html.parser\")\n",
    "        html = soup.prettify(\"utf-8\")\n",
    "        with open(f\"html_files/{sender_identifier}.html\", \"wb\") as file:\n",
    "            file.write(html)\n",
    "\n",
    "    # Find name\n",
    "    \n",
    "    h2 = soup.find_all(\"h2\", class_=\"text-lg strong text-center\")\n",
    "    info = f'{h2[0].text.strip()} - {h2[1].find(\"a\").text.strip()} {h2[2].find(\"a\").text.strip()}'\n",
    "    \n",
    "    # Get decryption key\n",
    "    table = soup.find_all('table')\n",
    "    df = pd.read_html(str(table))[0]\n",
    "    part2 = df['–––––– Part 2 ––––––']['Rank']\n",
    "    \n",
    "    decryption_key = list(part2.replace(\"–\", -1).astype(int))\n",
    "    return info, decryption_key\n",
    "\n",
    "info, decryption_key = scrape_key(549)\n",
    "info"
   ]
  },
  {
   "cell_type": "markdown",
   "metadata": {},
   "source": [
    "# Part 1"
   ]
  },
  {
   "cell_type": "code",
   "execution_count": 5,
   "metadata": {},
   "outputs": [
    {
     "data": {
      "text/plain": [
       "9913814436643373168640000000"
      ]
     },
     "execution_count": 5,
     "metadata": {},
     "output_type": "execute_result"
    }
   ],
   "source": [
    "_, key = scrape_key(1)\n",
    "prod_dec_key = reduce(lambda x,y: x*y, key)\n",
    "prod_dec_key"
   ]
  },
  {
   "cell_type": "markdown",
   "metadata": {},
   "source": [
    "# Part 2"
   ]
  },
  {
   "cell_type": "code",
   "execution_count": 6,
   "metadata": {},
   "outputs": [
    {
     "data": {
      "text/plain": [
       "3736562624"
      ]
     },
     "execution_count": 6,
     "metadata": {},
     "output_type": "execute_result"
    }
   ],
   "source": [
    "def get_cipher(sender_identifier, decryption_key):\n",
    "    \"\"\"Product of all decryption key elements,\n",
    "    add or subtract sender_identifier,\n",
    "    use every 3rd character\"\"\"\n",
    "    \n",
    "    cipher = reduce(lambda x,y: x*y, decryption_key)\n",
    "    \n",
    "    if sender_identifier % 2 == 0:\n",
    "        cipher += sender_identifier\n",
    "    else:\n",
    "        cipher -= sender_identifier\n",
    "    \n",
    "    cipher = int(str(abs(cipher))[0::3])\n",
    "    \n",
    "    return cipher\n",
    "\n",
    "get_cipher(549, decryption_key)"
   ]
  },
  {
   "cell_type": "code",
   "execution_count": 7,
   "metadata": {},
   "outputs": [
    {
     "data": {
      "text/plain": [
       "'dcbae'"
      ]
     },
     "execution_count": 7,
     "metadata": {},
     "output_type": "execute_result"
    }
   ],
   "source": [
    "def process_ternary(ternary: str, message):\n",
    "    \"\"\"Uses the ternary number to organize the message\"\"\"\n",
    "    \n",
    "    message = list(message)\n",
    "    for i,c in enumerate(ternary[::-1]):\n",
    "        if c == '1':\n",
    "            # shift left\n",
    "            message.append(message.pop(0))\n",
    "        elif c == '2':\n",
    "            # shift right\n",
    "            message = list(np.roll(message, int('1'+'0'*i,3)))\n",
    "        else:\n",
    "            # reverse\n",
    "            message = message[::-1]\n",
    "    \n",
    "    return ''.join(message)\n",
    "\n",
    "process_ternary('1201', \"abcde\")"
   ]
  },
  {
   "cell_type": "code",
   "execution_count": 8,
   "metadata": {},
   "outputs": [
    {
     "data": {
      "text/plain": [
       "'1201'"
      ]
     },
     "execution_count": 8,
     "metadata": {},
     "output_type": "execute_result"
    }
   ],
   "source": [
    "def get_ternary(cipher):\n",
    "    \"\"\"Converts integer to ternary\"\"\"\n",
    "    \n",
    "    return np.base_repr(cipher,base=3)\n",
    "\n",
    "get_ternary(46)"
   ]
  },
  {
   "cell_type": "markdown",
   "metadata": {},
   "source": [
    "### Generate the rudolphabet from the supplied lyrics"
   ]
  },
  {
   "cell_type": "code",
   "execution_count": 9,
   "metadata": {},
   "outputs": [],
   "source": [
    "# Rudolphabet\n",
    "lyrics = \"\"\"You know Dasher, and Dancer, and\n",
    "Prancer, and Vixen,\n",
    "Comet, and Cupid, and\n",
    "Donder and Blitzen\n",
    "But do you recall\n",
    "The most famous reindeer of all\n",
    "\n",
    "Rudolph, the red-nosed reindeer\n",
    "had a very shiny nose\n",
    "and if you ever saw it\n",
    "you would even say it glows.\n",
    "\n",
    "All of the other reindeer\n",
    "used to laugh and call him names\n",
    "They never let poor Rudolph\n",
    "play in any reindeer games.\n",
    "\n",
    "Then one foggy Christmas eve\n",
    "Santa came to say:\n",
    "\"Rudolph with your nose so bright,\n",
    "won't you guide my sleigh tonight?\"\n",
    "\n",
    "Then all the reindeer loved him\n",
    "as they shouted out with glee,\n",
    "Rudolph the red-nosed reindeer,\n",
    "you'll go down in history!\"\"\"\n",
    "standard = \"ABCDEFGHIJKLMNOPQRSTUVWXYZabcdefghijklmnopqrstuvwxyz\"\n",
    "extras = \"Çàéè0123456789 .!?,;:'-#/\\()\""
   ]
  },
  {
   "cell_type": "code",
   "execution_count": 10,
   "metadata": {},
   "outputs": [
    {
     "data": {
      "text/plain": [
       "\"YouknwDasherdcPVixCmtpBlzyTfRvgASbEFGHIJKLMNOQUWXZjqÇàéè0123456789 .!?,;:'-#/\\\\()\""
      ]
     },
     "execution_count": 10,
     "metadata": {},
     "output_type": "execute_result"
    }
   ],
   "source": [
    "# Generate rudolphabet\n",
    "rudolphabet = \"\"\n",
    "for c in lyrics:\n",
    "    if c not in rudolphabet and c in standard:\n",
    "        rudolphabet += c\n",
    "\n",
    "for c in standard:\n",
    "    if c not in rudolphabet:\n",
    "        rudolphabet += c\n",
    "\n",
    "rudolphabet += extras\n",
    "rudolphabet"
   ]
  },
  {
   "cell_type": "code",
   "execution_count": 11,
   "metadata": {},
   "outputs": [
    {
     "data": {
      "text/plain": [
       "[2, 23]"
      ]
     },
     "execution_count": 11,
     "metadata": {},
     "output_type": "execute_result"
    }
   ],
   "source": [
    "def get_prime_factors(cipher):\n",
    "    \"\"\"Returns a list of prime factors from an integer\"\"\"\n",
    "    i = 2\n",
    "    factors = []\n",
    "    while i * i <= cipher:\n",
    "        if cipher % i:\n",
    "            i += 1\n",
    "        else:\n",
    "            cipher //= i\n",
    "            factors.append(i)\n",
    "    if cipher > 1:\n",
    "        factors.append(cipher)\n",
    "        \n",
    "    return factors\n",
    "\n",
    "get_prime_factors(46)"
   ]
  },
  {
   "cell_type": "code",
   "execution_count": 12,
   "metadata": {},
   "outputs": [
    {
     "data": {
      "text/plain": [
       "80"
      ]
     },
     "execution_count": 12,
     "metadata": {},
     "output_type": "execute_result"
    }
   ],
   "source": [
    "len(rudolphabet)"
   ]
  },
  {
   "cell_type": "code",
   "execution_count": 13,
   "metadata": {},
   "outputs": [
    {
     "data": {
      "text/plain": [
       "'S2IHF'"
      ]
     },
     "execution_count": 13,
     "metadata": {},
     "output_type": "execute_result"
    }
   ],
   "source": [
    "def decipher(factors, message):\n",
    "    \"\"\"Uses Caesar cipher and the rudolphabet to decipher message\"\"\"\n",
    "    shift = sum(factors)\n",
    "    if len(factors) == 1:\n",
    "        shift += 5\n",
    "        \n",
    "    length = len(rudolphabet)\n",
    "    while shift >= length:\n",
    "        shift -= length\n",
    "        \n",
    "    shifted_rudolphabet = rudolphabet[shift:] + rudolphabet[:shift]\n",
    "\n",
    "    return message.translate(str.maketrans(rudolphabet, shifted_rudolphabet))\n",
    "\n",
    "decipher([2, 23], \"abcde\")"
   ]
  },
  {
   "cell_type": "code",
   "execution_count": 18,
   "metadata": {},
   "outputs": [],
   "source": [
    "def part_2(inp):\n",
    "    \"\"\"Loops over each input and executes required functions.\n",
    "    Returns dictionary with sender info and decrypted message\"\"\"\n",
    "    \n",
    "    results = {}\n",
    "    for sender_identifier, message in inp.items():\n",
    "        \n",
    "        info, decryption_key = scrape_key(sender_identifier)\n",
    "        print(f\"{decryption_key=}\")\n",
    "        \n",
    "        cipher = get_cipher(sender_identifier, decryption_key)\n",
    "        print(f\"{cipher=}\")\n",
    "        \n",
    "        ternary = get_ternary(cipher)\n",
    "        print(f\"{ternary=}\")\n",
    "        \n",
    "        new_message = process_ternary(ternary, message)\n",
    "        print(f\"{new_message=}\")\n",
    "        \n",
    "        factors = get_prime_factors(cipher)\n",
    "        print(f\"{factors=}\")\n",
    "        \n",
    "        result = decipher(factors, new_message)\n",
    "        print(f\"{result=}\")\n",
    "        \n",
    "        results[info] = result\n",
    "        \n",
    "    return results"
   ]
  },
  {
   "cell_type": "code",
   "execution_count": 15,
   "metadata": {},
   "outputs": [],
   "source": [
    "out = part_2(inp)"
   ]
  },
  {
   "cell_type": "markdown",
   "metadata": {},
   "source": [
    "### Write results to file"
   ]
  },
  {
   "cell_type": "code",
   "execution_count": 16,
   "metadata": {},
   "outputs": [],
   "source": [
    "with open(\"out.txt\", \"w\") as file:\n",
    "    for k,v in out.items():\n",
    "        file.write(f\"{k}\\n>>> {v}\\n---\\n\")\n"
   ]
  },
  {
   "cell_type": "markdown",
   "metadata": {},
   "source": []
  },
  {
   "cell_type": "code",
   "execution_count": 19,
   "metadata": {},
   "outputs": [
    {
     "name": "stdout",
     "output_type": "stream",
     "text": [
      "decryption_key=[-1, -1, -1, -1, -1, -1, -1, -1, -1, -1, -1, -1, -1, -1, 68, 110, 95, 90, 110, 101, 80, 84, 80, 98, 72]\n",
      "cipher=25374397\n",
      "ternary='1202202011010111'\n",
      "new_message=\"#(?u:-jm:aX/(w78ÇXu#uX.(u;Xu;:oX? -X,u?aX( Xu78#;ZXs;:X.7'9Xa78Xk8uX( u7X7'd? (D( dXu;(,Xh7'X8,X(,Xd':?uwaX?kk':\"\n",
      "factors=[1867, 13591]\n",
      "result='ciated!Hey Pilou, tct with them and stay in touch. The work you put into organizing this for us is greatly appre'\n"
     ]
    },
    {
     "data": {
      "text/plain": [
       "{'ThomasGerleve - Batch #736 Cologne': 'ciated!Hey Pilou, tct with them and stay in touch. The work you put into organizing this for us is greatly appre'}"
      ]
     },
     "execution_count": 19,
     "metadata": {},
     "output_type": "execute_result"
    }
   ],
   "source": [
    "part_2({323: inp[323]})"
   ]
  },
  {
   "cell_type": "code",
   "execution_count": null,
   "metadata": {},
   "outputs": [],
   "source": []
  }
 ],
 "metadata": {
  "interpreter": {
   "hash": "6d2218f4c6dd9cfc10bbc638fc24666799ea700594c31426154af67a8105e56e"
  },
  "kernelspec": {
   "display_name": "Python 3.8.12 64-bit ('lewagon_current': pyenv)",
   "language": "python",
   "name": "python3"
  },
  "language_info": {
   "codemirror_mode": {
    "name": "ipython",
    "version": 3
   },
   "file_extension": ".py",
   "mimetype": "text/x-python",
   "name": "python",
   "nbconvert_exporter": "python",
   "pygments_lexer": "ipython3",
   "version": "3.8.12"
  },
  "orig_nbformat": 4
 },
 "nbformat": 4,
 "nbformat_minor": 2
}
