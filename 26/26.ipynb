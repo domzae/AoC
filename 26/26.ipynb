{
 "cells": [
  {
   "cell_type": "code",
   "execution_count": 1,
   "metadata": {},
   "outputs": [],
   "source": [
    "from functools import reduce\n",
    "import numpy as np\n",
    "import pandas as pd\n",
    "import requests\n",
    "from bs4 import BeautifulSoup\n",
    "import os"
   ]
  },
  {
   "cell_type": "code",
   "execution_count": 2,
   "metadata": {},
   "outputs": [
    {
     "data": {
      "text/plain": [
       "\"P#qw:#/Vq:q-(.'qk iquq? V:Sq#Tq#!:nq wq!/ ,q/. eqd qss:q/ dqè. so)q. eq!?:-rà/:#eqwu#?q wq\\\\/:,/ dqV?o!  Tqàààw?#\""
      ]
     },
     "execution_count": 2,
     "metadata": {},
     "output_type": "execute_result"
    }
   ],
   "source": [
    "with open(\"input.txt\") as f:\n",
    "    inp = f.readlines()\n",
    "inp = {int(sp[0]):sp[1].strip() for sp in [line.split(\": \") for line in inp]}\n",
    "inp[507]"
   ]
  },
  {
   "cell_type": "code",
   "execution_count": 3,
   "metadata": {},
   "outputs": [],
   "source": [
    "key = \"\"\"25\t06:05:51\t18\t489\t>24h\t23\t484\n",
    "24\t>24h\t25\t482\t>24h\t23\t484\n",
    "23\t>24h\t38\t469\t>24h\t32\t475\n",
    "22\t>24h\t43\t464\t>24h\t32\t475\n",
    "21\t>24h\t52\t455\t>24h\t35\t472\n",
    "20\t>24h\t43\t464\t>24h\t40\t467\n",
    "19\t>24h\t34\t473\t>24h\t31\t476\n",
    "18\t12:30:32\t31\t476\t12:40:33\t28\t479\n",
    "17\t05:19:04\t35\t472\t05:22:35\t33\t474\n",
    "16\t>24h\t56\t451\t>24h\t49\t458\n",
    "15\t05:12:14\t39\t468\t05:22:51\t36\t471\n",
    "14\t05:08:40\t65\t442\t05:47:39\t51\t456\n",
    "13\t05:09:09\t65\t442\t06:06:14\t67\t440\n",
    "12\t11:47:21\t68\t439\t12:07:42\t63\t444\n",
    "11\t06:52:52\t62\t445\t07:05:24\t62\t445\n",
    "10\t04:44:51\t75\t432\t05:22:33\t77\t430\n",
    "9\t04:55:39\t99\t408\t05:42:23\t70\t437\n",
    "8\t09:25:32\t128\t379\t10:27:03\t103\t404\n",
    "7\t03:07:33\t84\t423\t05:00:59\t108\t399\n",
    "6\t05:20:04\t107\t400\t05:39:41\t84\t423\n",
    "5\t17:23:04\t130\t377\t17:42:49\t126\t381\n",
    "4\t>24h\t156\t351\t>24h\t148\t359\n",
    "3\t09:47:42\t191\t316\t11:23:38\t154\t353\n",
    "2\t03:56:40\t128\t379\t06:45:59\t175\t332\n",
    "1\t11:27:58\t195\t312\t12:17:31\t185\t322\"\"\""
   ]
  },
  {
   "cell_type": "code",
   "execution_count": 4,
   "metadata": {},
   "outputs": [],
   "source": [
    "try:\n",
    "    with open(\"cookies.txt\") as f:\n",
    "        cookies = f.readlines()\n",
    "        cookies_dict = {cookies[0].strip(): cookies[1]}\n",
    "        \n",
    "    cookies_dict\n",
    "except FileNotFoundError:\n",
    "    print(\"Generate your own cookies! (cookies.txt)\")"
   ]
  },
  {
   "cell_type": "code",
   "execution_count": 5,
   "metadata": {},
   "outputs": [
    {
     "data": {
      "text/plain": [
       "'JamesWordie - Batch #523 London'"
      ]
     },
     "execution_count": 5,
     "metadata": {},
     "output_type": "execute_result"
    }
   ],
   "source": [
    "def scrape_key(sender_identifier):\n",
    "    \n",
    "    if os.path.exists(f\"html_files/{sender_identifier}.html\"):\n",
    "        with open(f\"html_files/{sender_identifier}.html\") as f:\n",
    "            soup = BeautifulSoup(f, \"html.parser\")\n",
    "            \n",
    "    else:\n",
    "        url = \"https://aoc.lewagon.community/stats/users/\" + str(sender_identifier)\n",
    "        \n",
    "        html = requests.get(url, cookies=cookies_dict).content\n",
    "        soup = BeautifulSoup(html, \"html.parser\")\n",
    "        html = soup.prettify(\"utf-8\")\n",
    "        with open(f\"html_files/{sender_identifier}.html\", \"wb\") as file:\n",
    "            file.write(html)\n",
    "\n",
    "    # Find name\n",
    "    \n",
    "    h2 = soup.find_all(\"h2\", class_=\"text-lg strong text-center\")\n",
    "    info = f'{h2[0].text.strip()} - {h2[1].find(\"a\").text.strip()} {h2[2].find(\"a\").text.strip()}'\n",
    "    \n",
    "    # Get decryption key\n",
    "    table = soup.find_all('table')\n",
    "    df = pd.read_html(str(table))[0]\n",
    "    part2 = df['–––––– Part 2 ––––––']['Rank']\n",
    "    \n",
    "    decryption_key = list(part2.replace(\"–\", -1).astype(int))\n",
    "    return info, decryption_key\n",
    "\n",
    "info, decryption_key = scrape_key(549)\n",
    "info"
   ]
  },
  {
   "cell_type": "markdown",
   "metadata": {},
   "source": [
    "# Part 1"
   ]
  },
  {
   "cell_type": "code",
   "execution_count": 6,
   "metadata": {},
   "outputs": [
    {
     "data": {
      "text/plain": [
       "9913814436643373168640000000"
      ]
     },
     "execution_count": 6,
     "metadata": {},
     "output_type": "execute_result"
    }
   ],
   "source": [
    "_, key = scrape_key(1)\n",
    "prod_dec_key = reduce(lambda x,y: x*y, key)\n",
    "prod_dec_key"
   ]
  },
  {
   "cell_type": "markdown",
   "metadata": {},
   "source": [
    "# Part 2"
   ]
  },
  {
   "cell_type": "code",
   "execution_count": 7,
   "metadata": {},
   "outputs": [
    {
     "data": {
      "text/plain": [
       "3736562624"
      ]
     },
     "execution_count": 7,
     "metadata": {},
     "output_type": "execute_result"
    }
   ],
   "source": [
    "def get_cipher(sender_identifier, decryption_key):\n",
    "        \n",
    "    cipher = reduce(lambda x,y: x*y, decryption_key)\n",
    "    \n",
    "    if sender_identifier % 2 == 0:\n",
    "        cipher += sender_identifier\n",
    "    else:\n",
    "        cipher -= sender_identifier\n",
    "    \n",
    "    cipher = int(str(abs(cipher))[0::3])\n",
    "    \n",
    "    return cipher\n",
    "\n",
    "get_cipher(549, decryption_key)"
   ]
  },
  {
   "cell_type": "code",
   "execution_count": 8,
   "metadata": {},
   "outputs": [
    {
     "data": {
      "text/plain": [
       "'dcbae'"
      ]
     },
     "execution_count": 8,
     "metadata": {},
     "output_type": "execute_result"
    }
   ],
   "source": [
    "def process_ternary(ternary: str, message):\n",
    "    message = list(message)\n",
    "    \n",
    "    for i,c in enumerate(ternary[::-1]):\n",
    "        if c == '1':\n",
    "            # shift left\n",
    "            message.append(message.pop(0))\n",
    "        elif c == '2':\n",
    "            # shift right\n",
    "            message = list(np.roll(message, int('1'+'0'*i,3)))\n",
    "            #message.insert(0, message.pop(-1))\n",
    "        else:\n",
    "            # reverse\n",
    "            message = message[::-1]\n",
    "    \n",
    "    return ''.join(message)\n",
    "process_ternary('1201', \"abcde\")"
   ]
  },
  {
   "cell_type": "code",
   "execution_count": 9,
   "metadata": {},
   "outputs": [
    {
     "data": {
      "text/plain": [
       "'1201'"
      ]
     },
     "execution_count": 9,
     "metadata": {},
     "output_type": "execute_result"
    }
   ],
   "source": [
    "def get_ternary(cipher):\n",
    "    return np.base_repr(cipher,base=3)\n",
    "\n",
    "get_ternary(46)"
   ]
  },
  {
   "cell_type": "code",
   "execution_count": 10,
   "metadata": {},
   "outputs": [],
   "source": [
    "# Rudolphabet\n",
    "lyrics = \"\"\"You know Dasher, and Dancer, and\n",
    "Prancer, and Vixen,\n",
    "Comet, and Cupid, and\n",
    "Donder and Blitzen\n",
    "But do you recall\n",
    "The most famous reindeer of all\n",
    "\n",
    "\n",
    "Rudolph, the red-nosed reindeer\n",
    "had a very shiny nose\n",
    "and if you ever saw it\n",
    "you would even say it glows.\n",
    "\n",
    "All of the other reindeer\n",
    "used to laugh and call him names\n",
    "They never let poor Rudolph\n",
    "play in any reindeer games.\n",
    "\n",
    "Then one foggy Christmas eve\n",
    "Santa came to say:\n",
    "\"Rudolph with your nose so bright,\n",
    "won't you guide my sleigh tonight?\"\n",
    "\n",
    "Then all the reindeer loved him\n",
    "as they shouted out with glee,\n",
    "Rudolph the red-nosed reindeer,\n",
    "you'll go down in history!\"\"\"\n",
    "standard = \"ABCDEFGHIJKLMNOPQRSTUVWXYZabcdefghijklmnopqrstuvwxyz\"\n",
    "extras = \"Çàéè0123456789 .!?,;:'-#/\\()\""
   ]
  },
  {
   "cell_type": "code",
   "execution_count": 11,
   "metadata": {},
   "outputs": [
    {
     "data": {
      "text/plain": [
       "\"YouknwDasherdcPVixCmtpBlzyTfRvgASbEFGHIJKLMNOQUWXZjqÇàéè0123456789 .!?,;:'-#/\\\\()\""
      ]
     },
     "execution_count": 11,
     "metadata": {},
     "output_type": "execute_result"
    }
   ],
   "source": [
    "# Generate rudolphabet\n",
    "rudolphabet = \"\"\n",
    "for c in lyrics:\n",
    "    if c not in rudolphabet and c in standard:\n",
    "        rudolphabet += c\n",
    "\n",
    "for c in standard:\n",
    "    if c not in rudolphabet:\n",
    "        rudolphabet += c\n",
    "\n",
    "rudolphabet += extras\n",
    "rudolphabet"
   ]
  },
  {
   "cell_type": "code",
   "execution_count": 12,
   "metadata": {},
   "outputs": [
    {
     "data": {
      "text/plain": [
       "[2, 23]"
      ]
     },
     "execution_count": 12,
     "metadata": {},
     "output_type": "execute_result"
    }
   ],
   "source": [
    "def get_prime_factors(cipher):\n",
    "    i = 2\n",
    "    factors = []\n",
    "    while i * i <= cipher:\n",
    "        if cipher % i:\n",
    "            i += 1\n",
    "        else:\n",
    "            cipher //= i\n",
    "            factors.append(i)\n",
    "    if cipher > 1:\n",
    "        factors.append(cipher)\n",
    "        \n",
    "    return factors\n",
    "\n",
    "get_prime_factors(46)"
   ]
  },
  {
   "cell_type": "code",
   "execution_count": 13,
   "metadata": {},
   "outputs": [
    {
     "data": {
      "text/plain": [
       "80"
      ]
     },
     "execution_count": 13,
     "metadata": {},
     "output_type": "execute_result"
    }
   ],
   "source": [
    "len(rudolphabet)"
   ]
  },
  {
   "cell_type": "code",
   "execution_count": 14,
   "metadata": {},
   "outputs": [
    {
     "data": {
      "text/plain": [
       "'S2IHF'"
      ]
     },
     "execution_count": 14,
     "metadata": {},
     "output_type": "execute_result"
    }
   ],
   "source": [
    "def decipher(factors, message):\n",
    "    shift = sum(factors)\n",
    "    if len(factors) == 1:\n",
    "        shift += 5\n",
    "        \n",
    "    length = len(rudolphabet)\n",
    "    while shift >= length:\n",
    "        shift -= length\n",
    "        \n",
    "    shifted_rudolphabet = rudolphabet[shift:] + rudolphabet[:shift]\n",
    "\n",
    "    return message.translate(str.maketrans(rudolphabet, shifted_rudolphabet))\n",
    "\n",
    "decipher([2, 23], \"abcde\")"
   ]
  },
  {
   "cell_type": "code",
   "execution_count": 19,
   "metadata": {},
   "outputs": [],
   "source": [
    "def part_2(inp):\n",
    "    results = {}\n",
    "    for sender_identifier, message in inp.items():\n",
    "        \n",
    "        info, decryption_key = scrape_key(sender_identifier)\n",
    "        print(f\"{decryption_key=}\")\n",
    "        \n",
    "        cipher = get_cipher(sender_identifier, decryption_key)\n",
    "        print(f\"{cipher=}\")\n",
    "        \n",
    "        ternary = get_ternary(cipher)\n",
    "        print(f\"{ternary=}\")\n",
    "        \n",
    "        new_message = process_ternary(ternary, message)\n",
    "        print(f\"{new_message=}\")\n",
    "        \n",
    "        factors = get_prime_factors(cipher)\n",
    "        print(f\"{factors=}\")\n",
    "        \n",
    "        result = decipher(factors, new_message)\n",
    "        print(f\"{result=}\")\n",
    "        \n",
    "        results[info] = result\n",
    "        \n",
    "    return results"
   ]
  },
  {
   "cell_type": "code",
   "execution_count": 16,
   "metadata": {},
   "outputs": [],
   "source": [
    "out = part_2(inp)"
   ]
  },
  {
   "cell_type": "code",
   "execution_count": 17,
   "metadata": {},
   "outputs": [],
   "source": [
    "with open(\"out.txt\", \"w\") as file:\n",
    "    for k,v in out.items():\n",
    "        file.write(f\"{k}\\n>>> {v}\\n---\\n\")\n"
   ]
  },
  {
   "cell_type": "code",
   "execution_count": 20,
   "metadata": {},
   "outputs": [
    {
     "name": "stdout",
     "output_type": "stream",
     "text": [
      "decryption_key=[-1, -1, -1, -1, -1, -1, -1, -1, -1, -1, -1, -1, -1, -1, 68, 110, 95, 90, 110, 101, 80, 84, 80, 98, 72]\n",
      "cipher=25374397\n",
      "ternary='1202202011010111'\n",
      "new_message=\"#(?u:-jm:aX/(w78ÇXu#uX.(u;Xu;:oX? -X,u?aX( Xu78#;ZXs;:X.7'9Xa78Xk8uX( u7X7'd? (D( dXu;(,Xh7'X8,X(,Xd':?uwaX?kk':\"\n",
      "factors=[1867, 13591]\n",
      "result='ciated!Hey Pilou, tct with them and stay in touch. The work you put into organizing this for us is greatly appre'\n"
     ]
    },
    {
     "data": {
      "text/plain": [
       "{'ThomasGerleve - Batch #736 Cologne': 'ciated!Hey Pilou, tct with them and stay in touch. The work you put into organizing this for us is greatly appre'}"
      ]
     },
     "execution_count": 20,
     "metadata": {},
     "output_type": "execute_result"
    }
   ],
   "source": [
    "part_2({323: inp[323]})"
   ]
  }
 ],
 "metadata": {
  "interpreter": {
   "hash": "6d2218f4c6dd9cfc10bbc638fc24666799ea700594c31426154af67a8105e56e"
  },
  "kernelspec": {
   "display_name": "Python 3.8.12 64-bit ('lewagon_current': pyenv)",
   "language": "python",
   "name": "python3"
  },
  "language_info": {
   "codemirror_mode": {
    "name": "ipython",
    "version": 3
   },
   "file_extension": ".py",
   "mimetype": "text/x-python",
   "name": "python",
   "nbconvert_exporter": "python",
   "pygments_lexer": "ipython3",
   "version": "3.8.12"
  },
  "orig_nbformat": 4
 },
 "nbformat": 4,
 "nbformat_minor": 2
}
