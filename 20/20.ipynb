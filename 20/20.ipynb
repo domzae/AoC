{
 "cells": [
  {
   "cell_type": "code",
   "execution_count": 166,
   "id": "89cfcba4",
   "metadata": {},
   "outputs": [],
   "source": [
    "import numpy as np"
   ]
  },
  {
   "cell_type": "markdown",
   "id": "76c68a63-4bf8-4ed0-a675-372a44d60d5f",
   "metadata": {
    "tags": []
   },
   "source": [
    "# Get inputs"
   ]
  },
  {
   "cell_type": "code",
   "execution_count": 193,
   "id": "2c317d4c-42ed-4d58-b1ed-c9be5cca037d",
   "metadata": {},
   "outputs": [],
   "source": [
    "#with open(\"test_input.txt\") as f:\n",
    "with open(\"input.txt\") as f:\n",
    "    inp = f.readlines()\n",
    "    inp = [line.rstrip() for line in inp]"
   ]
  },
  {
   "cell_type": "code",
   "execution_count": 194,
   "id": "aed23f9d",
   "metadata": {},
   "outputs": [],
   "source": [
    "binalgo = [0 if x == '.' else 1 for x in inp[0]]\n",
    "binimage = np.array([[0 if x == '.' else 1 for x in line] for line in inp[2:]],dtype=np.int8)"
   ]
  },
  {
   "cell_type": "markdown",
   "id": "9d0aa6d0-c00f-4587-894b-b85e59098257",
   "metadata": {},
   "source": [
    "## Q1"
   ]
  },
  {
   "cell_type": "code",
   "execution_count": 216,
   "id": "6bc69693",
   "metadata": {},
   "outputs": [],
   "source": [
    "def enhance(algo, image):\n",
    "    \n",
    "    padded_image = np.pad(image, 2, 'constant', constant_values=0)\n",
    "    #print(padded_image)\n",
    "    enhanced_image = np.full(padded_image.shape, 0, dtype=np.int8)\n",
    "    \n",
    "    for i in range(padded_image.shape[0]-2):\n",
    "        x = i + 1\n",
    "        for j in range(padded_image.shape[1]-2):\n",
    "            y = j + 1\n",
    "            \n",
    "            bins = np.array([], dtype=np.int8)\n",
    "            bins = np.append(bins, padded_image[x-1:x+2,y-1:y+2])\n",
    "            bin_str = ''.join(bins.astype(str))\n",
    "            if len(bin_str) != 9:\n",
    "                print(f\"BAD {bins=}\")\n",
    "            index = int(bin_str,2)\n",
    "            enhanced_image[x,y] = algo[index]\n",
    "            # print(x,y)\n",
    "            # print(bin_str, algo[index])\n",
    "            # print(x,y)\n",
    "            # print(padded_image[x-1:x+2,y-1:y+2])\n",
    "            # print(f\"{index=}\")\n",
    "            # print(f\"{algo[index]=}\")\n",
    "            # break\n",
    "    print(f\"{x=},{y=}\")\n",
    "    print(f\"{enhanced_image.shape=}\")\n",
    "    return enhanced_image[1:-1,1:-1]"
   ]
  },
  {
   "cell_type": "code",
   "execution_count": 217,
   "id": "5cede576",
   "metadata": {},
   "outputs": [
    {
     "name": "stdout",
     "output_type": "stream",
     "text": [
      "x=102,y=102\n",
      "enhanced_image.shape=(104, 104)\n",
      "x=104,y=104\n",
      "enhanced_image.shape=(106, 106)\n",
      "5575\n"
     ]
    }
   ],
   "source": [
    "im = binimage.copy()\n",
    "#with np.printoptions(threshold=np.inf): print(im)\n",
    "for i in range(2):\n",
    "    im = enhance(binalgo, im)\n",
    "    #with np.printoptions(threshold=np.inf): print(im)\n",
    "    \n",
    "print(np.sum(im))"
   ]
  },
  {
   "cell_type": "code",
   "execution_count": 192,
   "id": "9506f6cc",
   "metadata": {},
   "outputs": [
    {
     "name": "stdout",
     "output_type": "stream",
     "text": [
      "[[0 0 0 0 0 0 0 1 0]\n",
      " [0 1 0 0 1 0 1 0 0]\n",
      " [1 0 1 0 0 0 1 1 1]\n",
      " [1 0 0 0 1 1 0 1 0]\n",
      " [1 0 0 0 0 0 1 0 1]\n",
      " [0 1 0 1 1 1 1 1 0]\n",
      " [0 0 1 0 1 1 1 1 1]\n",
      " [0 0 0 1 1 0 1 1 0]\n",
      " [0 0 0 0 1 1 1 0 0]]\n"
     ]
    }
   ],
   "source": [
    "with np.printoptions(threshold=np.inf):\n",
    "    #print(binimage)\n",
    "    print(im)"
   ]
  },
  {
   "cell_type": "markdown",
   "id": "686ade79-8415-43b8-8157-a0fa817c1d01",
   "metadata": {
    "tags": []
   },
   "source": [
    "## Q2"
   ]
  }
 ],
 "metadata": {
  "kernelspec": {
   "display_name": "Python 3 (ipykernel)",
   "language": "python",
   "name": "python3"
  },
  "language_info": {
   "codemirror_mode": {
    "name": "ipython",
    "version": 3
   },
   "file_extension": ".py",
   "mimetype": "text/x-python",
   "name": "python",
   "nbconvert_exporter": "python",
   "pygments_lexer": "ipython3",
   "version": "3.8.12"
  }
 },
 "nbformat": 4,
 "nbformat_minor": 5
}
