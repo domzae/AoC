{
 "cells": [
  {
   "cell_type": "code",
   "execution_count": 1,
   "id": "1768730a",
   "metadata": {},
   "outputs": [],
   "source": [
    "import copy\n",
    "from collections import Counter"
   ]
  },
  {
   "cell_type": "markdown",
   "id": "76c68a63-4bf8-4ed0-a675-372a44d60d5f",
   "metadata": {
    "tags": []
   },
   "source": [
    "# Get inputs"
   ]
  },
  {
   "cell_type": "code",
   "execution_count": 2,
   "id": "2c317d4c-42ed-4d58-b1ed-c9be5cca037d",
   "metadata": {},
   "outputs": [],
   "source": [
    "#with open(\"test_input.txt\") as f:\n",
    "with open(\"input.txt\") as f:\n",
    "    inp = f.readlines()\n",
    "    inp = [line.rstrip() for line in inp]"
   ]
  },
  {
   "cell_type": "code",
   "execution_count": 3,
   "id": "c0c15c42",
   "metadata": {},
   "outputs": [
    {
     "data": {
      "text/plain": [
       "[['EO', 'jc'],\n",
       " ['end', 'tm'],\n",
       " ['jy', 'FI'],\n",
       " ['ek', 'EO'],\n",
       " ['mg', 'ek'],\n",
       " ['jc', 'jy'],\n",
       " ['FI', 'start'],\n",
       " ['jy', 'mg'],\n",
       " ['mg', 'FI'],\n",
       " ['jc', 'tm'],\n",
       " ['end', 'EO'],\n",
       " ['ds', 'EO'],\n",
       " ['jy', 'start'],\n",
       " ['tm', 'EO'],\n",
       " ['mg', 'jc'],\n",
       " ['ek', 'jc'],\n",
       " ['tm', 'ek'],\n",
       " ['FI', 'jc'],\n",
       " ['jy', 'EO'],\n",
       " ['ek', 'jy'],\n",
       " ['ek', 'LT'],\n",
       " ['start', 'mg']]"
      ]
     },
     "execution_count": 3,
     "metadata": {},
     "output_type": "execute_result"
    }
   ],
   "source": [
    "cleaned = [x.split(\"-\") for x in inp]\n",
    "cleaned"
   ]
  },
  {
   "cell_type": "code",
   "execution_count": 4,
   "id": "f9b31101",
   "metadata": {},
   "outputs": [
    {
     "data": {
      "text/plain": [
       "{'EO': ['jc', 'ek', 'end', 'ds', 'tm', 'jy'],\n",
       " 'jc': ['EO', 'jy', 'tm', 'mg', 'ek', 'FI'],\n",
       " 'tm': ['end', 'jc', 'EO', 'ek'],\n",
       " 'jy': ['FI', 'jc', 'mg', 'EO', 'ek'],\n",
       " 'FI': ['jy', 'mg', 'jc'],\n",
       " 'ek': ['EO', 'mg', 'jc', 'tm', 'jy', 'LT'],\n",
       " 'mg': ['ek', 'jy', 'FI', 'jc'],\n",
       " 'start': ['FI', 'jy', 'mg'],\n",
       " 'ds': ['EO'],\n",
       " 'LT': ['ek'],\n",
       " 'history': [],\n",
       " 'revisted': False}"
      ]
     },
     "execution_count": 4,
     "metadata": {},
     "output_type": "execute_result"
    }
   ],
   "source": [
    "linked = {}\n",
    "for row in cleaned:\n",
    "    linked.setdefault(row[0],[])\n",
    "    linked.setdefault(row[1],[])\n",
    "    if \"start\" not in row[1]:\n",
    "        linked[row[0]].append(row[1])\n",
    "    if \"start\" not in row[0]:\n",
    "        linked[row[1]].append(row[0])\n",
    "linked.pop(\"end\")\n",
    "linked[\"history\"] = []\n",
    "linked[\"revisted\"] = False\n",
    "linked"
   ]
  },
  {
   "cell_type": "markdown",
   "id": "9d0aa6d0-c00f-4587-894b-b85e59098257",
   "metadata": {},
   "source": [
    "## Q1"
   ]
  },
  {
   "cell_type": "code",
   "execution_count": 5,
   "id": "a87d1a62",
   "metadata": {},
   "outputs": [],
   "source": [
    "def get_next(current, links):\n",
    "    count = 0\n",
    "    \n",
    "    links.append(current)\n",
    "    if current == \"end\":\n",
    "        return 1\n",
    "    \n",
    "    nexts = linked[current]\n",
    "    for n in nexts:\n",
    "        if n in links and n.islower():\n",
    "            continue\n",
    "        count += get_next(n, links.copy())\n",
    "    \n",
    "    return count"
   ]
  },
  {
   "cell_type": "code",
   "execution_count": 6,
   "id": "9991b639",
   "metadata": {},
   "outputs": [
    {
     "name": "stdout",
     "output_type": "stream",
     "text": [
      "Part 1: 5228\n"
     ]
    }
   ],
   "source": [
    "print(f\"Part 1: {get_next('start', [])}\")"
   ]
  },
  {
   "cell_type": "markdown",
   "id": "686ade79-8415-43b8-8157-a0fa817c1d01",
   "metadata": {
    "tags": []
   },
   "source": [
    "## Q2"
   ]
  },
  {
   "cell_type": "code",
   "execution_count": 7,
   "id": "c4eacd5d",
   "metadata": {},
   "outputs": [
    {
     "data": {
      "text/plain": [
       "{'a', 'b', 'c'}"
      ]
     },
     "execution_count": 7,
     "metadata": {},
     "output_type": "execute_result"
    }
   ],
   "source": [
    "set(\"aabc\")"
   ]
  },
  {
   "cell_type": "code",
   "execution_count": 8,
   "id": "863e9695",
   "metadata": {},
   "outputs": [],
   "source": [
    "def get_next(current, links, skip=False, skipset=set()):\n",
    "    count = 0\n",
    "    \n",
    "    if current.islower():\n",
    "        if not skip:\n",
    "            skip = True if current in skipset else False\n",
    "        skipset.add(current)\n",
    "    \n",
    "    links.append(current)\n",
    "    if current == \"end\":\n",
    "        return 1\n",
    "    \n",
    "    nexts = linked[current]\n",
    "    for n in nexts:\n",
    "        if n in links and n.islower() and skip:\n",
    "            continue\n",
    "        count += get_next(n, links.copy(), skip, skipset.copy())\n",
    "    \n",
    "    return count"
   ]
  },
  {
   "cell_type": "code",
   "execution_count": 9,
   "id": "6c979612",
   "metadata": {},
   "outputs": [
    {
     "name": "stdout",
     "output_type": "stream",
     "text": [
      "Part 2: 131228\n"
     ]
    }
   ],
   "source": [
    "print(f\"Part 2: {get_next('start', [])}\")"
   ]
  }
 ],
 "metadata": {
  "kernelspec": {
   "display_name": "Python 3 (ipykernel)",
   "language": "python",
   "name": "python3"
  },
  "language_info": {
   "codemirror_mode": {
    "name": "ipython",
    "version": 3
   },
   "file_extension": ".py",
   "mimetype": "text/x-python",
   "name": "python",
   "nbconvert_exporter": "python",
   "pygments_lexer": "ipython3",
   "version": "3.8.12"
  }
 },
 "nbformat": 4,
 "nbformat_minor": 5
}
