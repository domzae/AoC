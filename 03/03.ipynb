{
 "cells": [
  {
   "cell_type": "code",
   "execution_count": 1,
   "id": "2c317d4c-42ed-4d58-b1ed-c9be5cca037d",
   "metadata": {},
   "outputs": [],
   "source": [
    "with open(\"input.txt\") as f:\n",
    "    ls = f.readlines()\n",
    "    ls = [line.rstrip() for line in ls]"
   ]
  },
  {
   "cell_type": "code",
   "execution_count": 34,
   "id": "6cb19e48-717b-496b-a80a-eb61fc0699da",
   "metadata": {},
   "outputs": [
    {
     "data": {
      "text/plain": [
       "['111110110111',\n",
       " '110011001101',\n",
       " '110100000011',\n",
       " '100011000101',\n",
       " '110010010000']"
      ]
     },
     "execution_count": 34,
     "metadata": {},
     "output_type": "execute_result"
    }
   ],
   "source": [
    "ls[:5]"
   ]
  },
  {
   "cell_type": "code",
   "execution_count": 3,
   "id": "2272c363-3019-4139-876b-b648f42677d1",
   "metadata": {},
   "outputs": [],
   "source": [
    "x = [\"00100\",\n",
    "\"11110\",\n",
    "\"10110\",\n",
    "\"10111\",\n",
    "\"10101\",\n",
    "\"01111\",\n",
    "\"00111\",\n",
    "\"11100\",\n",
    "\"10000\",\n",
    "\"11001\",\n",
    "\"00010\",\n",
    "\"01010\"]"
   ]
  },
  {
   "cell_type": "markdown",
   "id": "9d0aa6d0-c00f-4587-894b-b85e59098257",
   "metadata": {},
   "source": [
    "## Q1"
   ]
  },
  {
   "cell_type": "code",
   "execution_count": 35,
   "id": "4e1a8a9a-494d-4214-bca2-9570b3dc22f8",
   "metadata": {},
   "outputs": [
    {
     "data": {
      "text/plain": [
       "{0: {1: 514, 0: 486},\n",
       " 1: {1: 510, 0: 490},\n",
       " 2: {1: 497, 0: 503},\n",
       " 3: {1: 487, 0: 513},\n",
       " 4: {1: 502, 0: 498},\n",
       " 5: {1: 490, 0: 510},\n",
       " 6: {1: 509, 0: 491},\n",
       " 7: {1: 525, 0: 475},\n",
       " 8: {1: 511, 0: 489},\n",
       " 9: {1: 472, 0: 528},\n",
       " 10: {1: 508, 0: 492},\n",
       " 11: {1: 506, 0: 494}}"
      ]
     },
     "execution_count": 35,
     "metadata": {},
     "output_type": "execute_result"
    }
   ],
   "source": [
    "bindict = {}\n",
    "for n in range(len(ls[0])):\n",
    "    bindict[n] = {1:0, 0:0}\n",
    "for line in ls:\n",
    "    for i,pos in enumerate(line):\n",
    "        if pos==\"1\":\n",
    "            bindict[i][1] += 1\n",
    "        else:\n",
    "            bindict[i][0] += 1\n",
    "            \n",
    "bindict"
   ]
  },
  {
   "cell_type": "code",
   "execution_count": 37,
   "id": "d0f50e4d-4020-40a2-8d94-6d2f58f0e625",
   "metadata": {},
   "outputs": [
    {
     "data": {
      "text/plain": [
       "[1, 1, 0, 0, 1, 0, 1, 1, 1, 0, 1, 1]"
      ]
     },
     "execution_count": 37,
     "metadata": {},
     "output_type": "execute_result"
    }
   ],
   "source": [
    "gamma = [max(n, key=n.get) for n in bindict.values()]\n",
    "gamma"
   ]
  },
  {
   "cell_type": "code",
   "execution_count": 38,
   "id": "7827a855-56ee-406d-b97d-d7fcee170024",
   "metadata": {},
   "outputs": [
    {
     "data": {
      "text/plain": [
       "[0, 0, 1, 1, 0, 1, 0, 0, 0, 1, 0, 0]"
      ]
     },
     "execution_count": 38,
     "metadata": {},
     "output_type": "execute_result"
    }
   ],
   "source": [
    "epsilon = [min(n, key=n.get) for n in bindict.values()]\n",
    "epsilon"
   ]
  },
  {
   "cell_type": "code",
   "execution_count": 39,
   "id": "b4233f37-7aea-47b6-b290-65e59195ea00",
   "metadata": {},
   "outputs": [],
   "source": [
    "gamma_ = int(''.join(map(str,gamma)), 2)\n",
    "epsilon_ = int(''.join(map(str,epsilon)), 2)"
   ]
  },
  {
   "cell_type": "code",
   "execution_count": 40,
   "id": "723e3824-012e-4398-a51d-03e3724af594",
   "metadata": {},
   "outputs": [
    {
     "name": "stdout",
     "output_type": "stream",
     "text": [
      "gamma_=3259 * epsilon_=836 = 2724524\n"
     ]
    }
   ],
   "source": [
    "print(f\"{gamma_=} * {epsilon_=} = {gamma_ * epsilon_}\")"
   ]
  },
  {
   "cell_type": "markdown",
   "id": "686ade79-8415-43b8-8157-a0fa817c1d01",
   "metadata": {
    "tags": []
   },
   "source": [
    "## Q2"
   ]
  },
  {
   "cell_type": "markdown",
   "id": "6400aac9-e284-47b9-afa0-4340cda399c8",
   "metadata": {},
   "source": [
    "### OGR"
   ]
  },
  {
   "cell_type": "code",
   "execution_count": 95,
   "id": "2afa021e-b7f4-45c7-8b24-0c5c95f2960e",
   "metadata": {},
   "outputs": [],
   "source": [
    "def get_max_in_col(inp, col):\n",
    "    dict_ = {1:0, 0:0}\n",
    "    \n",
    "    for line in inp:\n",
    "        if line[col] == \"0\":\n",
    "            dict_[0] += 1\n",
    "        else:\n",
    "            dict_[1] += 1\n",
    "            \n",
    "    #break ties\n",
    "    if dict_[1] == dict_[0]:\n",
    "        dict_[1] += 1\n",
    "    \n",
    "    return max(dict_, key=dict_.get)"
   ]
  },
  {
   "cell_type": "code",
   "execution_count": 104,
   "id": "2cd067e5-d822-42dd-9bf3-5e4541d8c2f0",
   "metadata": {},
   "outputs": [
    {
     "data": {
      "text/plain": [
       "4023"
      ]
     },
     "execution_count": 104,
     "metadata": {},
     "output_type": "execute_result"
    }
   ],
   "source": [
    "x_ = ls.copy()\n",
    "for col in range(len(x_[0])):\n",
    "    keep = get_max_in_col(x_, col)\n",
    "    #print(f\"{x_=}...{keep=}\")\n",
    "    drop = [i for i, row in enumerate(x_) if int(row[col]) != keep]\n",
    "    #print(f\"{drop=}\")\n",
    "    for n in drop[::-1]:\n",
    "        if len(x_) > 1:\n",
    "            del x_[n]\n",
    "ogr = int(''.join(map(str,x_[0])), 2)\n",
    "ogr"
   ]
  },
  {
   "cell_type": "markdown",
   "id": "9cc896f6-1b10-4f77-8731-21a252c626fe",
   "metadata": {},
   "source": [
    "### Co2SR"
   ]
  },
  {
   "cell_type": "code",
   "execution_count": 102,
   "id": "5732258d-1bf4-4f72-aef7-a02f169f2ac2",
   "metadata": {},
   "outputs": [],
   "source": [
    "def get_min_in_col(inp, col):\n",
    "    dict_ = {1:0, 0:0}\n",
    "    \n",
    "    for line in inp:\n",
    "        if line[col] == \"0\":\n",
    "            dict_[0] += 1\n",
    "        else:\n",
    "            dict_[1] += 1\n",
    "            \n",
    "    #break ties\n",
    "    if dict_[1] == dict_[0]:\n",
    "        dict_[1] += 1\n",
    "            \n",
    "    return min(dict_, key=dict_.get)"
   ]
  },
  {
   "cell_type": "code",
   "execution_count": 105,
   "id": "2e49cf60-454b-4c87-8ede-29b5f9c048bf",
   "metadata": {},
   "outputs": [
    {
     "data": {
      "text/plain": [
       "690"
      ]
     },
     "execution_count": 105,
     "metadata": {},
     "output_type": "execute_result"
    }
   ],
   "source": [
    "x_ = ls.copy()\n",
    "for col in range(len(x_[0])):\n",
    "    keep = get_min_in_col(x_, col)\n",
    "    #print(f\"{x_=}...{keep=}\")\n",
    "    drop = [i for i, row in enumerate(x_) if int(row[col]) != keep]\n",
    "    #print(f\"{drop=}\")\n",
    "    for n in drop[::-1]:\n",
    "        if len(x_) > 1:\n",
    "            del x_[n]\n",
    "    #print(f\"{x_=}\")\n",
    "co2sr = int(''.join(map(str,x_[0])), 2)\n",
    "co2sr"
   ]
  },
  {
   "cell_type": "code",
   "execution_count": 106,
   "id": "74f3dd4a-56ca-485c-825b-4ba551c547d9",
   "metadata": {},
   "outputs": [
    {
     "data": {
      "text/plain": [
       "2775870"
      ]
     },
     "execution_count": 106,
     "metadata": {},
     "output_type": "execute_result"
    }
   ],
   "source": [
    "ogr * co2sr"
   ]
  },
  {
   "cell_type": "code",
   "execution_count": null,
   "id": "caa50b8a-8fd0-4a18-add7-ed7498fff5c3",
   "metadata": {},
   "outputs": [],
   "source": []
  }
 ],
 "metadata": {
  "kernelspec": {
   "display_name": "Python 3 (ipykernel)",
   "language": "python",
   "name": "python3"
  },
  "language_info": {
   "codemirror_mode": {
    "name": "ipython",
    "version": 3
   },
   "file_extension": ".py",
   "mimetype": "text/x-python",
   "name": "python",
   "nbconvert_exporter": "python",
   "pygments_lexer": "ipython3",
   "version": "3.8.12"
  }
 },
 "nbformat": 4,
 "nbformat_minor": 5
}
