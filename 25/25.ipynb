{
 "cells": [
  {
   "cell_type": "code",
   "execution_count": 1,
   "id": "a49cfcc0",
   "metadata": {},
   "outputs": [],
   "source": [
    "import numpy as np"
   ]
  },
  {
   "cell_type": "markdown",
   "id": "76c68a63-4bf8-4ed0-a675-372a44d60d5f",
   "metadata": {
    "tags": []
   },
   "source": [
    "# Get inputs"
   ]
  },
  {
   "cell_type": "code",
   "execution_count": 2,
   "id": "2c317d4c-42ed-4d58-b1ed-c9be5cca037d",
   "metadata": {},
   "outputs": [],
   "source": [
    "#with open(\"test_input.txt\") as f:\n",
    "with open(\"input.txt\") as f:\n",
    "    inp = f.readlines()\n",
    "    inp = [[char for char in line.rstrip()] for line in inp]"
   ]
  },
  {
   "cell_type": "code",
   "execution_count": 3,
   "id": "7daf2c14",
   "metadata": {},
   "outputs": [],
   "source": [
    "cleaned = np.array(inp)"
   ]
  },
  {
   "cell_type": "code",
   "execution_count": 4,
   "id": "029a6108",
   "metadata": {},
   "outputs": [
    {
     "data": {
      "text/plain": [
       "array([['.', '.', '.', ..., 'v', '>', '.'],\n",
       "       ['.', '.', '>', ..., 'v', '.', '>'],\n",
       "       ['>', '.', '.', ..., 'v', '.', '.'],\n",
       "       ...,\n",
       "       ['v', '>', '>', ..., '>', '.', '.'],\n",
       "       ['.', '.', '.', ..., '.', '.', '.'],\n",
       "       ['>', 'v', 'v', ..., 'v', 'v', '.']], dtype='<U1')"
      ]
     },
     "execution_count": 4,
     "metadata": {},
     "output_type": "execute_result"
    }
   ],
   "source": [
    "cleaned"
   ]
  },
  {
   "cell_type": "markdown",
   "id": "9d0aa6d0-c00f-4587-894b-b85e59098257",
   "metadata": {},
   "source": [
    "## Q1"
   ]
  },
  {
   "cell_type": "code",
   "execution_count": 5,
   "id": "e1ed5243",
   "metadata": {},
   "outputs": [],
   "source": [
    "def iterate(arry, c):\n",
    "    tmp = arry.copy()\n",
    "    for k, line in enumerate(tmp):\n",
    "        for i, char in enumerate(line):\n",
    "            if char == c:\n",
    "                if i == len(line) - 1:\n",
    "                    j = 0\n",
    "                else:\n",
    "                    j = i + 1\n",
    "                    \n",
    "                if line[j] == '.':\n",
    "                    arry[k][i] = '.'\n",
    "                    arry[k][j] = c\n",
    "        \n",
    "    return arry"
   ]
  },
  {
   "cell_type": "code",
   "execution_count": 6,
   "id": "a636203c",
   "metadata": {},
   "outputs": [
    {
     "data": {
      "text/plain": [
       "array([['.', 'v', 'v', ..., 'v', 'v', '>'],\n",
       "       ['>', '.', '.', ..., 'v', '.', '.'],\n",
       "       ['.', '>', '.', ..., '.', '.', '.'],\n",
       "       ...,\n",
       "       ['.', '>', '>', ..., '.', '>', '.'],\n",
       "       ['v', '.', '.', ..., '.', '.', '.'],\n",
       "       ['>', '.', '.', ..., 'v', '.', '.']], dtype='<U1')"
      ]
     },
     "execution_count": 6,
     "metadata": {},
     "output_type": "execute_result"
    }
   ],
   "source": [
    "def one_step(arr):\n",
    "    # Do east-facing\n",
    "    arr = iterate(arr.copy(), '>')\n",
    "    \n",
    "    # print(\"After east-facing:\")\n",
    "    # for line in arr:\n",
    "    #     print(''.join(line))\n",
    "    \n",
    "    # Do south-facing\n",
    "    arr = iterate(arr.T.copy(), 'v')\n",
    "    arr = arr.T\n",
    "    \n",
    "    # print(\"After south-facing:\")\n",
    "    # for line in arr:\n",
    "    #     print(''.join(line))\n",
    "\n",
    "    return arr\n",
    "\n",
    "one_step(cleaned.copy())"
   ]
  },
  {
   "cell_type": "code",
   "execution_count": 7,
   "id": "86a0b837",
   "metadata": {},
   "outputs": [],
   "source": [
    "def sea_cucumbers(arr):\n",
    "    \n",
    "    i = 0\n",
    "    # print(f\"{i=}\")\n",
    "    # for line in arr:\n",
    "        # print(''.join(line))\n",
    "    while True:\n",
    "        i += 1\n",
    "        # print(f\"{i=}\")\n",
    "        next_arr = one_step(arr.copy())\n",
    "    \n",
    "        if np.array_equal(next_arr, arr):\n",
    "            break\n",
    "        arr = next_arr\n",
    "        \n",
    "    return i\n",
    "\n"
   ]
  },
  {
   "cell_type": "code",
   "execution_count": 8,
   "id": "c7878354",
   "metadata": {},
   "outputs": [
    {
     "name": "stdout",
     "output_type": "stream",
     "text": [
      "Part 1: 384\n"
     ]
    }
   ],
   "source": [
    "print(f\"Part 1: {sea_cucumbers(cleaned.copy())}\")"
   ]
  }
 ],
 "metadata": {
  "kernelspec": {
   "display_name": "Python 3 (ipykernel)",
   "language": "python",
   "name": "python3"
  },
  "language_info": {
   "codemirror_mode": {
    "name": "ipython",
    "version": 3
   },
   "file_extension": ".py",
   "mimetype": "text/x-python",
   "name": "python",
   "nbconvert_exporter": "python",
   "pygments_lexer": "ipython3",
   "version": "3.8.12"
  }
 },
 "nbformat": 4,
 "nbformat_minor": 5
}
