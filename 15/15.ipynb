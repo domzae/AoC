{
 "cells": [
  {
   "cell_type": "code",
   "execution_count": 1,
   "id": "0a8f2752",
   "metadata": {},
   "outputs": [],
   "source": [
    "import numpy as np\n",
    "import networkx as nx"
   ]
  },
  {
   "cell_type": "markdown",
   "id": "76c68a63-4bf8-4ed0-a675-372a44d60d5f",
   "metadata": {
    "tags": []
   },
   "source": [
    "# Get inputs"
   ]
  },
  {
   "cell_type": "code",
   "execution_count": 2,
   "id": "2c317d4c-42ed-4d58-b1ed-c9be5cca037d",
   "metadata": {},
   "outputs": [],
   "source": [
    "#with open(\"test_input.txt\") as f:\n",
    "with open(\"input.txt\") as f:\n",
    "    inp = f.readlines()\n",
    "    inp = [line.rstrip() for line in inp]"
   ]
  },
  {
   "cell_type": "code",
   "execution_count": 3,
   "id": "fecfafcb",
   "metadata": {},
   "outputs": [],
   "source": [
    "arr = np.array([[int(x) for x in line] for line in inp])\n",
    "#arr"
   ]
  },
  {
   "cell_type": "markdown",
   "id": "9d0aa6d0-c00f-4587-894b-b85e59098257",
   "metadata": {},
   "source": [
    "## Q1"
   ]
  },
  {
   "cell_type": "code",
   "execution_count": 4,
   "id": "38c15d98",
   "metadata": {},
   "outputs": [
    {
     "data": {
      "text/plain": [
       "824"
      ]
     },
     "execution_count": 4,
     "metadata": {},
     "output_type": "execute_result"
    }
   ],
   "source": [
    "def get_risk(chitons):\n",
    "    size = len(chitons)\n",
    "    graph = nx.grid_2d_graph(size, size, create_using=nx.DiGraph())\n",
    "    for u, v in graph.edges:\n",
    "        graph[u][v]['weight'] = chitons[v[1]][v[0]]\n",
    "    return nx.shortest_path_length(graph, (0, 0), (size-1, size-1), weight=\"weight\")\n",
    "get_risk(arr)"
   ]
  },
  {
   "cell_type": "markdown",
   "id": "686ade79-8415-43b8-8157-a0fa817c1d01",
   "metadata": {
    "tags": []
   },
   "source": [
    "## Q2"
   ]
  },
  {
   "cell_type": "code",
   "execution_count": 5,
   "id": "8bb92e6e",
   "metadata": {},
   "outputs": [
    {
     "data": {
      "text/plain": [
       "array([[6, 8, 9, ..., 8, 2, 8],\n",
       "       [5, 3, 7, ..., 6, 4, 3],\n",
       "       [8, 7, 9, ..., 3, 9, 5],\n",
       "       ...,\n",
       "       [4, 5, 6, ..., 7, 4, 5],\n",
       "       [7, 2, 4, ..., 4, 7, 3],\n",
       "       [4, 4, 3, ..., 7, 8, 1]])"
      ]
     },
     "execution_count": 5,
     "metadata": {},
     "output_type": "execute_result"
    }
   ],
   "source": [
    "full = np.concatenate((arr, arr+1, arr+2, arr+3, arr+4), axis=1)\n",
    "full = np.concatenate((full, full+1, full+2, full+3, full+4), axis=0)\n",
    "full[full > 9] -= 9\n",
    "full"
   ]
  },
  {
   "cell_type": "code",
   "execution_count": 6,
   "id": "9b7cb091",
   "metadata": {},
   "outputs": [
    {
     "data": {
      "text/plain": [
       "3063"
      ]
     },
     "execution_count": 6,
     "metadata": {},
     "output_type": "execute_result"
    }
   ],
   "source": [
    "get_risk(full)"
   ]
  }
 ],
 "metadata": {
  "kernelspec": {
   "display_name": "Python 3 (ipykernel)",
   "language": "python",
   "name": "python3"
  },
  "language_info": {
   "codemirror_mode": {
    "name": "ipython",
    "version": 3
   },
   "file_extension": ".py",
   "mimetype": "text/x-python",
   "name": "python",
   "nbconvert_exporter": "python",
   "pygments_lexer": "ipython3",
   "version": "3.8.12"
  }
 },
 "nbformat": 4,
 "nbformat_minor": 5
}
