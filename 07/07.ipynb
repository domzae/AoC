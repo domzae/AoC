{
 "cells": [
  {
   "cell_type": "code",
   "execution_count": 1,
   "id": "ae95476a-30ff-4d39-aeaf-a13debceddab",
   "metadata": {},
   "outputs": [],
   "source": [
    "import numpy as np"
   ]
  },
  {
   "cell_type": "markdown",
   "id": "76c68a63-4bf8-4ed0-a675-372a44d60d5f",
   "metadata": {
    "tags": []
   },
   "source": [
    "# Get inputs"
   ]
  },
  {
   "cell_type": "code",
   "execution_count": 2,
   "id": "2c317d4c-42ed-4d58-b1ed-c9be5cca037d",
   "metadata": {},
   "outputs": [],
   "source": [
    "#with open(\"test_input.txt\") as f:\n",
    "with open(\"input.txt\") as f:\n",
    "    inp = f.readlines()\n",
    "    inp = [line.rstrip() for line in inp]"
   ]
  },
  {
   "cell_type": "code",
   "execution_count": 3,
   "id": "b17e8ba5-2c81-4c2e-a555-fb4bbea64d05",
   "metadata": {
    "tags": []
   },
   "outputs": [
    {
     "data": {
      "text/plain": [
       "array([1101,    1,   29,   67, 1102,    0,    1,   65, 1008,   65])"
      ]
     },
     "execution_count": 3,
     "metadata": {},
     "output_type": "execute_result"
    }
   ],
   "source": [
    "cleaned = np.array(list(map(int,(inp[0].split(\",\")))))\n",
    "cleaned[:10]"
   ]
  },
  {
   "cell_type": "markdown",
   "id": "9d0aa6d0-c00f-4587-894b-b85e59098257",
   "metadata": {},
   "source": [
    "## Q1"
   ]
  },
  {
   "cell_type": "code",
   "execution_count": 4,
   "id": "3707e147-dc98-4793-b6eb-912fd0b7f7c6",
   "metadata": {},
   "outputs": [],
   "source": [
    "fuel = []\n",
    "for n in range(max(cleaned)):\n",
    "    fuel_this = 0\n",
    "    for crab in cleaned:\n",
    "        fuel_this += abs(crab-n)\n",
    "    fuel.append(fuel_this)"
   ]
  },
  {
   "cell_type": "code",
   "execution_count": 5,
   "id": "b323b949",
   "metadata": {},
   "outputs": [
    {
     "name": "stdout",
     "output_type": "stream",
     "text": [
      "Part 1: 356179\n"
     ]
    }
   ],
   "source": [
    "print(f\"Part 1: {min(fuel)}\")"
   ]
  },
  {
   "cell_type": "code",
   "execution_count": 6,
   "id": "0e3a1e44-aedd-45fc-9f3b-dd5005e917d3",
   "metadata": {
    "collapsed": true,
    "jupyter": {
     "outputs_hidden": true
    },
    "tags": []
   },
   "outputs": [
    {
     "data": {
      "text/plain": [
       "[489591,\n",
       " 488601,\n",
       " 487621,\n",
       " 486655,\n",
       " 485695,\n",
       " 484751,\n",
       " 483811,\n",
       " 482879,\n",
       " 481951,\n",
       " 481033]"
      ]
     },
     "execution_count": 6,
     "metadata": {},
     "output_type": "execute_result"
    }
   ],
   "source": [
    "fuel[:10]"
   ]
  },
  {
   "cell_type": "markdown",
   "id": "686ade79-8415-43b8-8157-a0fa817c1d01",
   "metadata": {
    "tags": []
   },
   "source": [
    "## Q2"
   ]
  },
  {
   "cell_type": "code",
   "execution_count": 7,
   "id": "af0c2b71-e928-4ec3-a51d-54c836f8333d",
   "metadata": {},
   "outputs": [],
   "source": [
    "fuel = []\n",
    "for n in range(0, max(cleaned)):\n",
    "    fuel_this = 0\n",
    "    for crab in cleaned:\n",
    "        x = abs(crab-n)\n",
    "        #print(fuel_this, x*(x-1)/2, x)\n",
    "        fuel_this += x*(x+1)/2\n",
    "    fuel.append(fuel_this)"
   ]
  },
  {
   "cell_type": "code",
   "execution_count": 8,
   "id": "b323b949",
   "metadata": {},
   "outputs": [
    {
     "name": "stdout",
     "output_type": "stream",
     "text": [
      "Part 2: 99788435.0\n"
     ]
    }
   ],
   "source": [
    "print(f\"Part 2: {min(fuel)}\")"
   ]
  },
  {
   "cell_type": "code",
   "execution_count": 9,
   "id": "4c77e724-249c-4e6c-9c49-4b7198f4cca0",
   "metadata": {
    "collapsed": true,
    "jupyter": {
     "outputs_hidden": true
    },
    "tags": []
   },
   "outputs": [
    {
     "data": {
      "text/plain": [
       "[219698641.0,\n",
       " 219209055.0,\n",
       " 218720474.0,\n",
       " 218232900.0,\n",
       " 217746329.0,\n",
       " 217260766.0,\n",
       " 216776205.0,\n",
       " 216292648.0,\n",
       " 215810093.0,\n",
       " 215328543.0]"
      ]
     },
     "execution_count": 9,
     "metadata": {},
     "output_type": "execute_result"
    }
   ],
   "source": [
    "fuel[:10]"
   ]
  }
 ],
 "metadata": {
  "kernelspec": {
   "display_name": "Python 3 (ipykernel)",
   "language": "python",
   "name": "python3"
  },
  "language_info": {
   "codemirror_mode": {
    "name": "ipython",
    "version": 3
   },
   "file_extension": ".py",
   "mimetype": "text/x-python",
   "name": "python",
   "nbconvert_exporter": "python",
   "pygments_lexer": "ipython3",
   "version": "3.8.12"
  }
 },
 "nbformat": 4,
 "nbformat_minor": 5
}
