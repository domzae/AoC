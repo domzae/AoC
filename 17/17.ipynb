{
 "cells": [
  {
   "cell_type": "markdown",
   "id": "76c68a63-4bf8-4ed0-a675-372a44d60d5f",
   "metadata": {
    "tags": []
   },
   "source": [
    "# Get inputs"
   ]
  },
  {
   "cell_type": "code",
   "execution_count": 2,
   "id": "9fa4c2da",
   "metadata": {},
   "outputs": [
    {
     "data": {
      "text/plain": [
       "{'x': range(96, 126), 'y': range(-144, -97)}"
      ]
     },
     "execution_count": 2,
     "metadata": {},
     "output_type": "execute_result"
    }
   ],
   "source": [
    "## test\n",
    "# target = {'x': range(20, 31), 'y': range(-10, -4)}\n",
    "## real\n",
    "target = {'x': range(96, 126), 'y': range(-144, -97)}\n",
    "target"
   ]
  },
  {
   "cell_type": "markdown",
   "id": "9d0aa6d0-c00f-4587-894b-b85e59098257",
   "metadata": {},
   "source": [
    "## Q1"
   ]
  },
  {
   "cell_type": "code",
   "execution_count": 3,
   "id": "792080e8",
   "metadata": {},
   "outputs": [],
   "source": [
    "def step(x, y, vel_x, vel_y):\n",
    "    # add velocity\n",
    "    x += vel_x\n",
    "    y += vel_y\n",
    "\n",
    "    # drag\n",
    "    if vel_x < 0:\n",
    "        vel_x += 1\n",
    "    elif vel_x > 0:\n",
    "        vel_x -= 1\n",
    "\n",
    "    # gravity\n",
    "    vel_y -= 1\n",
    "\n",
    "    return (x, y), (vel_x, vel_y)"
   ]
  },
  {
   "cell_type": "code",
   "execution_count": 4,
   "id": "876e6b9c",
   "metadata": {},
   "outputs": [],
   "source": [
    "def fire_probe(target, velocity):\n",
    "    history = [(0,0)]\n",
    "    \n",
    "    while True:\n",
    "        new_pos, velocity = step(*history[-1], *velocity)\n",
    "        \n",
    "        history.append(new_pos)\n",
    "        \n",
    "        if new_pos[0] in target['x'] and new_pos[1] in target['y']:\n",
    "            return True, max([x[1] for x in history])\n",
    "        \n",
    "        if new_pos[0] > max(target['x']):\n",
    "            return False\n",
    "        \n",
    "        if new_pos[1] < min(target['y']):\n",
    "            return False"
   ]
  },
  {
   "cell_type": "code",
   "execution_count": 5,
   "id": "1c8b675d",
   "metadata": {},
   "outputs": [
    {
     "name": "stdout",
     "output_type": "stream",
     "text": [
      "Highest achieved: 10296\n"
     ]
    }
   ],
   "source": [
    "max_height = 0\n",
    "for i in range(100):\n",
    "    for j in range(200):\n",
    "        fired = fire_probe(target, (i,j))\n",
    "        if fired:\n",
    "            max_height = max(fired[1], max_height)\n",
    "            \n",
    "print(f\"Highest achieved: {max_height}\")"
   ]
  },
  {
   "cell_type": "markdown",
   "id": "686ade79-8415-43b8-8157-a0fa817c1d01",
   "metadata": {
    "tags": []
   },
   "source": [
    "## Q2"
   ]
  },
  {
   "cell_type": "code",
   "execution_count": 6,
   "id": "e85091ea",
   "metadata": {},
   "outputs": [],
   "source": [
    "def fire_probe(target, velocity):\n",
    "    history = [(0,0)]\n",
    "    initial_velocity = velocity\n",
    "    \n",
    "    while True:\n",
    "        new_pos, velocity = step(*history[-1], *velocity)\n",
    "        \n",
    "        history.append(new_pos)\n",
    "        \n",
    "        if new_pos[0] in target['x'] and new_pos[1] in target['y']:\n",
    "            return True, initial_velocity\n",
    "        \n",
    "        if new_pos[0] > max(target['x']):\n",
    "            return False\n",
    "        \n",
    "        if new_pos[1] < min(target['y']):\n",
    "            return False"
   ]
  },
  {
   "cell_type": "code",
   "execution_count": 7,
   "id": "6b7d2d23",
   "metadata": {},
   "outputs": [
    {
     "name": "stdout",
     "output_type": "stream",
     "text": [
      "Number of succesful shots: 2371\n"
     ]
    }
   ],
   "source": [
    "vels = set()\n",
    "for i in range(130):\n",
    "    for j in range(-200,200):\n",
    "        fired = fire_probe(target, (i,j))\n",
    "        if fired:\n",
    "            vels.add(fired[1])\n",
    "            \n",
    "print(f\"Number of succesful shots: {len(vels)}\")"
   ]
  }
 ],
 "metadata": {
  "kernelspec": {
   "display_name": "Python 3 (ipykernel)",
   "language": "python",
   "name": "python3"
  },
  "language_info": {
   "codemirror_mode": {
    "name": "ipython",
    "version": 3
   },
   "file_extension": ".py",
   "mimetype": "text/x-python",
   "name": "python",
   "nbconvert_exporter": "python",
   "pygments_lexer": "ipython3",
   "version": "3.8.12"
  }
 },
 "nbformat": 4,
 "nbformat_minor": 5
}
