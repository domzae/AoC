{
 "cells": [
  {
   "cell_type": "code",
   "execution_count": 1,
   "id": "ae95476a-30ff-4d39-aeaf-a13debceddab",
   "metadata": {},
   "outputs": [],
   "source": [
    "import numpy as np\n",
    "import time"
   ]
  },
  {
   "cell_type": "markdown",
   "id": "76c68a63-4bf8-4ed0-a675-372a44d60d5f",
   "metadata": {
    "tags": []
   },
   "source": [
    "# Get inputs"
   ]
  },
  {
   "cell_type": "code",
   "execution_count": 43,
   "id": "2c317d4c-42ed-4d58-b1ed-c9be5cca037d",
   "metadata": {},
   "outputs": [],
   "source": [
    "#with open(\"test_input.txt\") as f:\n",
    "with open(\"input.txt\") as f:\n",
    "    inp = f.readlines()\n",
    "    inp = [line.rstrip() for line in inp]"
   ]
  },
  {
   "cell_type": "code",
   "execution_count": 44,
   "id": "b17e8ba5-2c81-4c2e-a555-fb4bbea64d05",
   "metadata": {},
   "outputs": [
    {
     "data": {
      "text/plain": [
       "array([2, 1, 1, 4, 4, 1, 3, 4, 2, 4, 2, 1, 1, 4, 3, 5, 1, 1, 5, 1, 1, 5,\n",
       "       4, 5, 4, 1, 5, 1, 3, 1, 4, 2, 3, 2, 1, 2, 5, 5, 2, 3, 1, 2, 3, 3,\n",
       "       1, 4, 3, 1, 1, 1, 1, 5, 2, 1, 1, 1, 5, 3, 3, 2, 1, 4, 1, 1, 1, 3,\n",
       "       1, 1, 5, 5, 1, 4, 4, 4, 4, 5, 1, 5, 1, 1, 5, 5, 2, 2, 5, 4, 1, 5,\n",
       "       4, 1, 4, 1, 1, 1, 1, 5, 3, 2, 4, 1, 1, 1, 4, 4, 1, 2, 1, 1, 5, 2,\n",
       "       1, 1, 1, 4, 4, 4, 4, 3, 3, 1, 1, 5, 1, 5, 2, 1, 4, 1, 2, 4, 4, 4,\n",
       "       4, 2, 2, 2, 4, 4, 4, 2, 1, 5, 5, 2, 1, 1, 1, 4, 4, 1, 4, 2, 3, 3,\n",
       "       3, 3, 3, 5, 4, 1, 5, 1, 4, 5, 5, 1, 1, 1, 4, 1, 2, 4, 4, 1, 2, 3,\n",
       "       3, 3, 3, 5, 1, 4, 2, 5, 5, 2, 1, 1, 1, 1, 3, 3, 1, 1, 2, 3, 2, 5,\n",
       "       4, 2, 1, 1, 2, 2, 2, 1, 3, 1, 5, 4, 1, 1, 5, 3, 3, 2, 2, 3, 1, 1,\n",
       "       1, 1, 2, 4, 2, 2, 5, 1, 2, 4, 2, 1, 1, 3, 2, 5, 5, 3, 1, 3, 3, 1,\n",
       "       4, 1, 1, 5, 5, 1, 5, 4, 1, 1, 1, 1, 2, 3, 3, 1, 2, 3, 1, 5, 1, 3,\n",
       "       1, 1, 3, 1, 1, 1, 1, 1, 1, 5, 1, 1, 5, 5, 2, 1, 1, 5, 2, 4, 5, 5,\n",
       "       1, 1, 5, 1, 5, 5, 1, 1, 3, 3, 1, 1, 3, 1])"
      ]
     },
     "execution_count": 44,
     "metadata": {},
     "output_type": "execute_result"
    }
   ],
   "source": [
    "cleaned = np.array(list(map(int,(inp[0].split(\",\")))))\n",
    "cleaned"
   ]
  },
  {
   "cell_type": "markdown",
   "id": "9d0aa6d0-c00f-4587-894b-b85e59098257",
   "metadata": {},
   "source": [
    "## Q1"
   ]
  },
  {
   "cell_type": "code",
   "execution_count": 45,
   "id": "8858520f-b905-4da2-b6b7-523dff01d9df",
   "metadata": {},
   "outputs": [],
   "source": [
    "def timeit(method):\n",
    "    def timed(*args, **kw):\n",
    "        ts = time.time()\n",
    "        result = method(*args, **kw)\n",
    "        te = time.time()\n",
    "        if 'log_time' in kw:\n",
    "            name = kw.get('log_name', method.__name__.upper())\n",
    "            kw['log_time'][name] = int((te - ts) * 1000)\n",
    "        else:\n",
    "            print('%r  %2.2f ms' % \\\n",
    "                  (method.__name__, (te - ts) * 1000))\n",
    "        return result\n",
    "    return timed"
   ]
  },
  {
   "cell_type": "code",
   "execution_count": 46,
   "id": "05c485cd-58d7-41d5-a476-060b4f9e1009",
   "metadata": {},
   "outputs": [],
   "source": [
    "@timeit\n",
    "def sim_fish(arr):\n",
    "    for day in range(0,80):\n",
    "        # count new fish\n",
    "        new_fish = np.sum(arr == 0)\n",
    "\n",
    "\n",
    "        # reset mum fish to 6\n",
    "        arr = np.where(arr == 0, arr + 7, arr)\n",
    "        # create new fish\n",
    "        if new_fish != 0:\n",
    "            arr = np.concatenate((arr, np.array([9]*new_fish)))\n",
    "            \n",
    "        # decrement all fish\n",
    "        arr = np.add(arr, -1)\n",
    "    return len(arr) "
   ]
  },
  {
   "cell_type": "code",
   "execution_count": 47,
   "id": "3c6228dd-dce7-4b54-872b-e6fcfcd81955",
   "metadata": {},
   "outputs": [
    {
     "name": "stdout",
     "output_type": "stream",
     "text": [
      "'sim_fish'  39.19 ms\n"
     ]
    },
    {
     "data": {
      "text/plain": [
       "360761"
      ]
     },
     "execution_count": 47,
     "metadata": {},
     "output_type": "execute_result"
    }
   ],
   "source": [
    "sim_fish(cleaned.copy())"
   ]
  },
  {
   "cell_type": "markdown",
   "id": "686ade79-8415-43b8-8157-a0fa817c1d01",
   "metadata": {
    "tags": []
   },
   "source": [
    "## Q2"
   ]
  },
  {
   "cell_type": "code",
   "execution_count": 52,
   "id": "af0c2b71-e928-4ec3-a51d-54c836f8333d",
   "metadata": {},
   "outputs": [],
   "source": [
    "@timeit\n",
    "def sim_fish2(arr):\n",
    "    fishes = np.full((9),0)\n",
    "    for el in arr:\n",
    "        fishes[el] += 1\n",
    "        \n",
    "    for day in range(0,256):\n",
    "        zeros = fishes[0]\n",
    "        fishes = np.roll(fishes, -1)\n",
    "        fishes[6] += zeros\n",
    "        fishes[8] = zeros\n",
    "    \n",
    "    return np.sum(fishes)        "
   ]
  },
  {
   "cell_type": "code",
   "execution_count": 53,
   "id": "4c77e724-249c-4e6c-9c49-4b7198f4cca0",
   "metadata": {},
   "outputs": [
    {
     "name": "stdout",
     "output_type": "stream",
     "text": [
      "'sim_fish2'  15.44 ms\n"
     ]
    },
    {
     "data": {
      "text/plain": [
       "1632779838045"
      ]
     },
     "execution_count": 53,
     "metadata": {},
     "output_type": "execute_result"
    }
   ],
   "source": [
    "sim_fish2(cleaned.copy())"
   ]
  },
  {
   "cell_type": "code",
   "execution_count": null,
   "id": "6df2c76a-0009-40cf-82c8-42a7c0d97ffd",
   "metadata": {},
   "outputs": [],
   "source": []
  }
 ],
 "metadata": {
  "kernelspec": {
   "display_name": "Python 3 (ipykernel)",
   "language": "python",
   "name": "python3"
  },
  "language_info": {
   "codemirror_mode": {
    "name": "ipython",
    "version": 3
   },
   "file_extension": ".py",
   "mimetype": "text/x-python",
   "name": "python",
   "nbconvert_exporter": "python",
   "pygments_lexer": "ipython3",
   "version": "3.8.12"
  }
 },
 "nbformat": 4,
 "nbformat_minor": 5
}
