{
 "cells": [
  {
   "cell_type": "code",
   "execution_count": 1,
   "id": "0a8f2752",
   "metadata": {},
   "outputs": [],
   "source": [
    "import numpy as np\n",
    "from scipy.spatial.transform import Rotation\n",
    "import itertools\n",
    "from collections import Counter\n"
   ]
  },
  {
   "cell_type": "markdown",
   "id": "76c68a63-4bf8-4ed0-a675-372a44d60d5f",
   "metadata": {
    "tags": []
   },
   "source": [
    "# Get inputs"
   ]
  },
  {
   "cell_type": "code",
   "execution_count": 2,
   "id": "2c317d4c-42ed-4d58-b1ed-c9be5cca037d",
   "metadata": {},
   "outputs": [],
   "source": [
    "# with open(\"test_input.txt\") as f:\n",
    "with open(\"input.txt\") as f:\n",
    "    inp = f.readlines()\n",
    "    inp = [line.rstrip() for line in inp]\n",
    "#inp"
   ]
  },
  {
   "cell_type": "code",
   "execution_count": 3,
   "id": "69490308",
   "metadata": {},
   "outputs": [],
   "source": [
    "scan_dict = {}\n",
    "for line in inp:\n",
    "    if line == '':\n",
    "        continue\n",
    "    if line[1] == '-':\n",
    "        cur_scanner = int(line.lstrip('--- scanner ').rstrip(' ---'))\n",
    "        scan_dict[cur_scanner] = []\n",
    "    else:\n",
    "        scan_dict[cur_scanner].append(tuple([int(x) for x in line.split(',')]))"
   ]
  },
  {
   "cell_type": "markdown",
   "id": "9d0aa6d0-c00f-4587-894b-b85e59098257",
   "metadata": {},
   "source": [
    "## Q1 & Q2"
   ]
  },
  {
   "cell_type": "code",
   "execution_count": 4,
   "id": "cb686c35",
   "metadata": {},
   "outputs": [],
   "source": [
    "def try_align(aligned, beacon):\n",
    "    aligned_beacons = []\n",
    "    scan_loc = []\n",
    "    prev = prev2 = None\n",
    "    for dim in range(3):\n",
    "        x = [pos[dim] for pos in aligned]\n",
    "        for perm in [(0,1),(1,1),(2,1),(0,-1),(1,-1),(2,-1)]:\n",
    "            if perm[0] == prev or perm[0] == prev2:\n",
    "                continue\n",
    "            \n",
    "            transformed = [pos[perm[0]]*perm[1] for pos in beacon]\n",
    "            distances = [b-a for (a,b) in itertools.product(x, transformed)]\n",
    "            counts = Counter(distances).most_common(1)\n",
    "            if counts[0][1] >= 12:\n",
    "                break\n",
    "        if counts[0][1] < 12:\n",
    "            return None\n",
    "        prev2 = prev \n",
    "        prev = perm[0]\n",
    "        aligned_beacons.append([v - counts[0][0] for v in transformed])\n",
    "        scan_loc.append(counts[0][0])\n",
    "        \n",
    "    aligned_beacons = list(zip(aligned_beacons[0],aligned_beacons[1],aligned_beacons[2]))\n",
    "    return aligned_beacons, scan_loc"
   ]
  },
  {
   "cell_type": "code",
   "execution_count": 5,
   "id": "e8cc6082",
   "metadata": {},
   "outputs": [],
   "source": [
    "def find_beacons(scanners):\n",
    "    done = set()\n",
    "    ocean = [scanners.pop(0)]\n",
    "    remaining_scanners = list(scanners.values())\n",
    "    scan_locs = [(0,0,0)]\n",
    "    while ocean:\n",
    "        aligned = ocean.pop()\n",
    "        tmp = []\n",
    "        for beacon in remaining_scanners:\n",
    "            successful_align = try_align(aligned, beacon)\n",
    "            if successful_align:\n",
    "                new_ocean, scan_loc = successful_align\n",
    "                scan_locs.append(scan_loc)\n",
    "                ocean.append(new_ocean)\n",
    "            else:\n",
    "                tmp.append(beacon)\n",
    "        remaining_scanners = tmp\n",
    "        done.update(aligned)\n",
    "        \n",
    "    return done, scan_locs"
   ]
  },
  {
   "cell_type": "code",
   "execution_count": 6,
   "id": "4aae4b67",
   "metadata": {},
   "outputs": [
    {
     "name": "stdout",
     "output_type": "stream",
     "text": [
      "Part 1: 400\n"
     ]
    }
   ],
   "source": [
    "beacons, scan_locs = find_beacons(scan_dict.copy())\n",
    "print(f\"Part 1: {len(beacons)}\")"
   ]
  },
  {
   "cell_type": "code",
   "execution_count": 7,
   "id": "24374396",
   "metadata": {},
   "outputs": [],
   "source": [
    "# Part 2\n",
    "scan_perms = itertools.product(scan_locs,scan_locs)\n",
    "largest_dist = 0\n",
    "for x,y in scan_perms:\n",
    "    distance = sum([abs(a-b) for a,b in zip(x,y)])\n",
    "    if distance > largest_dist:\n",
    "        largest_dist = distance\n",
    "\n"
   ]
  },
  {
   "cell_type": "code",
   "execution_count": 8,
   "id": "d3f687fd",
   "metadata": {},
   "outputs": [
    {
     "name": "stdout",
     "output_type": "stream",
     "text": [
      "Part 2: 12168\n"
     ]
    }
   ],
   "source": [
    "print(f\"Part 2: {largest_dist}\")"
   ]
  }
 ],
 "metadata": {
  "kernelspec": {
   "display_name": "Python 3 (ipykernel)",
   "language": "python",
   "name": "python3"
  },
  "language_info": {
   "codemirror_mode": {
    "name": "ipython",
    "version": 3
   },
   "file_extension": ".py",
   "mimetype": "text/x-python",
   "name": "python",
   "nbconvert_exporter": "python",
   "pygments_lexer": "ipython3",
   "version": "3.8.12"
  }
 },
 "nbformat": 4,
 "nbformat_minor": 5
}
