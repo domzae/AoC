{
 "cells": [
  {
   "cell_type": "code",
   "execution_count": 1,
   "id": "544e17f2",
   "metadata": {},
   "outputs": [],
   "source": [
    "import math"
   ]
  },
  {
   "cell_type": "markdown",
   "id": "76c68a63-4bf8-4ed0-a675-372a44d60d5f",
   "metadata": {
    "tags": []
   },
   "source": [
    "# Get inputs"
   ]
  },
  {
   "cell_type": "code",
   "execution_count": 2,
   "id": "2c317d4c-42ed-4d58-b1ed-c9be5cca037d",
   "metadata": {},
   "outputs": [],
   "source": [
    "#with open(\"test_input.txt\") as f:\n",
    "with open(\"input.txt\") as f:\n",
    "    inp = f.readlines()\n",
    "    inp = [line.rstrip() for line in inp]"
   ]
  },
  {
   "cell_type": "markdown",
   "id": "9d0aa6d0-c00f-4587-894b-b85e59098257",
   "metadata": {},
   "source": [
    "## Q1"
   ]
  },
  {
   "cell_type": "code",
   "execution_count": 3,
   "id": "44600798",
   "metadata": {},
   "outputs": [],
   "source": [
    "syn = '[({<'\n",
    "syn_close = {'}':'{', ')':'(', ']':'[', '>':'<'}\n",
    "illegal = {']':0, ')':0, '}':0, '>':0}\n",
    "indexes = []\n",
    "for i, line in enumerate(inp):\n",
    "    queue = []\n",
    "    for char in line:\n",
    "        if char in syn:\n",
    "            queue.append(char)\n",
    "        \n",
    "        elif queue[-1] == syn_close[char]:\n",
    "            queue.pop()\n",
    "        else:\n",
    "            illegal[char] += 1\n",
    "            indexes.append(i)\n",
    "            break\n",
    "\n",
    "\n",
    "result = illegal[')']*3 + illegal[']']*57 + illegal['}']*1197 + illegal['>']*25137"
   ]
  },
  {
   "cell_type": "code",
   "execution_count": 4,
   "id": "b323b949",
   "metadata": {},
   "outputs": [
    {
     "name": "stdout",
     "output_type": "stream",
     "text": [
      "Part 1: 319329\n"
     ]
    }
   ],
   "source": [
    "print(f\"Part 1: {result}\")"
   ]
  },
  {
   "cell_type": "markdown",
   "id": "686ade79-8415-43b8-8157-a0fa817c1d01",
   "metadata": {
    "tags": []
   },
   "source": [
    "## Q2"
   ]
  },
  {
   "cell_type": "code",
   "execution_count": 5,
   "id": "088b9a21",
   "metadata": {},
   "outputs": [],
   "source": [
    "inp_ = inp.copy()\n",
    "for i in indexes[::-1]:\n",
    "    inp_.pop(i)"
   ]
  },
  {
   "cell_type": "code",
   "execution_count": 6,
   "id": "ad1f6bc4",
   "metadata": {},
   "outputs": [],
   "source": [
    "syn_open = dict((v,k) for k,v in syn_close.items())\n",
    "complete = {')':1, ']':2, '}':3, '>':4}\n",
    "scores = []\n",
    "for line in inp_:\n",
    "    stack = []\n",
    "    scoring = []\n",
    "    for char in line[::-1]:\n",
    "        if char in syn:\n",
    "            if stack and stack[0] == syn_open[char]:\n",
    "                stack.pop(0)\n",
    "            else:\n",
    "                scoring.append(syn_open[char])\n",
    "        else:\n",
    "            stack.insert(0, char)\n",
    "    scores.append(0)\n",
    "    for char in scoring:\n",
    "        scores[-1] *= 5\n",
    "        scores[-1] += complete[char]\n",
    "\n",
    "result = sorted(scores)[math.floor(len(scores)/2)]"
   ]
  },
  {
   "cell_type": "code",
   "execution_count": 7,
   "id": "b323b949",
   "metadata": {},
   "outputs": [
    {
     "name": "stdout",
     "output_type": "stream",
     "text": [
      "Part 2: 3515583998\n"
     ]
    }
   ],
   "source": [
    "print(f\"Part 2: {result}\")"
   ]
  }
 ],
 "metadata": {
  "kernelspec": {
   "display_name": "Python 3 (ipykernel)",
   "language": "python",
   "name": "python3"
  },
  "language_info": {
   "codemirror_mode": {
    "name": "ipython",
    "version": 3
   },
   "file_extension": ".py",
   "mimetype": "text/x-python",
   "name": "python",
   "nbconvert_exporter": "python",
   "pygments_lexer": "ipython3",
   "version": "3.8.12"
  }
 },
 "nbformat": 4,
 "nbformat_minor": 5
}
