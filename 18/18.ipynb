{
 "cells": [
  {
   "cell_type": "code",
   "execution_count": 1,
   "id": "0a8f2752",
   "metadata": {},
   "outputs": [],
   "source": [
    "import math\n",
    "import json\n",
    "import regex as re\n",
    "from itertools import permutations"
   ]
  },
  {
   "cell_type": "markdown",
   "id": "76c68a63-4bf8-4ed0-a675-372a44d60d5f",
   "metadata": {
    "tags": []
   },
   "source": [
    "# Get inputs"
   ]
  },
  {
   "cell_type": "code",
   "execution_count": 2,
   "id": "2c317d4c-42ed-4d58-b1ed-c9be5cca037d",
   "metadata": {},
   "outputs": [
    {
     "data": {
      "text/plain": [
       "[[[3, [8, [2, 1]]], [[[0, 6], [0, 2]], 3]],\n",
       " [[[1, [8, 5]], [[3, 9], 0]], 2],\n",
       " [5, [[5, [3, 8]], [7, 4]]],\n",
       " [1, [[[0, 4], [8, 5]], 6]],\n",
       " [[[1, [0, 3]], 2], [2, [0, [7, 9]]]]]"
      ]
     },
     "execution_count": 2,
     "metadata": {},
     "output_type": "execute_result"
    }
   ],
   "source": [
    "#with open(\"test_input.txt\") as f:\n",
    "with open(\"input.txt\") as f:\n",
    "    inp = f.readlines()\n",
    "    inp = [line.rstrip() for line in inp]\n",
    "cleaned = [json.loads(x) for x in inp]\n",
    "cleaned[:5]"
   ]
  },
  {
   "cell_type": "markdown",
   "id": "9d0aa6d0-c00f-4587-894b-b85e59098257",
   "metadata": {},
   "source": [
    "## Q1"
   ]
  },
  {
   "cell_type": "code",
   "execution_count": 3,
   "id": "0a372a8f",
   "metadata": {},
   "outputs": [
    {
     "data": {
      "text/plain": [
       "4140"
      ]
     },
     "execution_count": 3,
     "metadata": {},
     "output_type": "execute_result"
    }
   ],
   "source": [
    "def get_magnitude(num):\n",
    "    \"\"\"3 * left elements + 2 * right elements\"\"\"\n",
    "    \n",
    "    left = num[0]\n",
    "    right = num[1]\n",
    "    \n",
    "    if isinstance(left,int) and isinstance(right,int):\n",
    "        return left*3 + right*2\n",
    "\n",
    "    elif isinstance(left,list) and isinstance(right,list):\n",
    "        left = get_magnitude(left)\n",
    "        right = get_magnitude(right)\n",
    "\n",
    "    elif isinstance(left,list):\n",
    "        left = get_magnitude(left)\n",
    "        \n",
    "    else:\n",
    "        right = get_magnitude(right)\n",
    "    \n",
    "    return get_magnitude([left, right])\n",
    "\n",
    "get_magnitude([[[[6,6],[7,6]],[[7,7],[7,0]]],[[[7,7],[7,7]],[[7,8],[9,9]]]])"
   ]
  },
  {
   "cell_type": "code",
   "execution_count": 4,
   "id": "091d4d91",
   "metadata": {},
   "outputs": [
    {
     "data": {
      "text/plain": [
       "6"
      ]
     },
     "execution_count": 4,
     "metadata": {},
     "output_type": "execute_result"
    }
   ],
   "source": [
    "def next_digit(s):\n",
    "    \"\"\"Returns index of next digit or False\"\"\"\n",
    "    for i, c in enumerate(s):\n",
    "        if c.isdigit():\n",
    "            return i\n",
    "    return False\n",
    "\n",
    "next_digit(']]]],[1,1]]')"
   ]
  },
  {
   "cell_type": "code",
   "execution_count": 5,
   "id": "81dc882c",
   "metadata": {},
   "outputs": [
    {
     "name": "stdout",
     "output_type": "stream",
     "text": [
      "True\n"
     ]
    }
   ],
   "source": [
    "def is_snail_num(s):\n",
    "    \"\"\"Matches snail number\"\"\"\n",
    "    r = re.compile(r'\\d+,\\s*\\d+')\n",
    "    return True if re.match(r, s) else False\n",
    "\n",
    "print(is_snail_num('92, 2]][[1,2]]'))"
   ]
  },
  {
   "cell_type": "code",
   "execution_count": 6,
   "id": "34d8b56d",
   "metadata": {},
   "outputs": [
    {
     "data": {
      "text/plain": [
       "['92', '2']"
      ]
     },
     "execution_count": 6,
     "metadata": {},
     "output_type": "execute_result"
    }
   ],
   "source": [
    "def extract_snail_num(s):\n",
    "    \"\"\"Returns snail numbers as list\"\"\"\n",
    "    r = re.compile(r'(\\d+,\\s*\\d+)')\n",
    "    m = re.match(r,s).group(0)\n",
    "\n",
    "    return [x.strip() for x in m.split(',')]\n",
    "extract_snail_num('92, 2]]][')"
   ]
  },
  {
   "cell_type": "code",
   "execution_count": 7,
   "id": "e3dffd6f",
   "metadata": {},
   "outputs": [
    {
     "data": {
      "text/plain": [
       "'92'"
      ]
     },
     "execution_count": 7,
     "metadata": {},
     "output_type": "execute_result"
    }
   ],
   "source": [
    "def get_digit(s):\n",
    "    \"\"\"Returns full digit\"\"\"\n",
    "    r = re.compile(r'\\d+')\n",
    "    return re.match(r,s).group(0)\n",
    "\n",
    "get_digit('92],2')"
   ]
  },
  {
   "cell_type": "code",
   "execution_count": 8,
   "id": "ae2bf286",
   "metadata": {},
   "outputs": [
    {
     "data": {
      "text/plain": [
       "[[[[4, 0], [5, 4]], [[7, 0], [15, 5]]], [10, [[11, 0], [[9, 3], [8, 8]]]]]"
      ]
     },
     "execution_count": 8,
     "metadata": {},
     "output_type": "execute_result"
    }
   ],
   "source": [
    "def explode(num):\n",
    "    \"\"\"Explodes a pair\"\"\"\n",
    "    \n",
    "    depth = 0\n",
    "    s = str(num)\n",
    "    s = s.replace(\" \",\"\")\n",
    "    left_index = False\n",
    "    \n",
    "    for i,c in enumerate(s):\n",
    "        \n",
    "        if c == '[':\n",
    "            depth += 1\n",
    "            \n",
    "        elif c == ']':\n",
    "            depth -= 1\n",
    "            \n",
    "        elif c == ',':\n",
    "            continue\n",
    "\n",
    "        elif depth > 4 and is_snail_num(s[i:]):\n",
    "            left, right = extract_snail_num(s[i:])\n",
    "            # print(f\"{i*'-'}^ Exploding [{left}, {right}]\\n\")\n",
    "\n",
    "            if left_index:\n",
    "                old_left = get_digit(s[left_index:])\n",
    "                n = str(int(old_left) + int(left))\n",
    "                \n",
    "                s = s[:left_index] + n + s[left_index+len(old_left):]\n",
    "                \n",
    "                i = i - len(old_left) + len(n)\n",
    "\n",
    "            right_index = next_digit(s[i+1+len(left)+len(right):])\n",
    "            if right_index:\n",
    "                right_index = i+1+len(left)+len(right)+right_index\n",
    "                old_right = get_digit(s[right_index:])\n",
    "                \n",
    "                n = str(int(old_right) + int(right))\n",
    "                s = s[:right_index] + n + s[right_index+len(old_right):]\n",
    "            \n",
    "            # replace exploded pair with zero\n",
    "            replaced = s[:i-1] + '0' + s[i+len(left)+len(right)+2:]\n",
    "            return json.loads(replaced)\n",
    "        \n",
    "        else:\n",
    "            while c.isdigit():\n",
    "                c = s[i-1]\n",
    "                i -= 1\n",
    "            left_index = i + 1\n",
    "            \n",
    "    return False\n",
    "\n",
    "explode([[[[4,0],[5,4]],[[7,0],[15,5]]],[10,[[0,[11,3]],[[6,3],[8,8]]]]])"
   ]
  },
  {
   "cell_type": "code",
   "execution_count": 9,
   "id": "abfd4965",
   "metadata": {},
   "outputs": [
    {
     "data": {
      "text/plain": [
       "[[[[4, 0], [5, 4]], [[7, 7], [0, [6, 7]]]], [15, [[0, 17], [0, 6]]]]"
      ]
     },
     "execution_count": 9,
     "metadata": {},
     "output_type": "execute_result"
    }
   ],
   "source": [
    "def split(num):\n",
    "    \n",
    "    s = str(num)\n",
    "    s = s.replace(\" \",\"\")\n",
    "    for i, c in enumerate(s):\n",
    "        if c.isdigit():\n",
    "            c = get_digit(s[i:])\n",
    "            \n",
    "            if len(c) > 1:\n",
    "                # print(f\"{i*'-'}^ Splitting {c}\\n\")\n",
    "\n",
    "                first = math.floor(int(c)/2)\n",
    "                last = math.ceil(int(c)/2)\n",
    "                s = s[:i] +'['+ str(first) +','+ str(last) +']'+ s[i+len(c):]\n",
    "                \n",
    "                return json.loads(s)\n",
    "    \n",
    "    return False\n",
    "\n",
    "split([[[[4,0],[5,4]],[[7,7],[0,13]]],[15,[[0,17],[0,6]]]])"
   ]
  },
  {
   "cell_type": "code",
   "execution_count": 10,
   "id": "55c59f4d",
   "metadata": {},
   "outputs": [],
   "source": [
    "def search_explode(num, depth = 0):\n",
    "    for i in num:\n",
    "        if isinstance(i,int):\n",
    "            if depth > 3:\n",
    "                return \"explode\"\n",
    "            \n",
    "        elif isinstance(i,list):\n",
    "            action = search_explode(i, depth+1)\n",
    "            if action:\n",
    "                return action\n",
    "            \n",
    "    return False"
   ]
  },
  {
   "cell_type": "code",
   "execution_count": 11,
   "id": "a0feb7bb",
   "metadata": {},
   "outputs": [
    {
     "data": {
      "text/plain": [
       "'split'"
      ]
     },
     "execution_count": 11,
     "metadata": {},
     "output_type": "execute_result"
    }
   ],
   "source": [
    "def search_split(num):\n",
    "    for i, x in enumerate(num):\n",
    "        if isinstance(x,int):\n",
    "            if x >= 10:\n",
    "                return \"split\"\n",
    "            \n",
    "        elif isinstance(x,list):\n",
    "            action = search_split(x)\n",
    "            if action:\n",
    "                return action\n",
    "        \n",
    "    return False\n",
    "\n",
    "search_split([[[[4,0],[5,4]],[[7,7],[0,13]]],[15,[[0,17],[0,6]]]])"
   ]
  },
  {
   "cell_type": "code",
   "execution_count": 12,
   "id": "b814d8e8",
   "metadata": {},
   "outputs": [
    {
     "data": {
      "text/plain": [
       "'explode'"
      ]
     },
     "execution_count": 12,
     "metadata": {},
     "output_type": "execute_result"
    }
   ],
   "source": [
    "def action_required(num):\n",
    "    \"\"\"Loop through num, check if num needs to be exploded or split\"\"\"\n",
    "    \n",
    "    action = search_explode(num)\n",
    "    if action:\n",
    "        return action\n",
    "    \n",
    "    action = search_split(num)\n",
    "    if action:\n",
    "        return action\n",
    "    \n",
    "    return False\n",
    "\n",
    "action_required([[[[4,0],[5,4]],[[7,0],[15,5]]],[7,[[[3,7],[4,3]],[[6,3],[8,8]]]]])"
   ]
  },
  {
   "cell_type": "code",
   "execution_count": 13,
   "id": "ac1971ab",
   "metadata": {},
   "outputs": [],
   "source": [
    "def snailfish(homework):\n",
    "    \n",
    "    current_num = homework[0]\n",
    "\n",
    "    for lines in homework[1:]:\n",
    "        # print(str(current_num).replace(\" \",\"\"), ' + ', str(lines).replace(\" \",\"\"))\n",
    "        current_num = [current_num] + [lines]\n",
    "        # print(f'Adding numbers\\n{str(current_num).replace(\" \",\"\")}')\n",
    "        \n",
    "        action = action_required(current_num)\n",
    "        while action:\n",
    "            if action == \"explode\":\n",
    "                current_num = explode(current_num)\n",
    "            else:\n",
    "                current_num = split(current_num)\n",
    "            # print(str(current_num).replace(\" \",\"\"))\n",
    "            \n",
    "            action = action_required(current_num)\n",
    "\n",
    "    return current_num"
   ]
  },
  {
   "cell_type": "code",
   "execution_count": 14,
   "id": "7a3c307b",
   "metadata": {},
   "outputs": [
    {
     "name": "stdout",
     "output_type": "stream",
     "text": [
      "[[[[7, 6], [6, 7]], [[7, 7], [7, 8]]], [[[8, 0], [8, 7]], [[6, 8], [6, 0]]]]\n",
      "Part 1: 3981\n"
     ]
    }
   ],
   "source": [
    "final = snailfish(cleaned)\n",
    "print(final)\n",
    "print(f\"Part 1: {get_magnitude(final)}\")"
   ]
  },
  {
   "cell_type": "markdown",
   "id": "686ade79-8415-43b8-8157-a0fa817c1d01",
   "metadata": {
    "tags": []
   },
   "source": [
    "## Q2"
   ]
  },
  {
   "cell_type": "code",
   "execution_count": 15,
   "id": "28866d2a",
   "metadata": {},
   "outputs": [
    {
     "data": {
      "text/plain": [
       "4687"
      ]
     },
     "execution_count": 15,
     "metadata": {},
     "output_type": "execute_result"
    }
   ],
   "source": [
    "magnitude = 0\n",
    "for i in permutations(range(len(cleaned)),2):\n",
    "    tmp = get_magnitude(snailfish([cleaned[i[0]],cleaned[i[1]]]))\n",
    "    magnitude = max(magnitude, tmp)\n",
    "magnitude"
   ]
  },
  {
   "cell_type": "code",
   "execution_count": 16,
   "id": "02a1ad7f",
   "metadata": {},
   "outputs": [
    {
     "name": "stdout",
     "output_type": "stream",
     "text": [
      "Part 2: 4687\n"
     ]
    }
   ],
   "source": [
    "print(f\"Part 2: {magnitude}\")"
   ]
  }
 ],
 "metadata": {
  "kernelspec": {
   "display_name": "Python 3 (ipykernel)",
   "language": "python",
   "name": "python3"
  },
  "language_info": {
   "codemirror_mode": {
    "name": "ipython",
    "version": 3
   },
   "file_extension": ".py",
   "mimetype": "text/x-python",
   "name": "python",
   "nbconvert_exporter": "python",
   "pygments_lexer": "ipython3",
   "version": "3.8.12"
  }
 },
 "nbformat": 4,
 "nbformat_minor": 5
}
