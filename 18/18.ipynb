{
 "cells": [
  {
   "cell_type": "code",
   "execution_count": 23,
   "id": "0a8f2752",
   "metadata": {},
   "outputs": [],
   "source": [
    "import math\n",
    "import json"
   ]
  },
  {
   "cell_type": "markdown",
   "id": "76c68a63-4bf8-4ed0-a675-372a44d60d5f",
   "metadata": {
    "tags": []
   },
   "source": [
    "# Get inputs"
   ]
  },
  {
   "cell_type": "code",
   "execution_count": 72,
   "id": "2c317d4c-42ed-4d58-b1ed-c9be5cca037d",
   "metadata": {},
   "outputs": [
    {
     "data": {
      "text/plain": [
       "['[[[0,[5,8]],[[1,7],[9,6]]],[[4,[1,2]],[[1,4],2]]]',\n",
       " '[[[5,[2,8]],4],[5,[[9,9],0]]]',\n",
       " '[6,[[[6,2],[5,6]],[[7,6],[4,7]]]]',\n",
       " '[[[6,[0,7]],[0,9]],[4,[9,[9,0]]]]',\n",
       " '[[[7,[6,4]],[3,[1,3]]],[[[5,5],1],9]]',\n",
       " '[[6,[[7,3],[3,2]]],[[[3,8],[5,7]],4]]',\n",
       " '[[[[5,4],[7,7]],8],[[8,3],8]]',\n",
       " '[[9,3],[[9,9],[6,[4,9]]]]',\n",
       " '[[2,[[7,7],7]],[[5,8],[[9,3],[0,2]]]]',\n",
       " '[[[[5,2],5],[8,[3,7]]],[[5,[7,5]],[4,4]]]']"
      ]
     },
     "execution_count": 72,
     "metadata": {},
     "output_type": "execute_result"
    }
   ],
   "source": [
    "with open(\"test_input.txt\") as f:\n",
    "#with open(\"input.txt\") as f:\n",
    "    inp = f.readlines()\n",
    "    inp = [line.rstrip() for line in inp]\n",
    "inp"
   ]
  },
  {
   "cell_type": "code",
   "execution_count": 25,
   "id": "da60f9a4",
   "metadata": {},
   "outputs": [
    {
     "data": {
      "text/plain": [
       "[[[[0, [5, 8]], [[1, 7], [9, 6]]], [[4, [1, 2]], [[1, 4], 2]]],\n",
       " [[[5, [2, 8]], 4], [5, [[9, 9], 0]]],\n",
       " [6, [[[6, 2], [5, 6]], [[7, 6], [4, 7]]]],\n",
       " [[[6, [0, 7]], [0, 9]], [4, [9, [9, 0]]]],\n",
       " [[[7, [6, 4]], [3, [1, 3]]], [[[5, 5], 1], 9]],\n",
       " [[6, [[7, 3], [3, 2]]], [[[3, 8], [5, 7]], 4]],\n",
       " [[[[5, 4], [7, 7]], 8], [[8, 3], 8]],\n",
       " [[9, 3], [[9, 9], [6, [4, 9]]]],\n",
       " [[2, [[7, 7], 7]], [[5, 8], [[9, 3], [0, 2]]]],\n",
       " [[[[5, 2], 5], [8, [3, 7]]], [[5, [7, 5]], [4, 4]]]]"
      ]
     },
     "execution_count": 25,
     "metadata": {},
     "output_type": "execute_result"
    }
   ],
   "source": [
    "cleaned = [json.loads(x) for x in inp]\n",
    "cleaned"
   ]
  },
  {
   "cell_type": "markdown",
   "id": "9d0aa6d0-c00f-4587-894b-b85e59098257",
   "metadata": {},
   "source": [
    "## Q1"
   ]
  },
  {
   "cell_type": "code",
   "execution_count": 30,
   "id": "0a372a8f",
   "metadata": {},
   "outputs": [
    {
     "data": {
      "text/plain": [
       "3488"
      ]
     },
     "execution_count": 30,
     "metadata": {},
     "output_type": "execute_result"
    }
   ],
   "source": [
    "def get_magnitude(num = [[[[8,7],[7,7]],[[8,6],[7,7]]],[[[0,7],[6,6]],[8,7]]]):\n",
    "    \"\"\"3 * left elements + 2 * right elements\"\"\"\n",
    "    \n",
    "    left = num[0]\n",
    "    right = num[1]\n",
    "    \n",
    "    if isinstance(left,int) and isinstance(right,int):\n",
    "        return left*3 + right*2\n",
    "\n",
    "    elif isinstance(left,list) and isinstance(right,list):\n",
    "        left = get_magnitude(left)\n",
    "        right = get_magnitude(right)\n",
    "\n",
    "    elif isinstance(left,list):\n",
    "        left = get_magnitude(left)\n",
    "        \n",
    "    else:\n",
    "        right = get_magnitude(right)\n",
    "    \n",
    "    return get_magnitude([left, right])\n",
    "\n",
    "get_magnitude()"
   ]
  },
  {
   "cell_type": "code",
   "execution_count": 31,
   "id": "1bbef7c2",
   "metadata": {},
   "outputs": [
    {
     "data": {
      "text/plain": [
       "'[[[[[9, 8], 1], 2], 3], 4]'"
      ]
     },
     "execution_count": 31,
     "metadata": {},
     "output_type": "execute_result"
    }
   ],
   "source": [
    "str([[[[[9,8],1],2],3],4])"
   ]
  },
  {
   "cell_type": "code",
   "execution_count": 32,
   "id": "091d4d91",
   "metadata": {},
   "outputs": [],
   "source": [
    "def next_digit(s):\n",
    "    for i, c in enumerate(s):\n",
    "        if c.isdigit():\n",
    "            return i\n",
    "    return False"
   ]
  },
  {
   "cell_type": "code",
   "execution_count": 33,
   "id": "2c94743b",
   "metadata": {},
   "outputs": [],
   "source": [
    "def replace_str_index(text,index,replacement):\n",
    "    return '%s%s%s'%(text[:index],replacement,text[index+1:])"
   ]
  },
  {
   "cell_type": "code",
   "execution_count": 34,
   "id": "ae2bf286",
   "metadata": {},
   "outputs": [
    {
     "data": {
      "text/plain": [
       "[[[[0, 7], 4], [[7, 8], [6, 0]]], [8, 1]]"
      ]
     },
     "execution_count": 34,
     "metadata": {},
     "output_type": "execute_result"
    }
   ],
   "source": [
    "def explode(num):\n",
    "    \"\"\"Reduce \"\"\"\n",
    "    depth = 0\n",
    "    s = str(num)\n",
    "    s = s.replace(\" \",\"\")\n",
    "    left_index = False\n",
    "    for i,c in enumerate(s):\n",
    "        if c == '[':\n",
    "            depth += 1\n",
    "        elif c == ']':\n",
    "            depth -= 1\n",
    "        elif c == ',':\n",
    "            continue\n",
    "        elif depth > 4 and s[i+2].isdigit():\n",
    "            # TODO: change replace to handle double digit nums\n",
    "            if left_index:\n",
    "                n = str(int(s[left_index]) + int(c))\n",
    "                s = replace_str_index(s,left_index,n)\n",
    "                i = i - len(s[left_index]) + len(n)\n",
    "\n",
    "            right_index = next_digit(s[i+3:])\n",
    "            if right_index:\n",
    "                right_index = i + 3 + right_index\n",
    "                n = str(int(s[right_index]) + int(s[i+2]))\n",
    "                s = replace_str_index(s, right_index, n)\n",
    "            \n",
    "            # replace exploded pair with zero\n",
    "            replaced = s[:i-1] + '0' + s[i+4:]\n",
    "            return json.loads(replaced)\n",
    "        \n",
    "        else:\n",
    "            left_index = i\n",
    "\n",
    "explode([[[[0,7],4],[[7,8],[0,[6,7]]]],[1,1]])"
   ]
  },
  {
   "cell_type": "code",
   "execution_count": 35,
   "id": "abfd4965",
   "metadata": {},
   "outputs": [
    {
     "name": "stdout",
     "output_type": "stream",
     "text": [
      "6\n"
     ]
    },
    {
     "data": {
      "text/plain": [
       "[[[[0, 7], 4], [[7, 8], [0, [6, 7]]]], [1, 1]]"
      ]
     },
     "execution_count": 35,
     "metadata": {},
     "output_type": "execute_result"
    }
   ],
   "source": [
    "def split(num):\n",
    "    s = str(num)\n",
    "    s = s.replace(\" \",\"\")\n",
    "    for i, c in enumerate(s):\n",
    "        j = 2\n",
    "        x = c\n",
    "        while c.isdigit():\n",
    "            x = c\n",
    "            c = s[i:i+j]\n",
    "            j += 1\n",
    "            \n",
    "        if x.isdigit() and len(x) > 1:\n",
    "            first = math.floor(int(x)/2)\n",
    "            print(first)\n",
    "            last = math.ceil(int(x)/2)\n",
    "            s = s[:i] +'['+ str(first) +','+ str(last) +']'+ s[i+len(x):]\n",
    "            \n",
    "            return json.loads(s)\n",
    "        \n",
    "split([[[[0,7],4],[[7,8],[0,13]]],[1,1]])"
   ]
  },
  {
   "cell_type": "code",
   "execution_count": 36,
   "id": "b814d8e8",
   "metadata": {},
   "outputs": [
    {
     "data": {
      "text/plain": [
       "False"
      ]
     },
     "execution_count": 36,
     "metadata": {},
     "output_type": "execute_result"
    }
   ],
   "source": [
    "def action_required(num, depth=0):\n",
    "    \"\"\"Loop through num, check if num needs to be exploded or split\"\"\"\n",
    "    \n",
    "    for i in num:\n",
    "        if isinstance(i,int):\n",
    "            if depth > 3:\n",
    "                return \"explode\"\n",
    "            if i >= 10:\n",
    "                return \"split\"\n",
    "        elif isinstance(i,list):\n",
    "            action = action_required(i, depth+1)\n",
    "            if action:\n",
    "                return action\n",
    "        \n",
    "    return False\n",
    "\n",
    "action_required([[[[0,7],4],[[7,8],[6,0]]],[8,1]])"
   ]
  },
  {
   "cell_type": "code",
   "execution_count": 68,
   "id": "ac1971ab",
   "metadata": {},
   "outputs": [],
   "source": [
    "def snailfish(homework):\n",
    "    \n",
    "    current_num = homework[0]\n",
    "    \n",
    "    for lines in homework[1:]:\n",
    "        current_num = [current_num] + [lines]\n",
    "        \n",
    "        action = action_required(current_num)\n",
    "        while action:\n",
    "            if action == \"explode\":\n",
    "                current_num = explode(current_num)\n",
    "            else:\n",
    "                current_num = split(current_num)\n",
    "                \n",
    "            action = action_required(current_num)\n",
    "            \n",
    "    \n",
    "\n",
    "    return homework"
   ]
  },
  {
   "cell_type": "code",
   "execution_count": null,
   "id": "8cb4748f",
   "metadata": {},
   "outputs": [],
   "source": [
    "test = json.loads(\"\"\"[1,1]\n",
    "[2,2]\n",
    "[3,3]\n",
    "[4,4]\"\"\")"
   ]
  },
  {
   "cell_type": "code",
   "execution_count": 39,
   "id": "6625d208",
   "metadata": {},
   "outputs": [
    {
     "ename": "IndexError",
     "evalue": "list index out of range",
     "output_type": "error",
     "traceback": [
      "\u001b[0;31m---------------------------------------------------------------------------\u001b[0m",
      "\u001b[0;31mIndexError\u001b[0m                                Traceback (most recent call last)",
      "\u001b[0;32m/tmp/ipykernel_7888/1906818229.py\u001b[0m in \u001b[0;36m<module>\u001b[0;34m\u001b[0m\n\u001b[0;32m----> 1\u001b[0;31m \u001b[0mget_magnitude\u001b[0m\u001b[0;34m(\u001b[0m\u001b[0msnailfish\u001b[0m\u001b[0;34m(\u001b[0m\u001b[0mtest\u001b[0m\u001b[0;34m)\u001b[0m\u001b[0;34m)\u001b[0m\u001b[0;34m\u001b[0m\u001b[0;34m\u001b[0m\u001b[0m\n\u001b[0m",
      "\u001b[0;32m/tmp/ipykernel_7888/3225148451.py\u001b[0m in \u001b[0;36mget_magnitude\u001b[0;34m(num)\u001b[0m\n\u001b[1;32m      3\u001b[0m \u001b[0;34m\u001b[0m\u001b[0m\n\u001b[1;32m      4\u001b[0m     \u001b[0mleft\u001b[0m \u001b[0;34m=\u001b[0m \u001b[0mnum\u001b[0m\u001b[0;34m[\u001b[0m\u001b[0;36m0\u001b[0m\u001b[0;34m]\u001b[0m\u001b[0;34m\u001b[0m\u001b[0;34m\u001b[0m\u001b[0m\n\u001b[0;32m----> 5\u001b[0;31m     \u001b[0mright\u001b[0m \u001b[0;34m=\u001b[0m \u001b[0mnum\u001b[0m\u001b[0;34m[\u001b[0m\u001b[0;36m1\u001b[0m\u001b[0;34m]\u001b[0m\u001b[0;34m\u001b[0m\u001b[0;34m\u001b[0m\u001b[0m\n\u001b[0m\u001b[1;32m      6\u001b[0m \u001b[0;34m\u001b[0m\u001b[0m\n\u001b[1;32m      7\u001b[0m     \u001b[0;32mif\u001b[0m \u001b[0misinstance\u001b[0m\u001b[0;34m(\u001b[0m\u001b[0mleft\u001b[0m\u001b[0;34m,\u001b[0m\u001b[0mint\u001b[0m\u001b[0;34m)\u001b[0m \u001b[0;32mand\u001b[0m \u001b[0misinstance\u001b[0m\u001b[0;34m(\u001b[0m\u001b[0mright\u001b[0m\u001b[0;34m,\u001b[0m\u001b[0mint\u001b[0m\u001b[0;34m)\u001b[0m\u001b[0;34m:\u001b[0m\u001b[0;34m\u001b[0m\u001b[0;34m\u001b[0m\u001b[0m\n",
      "\u001b[0;31mIndexError\u001b[0m: list index out of range"
     ]
    }
   ],
   "source": [
    "get_magnitude(snailfish(test))"
   ]
  },
  {
   "cell_type": "markdown",
   "id": "686ade79-8415-43b8-8157-a0fa817c1d01",
   "metadata": {
    "tags": []
   },
   "source": [
    "## Q2"
   ]
  }
 ],
 "metadata": {
  "kernelspec": {
   "display_name": "Python 3 (ipykernel)",
   "language": "python",
   "name": "python3"
  },
  "language_info": {
   "codemirror_mode": {
    "name": "ipython",
    "version": 3
   },
   "file_extension": ".py",
   "mimetype": "text/x-python",
   "name": "python",
   "nbconvert_exporter": "python",
   "pygments_lexer": "ipython3",
   "version": "3.8.12"
  }
 },
 "nbformat": 4,
 "nbformat_minor": 5
}
