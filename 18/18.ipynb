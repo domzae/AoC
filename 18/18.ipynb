{
 "cells": [
  {
   "cell_type": "code",
   "execution_count": 1,
   "id": "0a8f2752",
   "metadata": {},
   "outputs": [],
   "source": [
    "import math\n",
    "import json"
   ]
  },
  {
   "cell_type": "markdown",
   "id": "76c68a63-4bf8-4ed0-a675-372a44d60d5f",
   "metadata": {
    "tags": []
   },
   "source": [
    "# Get inputs"
   ]
  },
  {
   "cell_type": "code",
   "execution_count": 2,
   "id": "2c317d4c-42ed-4d58-b1ed-c9be5cca037d",
   "metadata": {},
   "outputs": [
    {
     "data": {
      "text/plain": [
       "['[[[0,[5,8]],[[1,7],[9,6]]],[[4,[1,2]],[[1,4],2]]]',\n",
       " '[[[5,[2,8]],4],[5,[[9,9],0]]]',\n",
       " '[6,[[[6,2],[5,6]],[[7,6],[4,7]]]]',\n",
       " '[[[6,[0,7]],[0,9]],[4,[9,[9,0]]]]',\n",
       " '[[[7,[6,4]],[3,[1,3]]],[[[5,5],1],9]]',\n",
       " '[[6,[[7,3],[3,2]]],[[[3,8],[5,7]],4]]',\n",
       " '[[[[5,4],[7,7]],8],[[8,3],8]]',\n",
       " '[[9,3],[[9,9],[6,[4,9]]]]',\n",
       " '[[2,[[7,7],7]],[[5,8],[[9,3],[0,2]]]]',\n",
       " '[[[[5,2],5],[8,[3,7]]],[[5,[7,5]],[4,4]]]']"
      ]
     },
     "execution_count": 2,
     "metadata": {},
     "output_type": "execute_result"
    }
   ],
   "source": [
    "with open(\"test_input.txt\") as f:\n",
    "#with open(\"input.txt\") as f:\n",
    "    inp = f.readlines()\n",
    "    inp = [line.rstrip() for line in inp]\n",
    "inp"
   ]
  },
  {
   "cell_type": "code",
   "execution_count": 3,
   "id": "da60f9a4",
   "metadata": {},
   "outputs": [
    {
     "data": {
      "text/plain": [
       "[[[[0, [5, 8]], [[1, 7], [9, 6]]], [[4, [1, 2]], [[1, 4], 2]]],\n",
       " [[[5, [2, 8]], 4], [5, [[9, 9], 0]]],\n",
       " [6, [[[6, 2], [5, 6]], [[7, 6], [4, 7]]]],\n",
       " [[[6, [0, 7]], [0, 9]], [4, [9, [9, 0]]]],\n",
       " [[[7, [6, 4]], [3, [1, 3]]], [[[5, 5], 1], 9]],\n",
       " [[6, [[7, 3], [3, 2]]], [[[3, 8], [5, 7]], 4]],\n",
       " [[[[5, 4], [7, 7]], 8], [[8, 3], 8]],\n",
       " [[9, 3], [[9, 9], [6, [4, 9]]]],\n",
       " [[2, [[7, 7], 7]], [[5, 8], [[9, 3], [0, 2]]]],\n",
       " [[[[5, 2], 5], [8, [3, 7]]], [[5, [7, 5]], [4, 4]]]]"
      ]
     },
     "execution_count": 3,
     "metadata": {},
     "output_type": "execute_result"
    }
   ],
   "source": [
    "cleaned = [json.loads(x) for x in inp]\n",
    "cleaned"
   ]
  },
  {
   "cell_type": "markdown",
   "id": "9d0aa6d0-c00f-4587-894b-b85e59098257",
   "metadata": {},
   "source": [
    "## Q1"
   ]
  },
  {
   "cell_type": "code",
   "execution_count": 4,
   "id": "cd5d6941",
   "metadata": {},
   "outputs": [
    {
     "data": {
      "text/plain": [
       "[[[0, [5, 8]], [[1, 7], [9, 6]]], [[4, [1, 2]], [[1, 4], 2]]]"
      ]
     },
     "execution_count": 4,
     "metadata": {},
     "output_type": "execute_result"
    }
   ],
   "source": [
    "cleaned[0]"
   ]
  },
  {
   "cell_type": "code",
   "execution_count": 5,
   "id": "807d4d45",
   "metadata": {},
   "outputs": [
    {
     "data": {
      "text/plain": [
       "[[[5, [2, 8]], 4], [5, [[9, 9], 0]]]"
      ]
     },
     "execution_count": 5,
     "metadata": {},
     "output_type": "execute_result"
    }
   ],
   "source": [
    "cleaned[1]"
   ]
  },
  {
   "cell_type": "code",
   "execution_count": 6,
   "id": "2a3a65e4",
   "metadata": {},
   "outputs": [
    {
     "data": {
      "text/plain": [
       "[[[0, [5, 8]], [[1, 7], [9, 6]]],\n",
       " [[4, [1, 2]], [[1, 4], 2]],\n",
       " [[5, [2, 8]], 4],\n",
       " [5, [[9, 9], 0]]]"
      ]
     },
     "execution_count": 6,
     "metadata": {},
     "output_type": "execute_result"
    }
   ],
   "source": [
    "cleaned[0] + cleaned[1]"
   ]
  },
  {
   "cell_type": "code",
   "execution_count": 7,
   "id": "e89d7a6f",
   "metadata": {},
   "outputs": [
    {
     "data": {
      "text/plain": [
       "[[9, 1], [1, 9]]"
      ]
     },
     "execution_count": 7,
     "metadata": {},
     "output_type": "execute_result"
    }
   ],
   "source": [
    "[[9,1],[1,9]]"
   ]
  },
  {
   "cell_type": "code",
   "execution_count": 8,
   "id": "0a372a8f",
   "metadata": {},
   "outputs": [
    {
     "data": {
      "text/plain": [
       "3488"
      ]
     },
     "execution_count": 8,
     "metadata": {},
     "output_type": "execute_result"
    }
   ],
   "source": [
    "def get_magnitude(num = [[[[8,7],[7,7]],[[8,6],[7,7]]],[[[0,7],[6,6]],[8,7]]]):\n",
    "    \"\"\"3 * left elements + 2 * right elements\"\"\"\n",
    "    \n",
    "    left = num[0]\n",
    "    right = num[1]\n",
    "    \n",
    "    if isinstance(left,int) and isinstance(right,int):\n",
    "        return left*3 + right*2\n",
    "\n",
    "    elif isinstance(left,list) and isinstance(right,list):\n",
    "        left = get_magnitude(left)\n",
    "        right = get_magnitude(right)\n",
    "\n",
    "    elif isinstance(left,list):\n",
    "        left = get_magnitude(left)\n",
    "        \n",
    "    else:\n",
    "        right = get_magnitude(right)\n",
    "    \n",
    "    return get_magnitude([left, right])\n",
    "\n",
    "get_magnitude()"
   ]
  },
  {
   "cell_type": "code",
   "execution_count": 9,
   "id": "1bbef7c2",
   "metadata": {},
   "outputs": [
    {
     "data": {
      "text/plain": [
       "'[[[[[9, 8], 1], 2], 3], 4]'"
      ]
     },
     "execution_count": 9,
     "metadata": {},
     "output_type": "execute_result"
    }
   ],
   "source": [
    "str([[[[[9,8],1],2],3],4])"
   ]
  },
  {
   "cell_type": "code",
   "execution_count": 10,
   "id": "091d4d91",
   "metadata": {},
   "outputs": [],
   "source": [
    "def next_digit(s):\n",
    "    for i, c in enumerate(s):\n",
    "        if c.isdigit():\n",
    "            return i\n",
    "    return False"
   ]
  },
  {
   "cell_type": "code",
   "execution_count": 11,
   "id": "2c94743b",
   "metadata": {},
   "outputs": [],
   "source": [
    "def replace_str_index(text,index,replacement):\n",
    "    return '%s%s%s'%(text[:index],replacement,text[index+1:])"
   ]
  },
  {
   "cell_type": "code",
   "execution_count": 12,
   "id": "ae2bf286",
   "metadata": {},
   "outputs": [
    {
     "data": {
      "text/plain": [
       "[[[[0, 7], 4], [[7, 8], [6, 0]]], [8, 1]]"
      ]
     },
     "execution_count": 12,
     "metadata": {},
     "output_type": "execute_result"
    }
   ],
   "source": [
    "def explode(num):\n",
    "    \"\"\"Reduce \"\"\"\n",
    "    depth = 0\n",
    "    s = str(num)\n",
    "    s = s.replace(\" \",\"\")\n",
    "    left_index = False\n",
    "    for i,c in enumerate(s):\n",
    "        if c == '[':\n",
    "            depth += 1\n",
    "        elif c == ']':\n",
    "            depth -= 1\n",
    "        elif c == ',':\n",
    "            continue\n",
    "        elif depth > 4 and s[i+2].isdigit():\n",
    "            if left_index:\n",
    "                n = str(int(s[left_index]) + int(c))\n",
    "                s = replace_str_index(s,left_index,n)\n",
    "                i = i - len(s[left_index]) + len(n)\n",
    "\n",
    "            right_index = next_digit(s[i+3:])\n",
    "            if right_index:\n",
    "                right_index = i + 3 + right_index\n",
    "                n = str(int(s[right_index]) + int(s[i+2]))\n",
    "                s = replace_str_index(s, right_index, n)\n",
    "            \n",
    "            # replace exploded pair with zero\n",
    "            replaced = s[:i-1] + '0' + s[i+4:]\n",
    "            return json.loads(replaced)\n",
    "        \n",
    "        else:\n",
    "            left_index = i\n",
    "\n",
    "explode([[[[0,7],4],[[7,8],[0,[6,7]]]],[1,1]])"
   ]
  },
  {
   "cell_type": "code",
   "execution_count": 13,
   "id": "abfd4965",
   "metadata": {},
   "outputs": [],
   "source": [
    "def split():\n",
    "    pass"
   ]
  },
  {
   "cell_type": "code",
   "execution_count": 14,
   "id": "b814d8e8",
   "metadata": {},
   "outputs": [
    {
     "data": {
      "text/plain": [
       "False"
      ]
     },
     "execution_count": 14,
     "metadata": {},
     "output_type": "execute_result"
    }
   ],
   "source": [
    "def action_required(num, depth=0):\n",
    "    \"\"\"Loop through num, check if num needs to be exploded or split\"\"\"\n",
    "    \n",
    "    for i in num:\n",
    "        if isinstance(i,int):\n",
    "            if depth > 3:\n",
    "                return \"explode\"\n",
    "            if i >= 10:\n",
    "                return \"split\"\n",
    "        elif isinstance(i,list):\n",
    "            action = action_required(i, depth+1)\n",
    "            if action:\n",
    "                return action\n",
    "        \n",
    "    return False\n",
    "\n",
    "action_required([[[[0,7],4],[[7,8],[6,0]]],[8,1]])"
   ]
  },
  {
   "cell_type": "code",
   "execution_count": 36,
   "id": "ac1971ab",
   "metadata": {},
   "outputs": [],
   "source": [
    "def snailfish(homework):\n",
    "    \n",
    "    current_num = homework[0]\n",
    "    \n",
    "    # Explode, split\n",
    "    action = action_required(current_num)\n",
    "    while action:\n",
    "        if action == \"explode\":\n",
    "            current_num = explode(current_num)\n",
    "        else:\n",
    "            current_num = split(current_num)\n",
    "            \n",
    "        action = action_required(current_num)\n",
    "        \n",
    "    if len(homework) > 1:\n",
    "        homework[0] = current_num + homework.pop(1)\n",
    "        snailfish(homework)\n",
    "\n",
    "    return homework"
   ]
  },
  {
   "cell_type": "code",
   "execution_count": null,
   "id": "2718b752",
   "metadata": {},
   "outputs": [],
   "source": []
  },
  {
   "cell_type": "code",
   "execution_count": null,
   "id": "1d27f399",
   "metadata": {},
   "outputs": [],
   "source": []
  },
  {
   "cell_type": "code",
   "execution_count": null,
   "id": "6625d208",
   "metadata": {},
   "outputs": [],
   "source": [
    "get_magnitude(snailfish(test))"
   ]
  },
  {
   "cell_type": "markdown",
   "id": "686ade79-8415-43b8-8157-a0fa817c1d01",
   "metadata": {
    "tags": []
   },
   "source": [
    "## Q2"
   ]
  }
 ],
 "metadata": {
  "kernelspec": {
   "display_name": "Python 3 (ipykernel)",
   "language": "python",
   "name": "python3"
  },
  "language_info": {
   "codemirror_mode": {
    "name": "ipython",
    "version": 3
   },
   "file_extension": ".py",
   "mimetype": "text/x-python",
   "name": "python",
   "nbconvert_exporter": "python",
   "pygments_lexer": "ipython3",
   "version": "3.8.12"
  }
 },
 "nbformat": 4,
 "nbformat_minor": 5
}
