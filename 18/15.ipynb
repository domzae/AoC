{
 "cells": [
  {
   "cell_type": "code",
   "execution_count": 32,
   "id": "0a8f2752",
   "metadata": {},
   "outputs": [],
   "source": [
    "import math\n",
    "import numpy as np\n",
    "import json"
   ]
  },
  {
   "cell_type": "markdown",
   "id": "76c68a63-4bf8-4ed0-a675-372a44d60d5f",
   "metadata": {
    "tags": []
   },
   "source": [
    "# Get inputs"
   ]
  },
  {
   "cell_type": "code",
   "execution_count": 31,
   "id": "2c317d4c-42ed-4d58-b1ed-c9be5cca037d",
   "metadata": {},
   "outputs": [
    {
     "data": {
      "text/plain": [
       "['[[[0,[5,8]],[[1,7],[9,6]]],[[4,[1,2]],[[1,4],2]]]',\n",
       " '[[[5,[2,8]],4],[5,[[9,9],0]]]',\n",
       " '[6,[[[6,2],[5,6]],[[7,6],[4,7]]]]',\n",
       " '[[[6,[0,7]],[0,9]],[4,[9,[9,0]]]]',\n",
       " '[[[7,[6,4]],[3,[1,3]]],[[[5,5],1],9]]',\n",
       " '[[6,[[7,3],[3,2]]],[[[3,8],[5,7]],4]]',\n",
       " '[[[[5,4],[7,7]],8],[[8,3],8]]',\n",
       " '[[9,3],[[9,9],[6,[4,9]]]]',\n",
       " '[[2,[[7,7],7]],[[5,8],[[9,3],[0,2]]]]',\n",
       " '[[[[5,2],5],[8,[3,7]]],[[5,[7,5]],[4,4]]]']"
      ]
     },
     "execution_count": 31,
     "metadata": {},
     "output_type": "execute_result"
    }
   ],
   "source": [
    "with open(\"test_input.txt\") as f:\n",
    "#with open(\"input.txt\") as f:\n",
    "    inp = f.readlines()\n",
    "    inp = [line.rstrip() for line in inp]\n",
    "inp"
   ]
  },
  {
   "cell_type": "code",
   "execution_count": 26,
   "id": "da60f9a4",
   "metadata": {},
   "outputs": [
    {
     "data": {
      "text/plain": [
       "[[[[0, [5, 8]], [[1, 7], [9, 6]]], [[4, [1, 2]], [[1, 4], 2]]],\n",
       " [[[5, [2, 8]], 4], [5, [[9, 9], 0]]],\n",
       " [6, [[[6, 2], [5, 6]], [[7, 6], [4, 7]]]],\n",
       " [[[6, [0, 7]], [0, 9]], [4, [9, [9, 0]]]],\n",
       " [[[7, [6, 4]], [3, [1, 3]]], [[[5, 5], 1], 9]],\n",
       " [[6, [[7, 3], [3, 2]]], [[[3, 8], [5, 7]], 4]],\n",
       " [[[[5, 4], [7, 7]], 8], [[8, 3], 8]],\n",
       " [[9, 3], [[9, 9], [6, [4, 9]]]],\n",
       " [[2, [[7, 7], 7]], [[5, 8], [[9, 3], [0, 2]]]],\n",
       " [[[[5, 2], 5], [8, [3, 7]]], [[5, [7, 5]], [4, 4]]]]"
      ]
     },
     "execution_count": 26,
     "metadata": {},
     "output_type": "execute_result"
    }
   ],
   "source": [
    "cleaned = [json.loads(x) for x in inp]\n",
    "cleaned"
   ]
  },
  {
   "cell_type": "markdown",
   "id": "9d0aa6d0-c00f-4587-894b-b85e59098257",
   "metadata": {},
   "source": [
    "## Q1"
   ]
  },
  {
   "cell_type": "code",
   "execution_count": 33,
   "id": "cd5d6941",
   "metadata": {},
   "outputs": [
    {
     "data": {
      "text/plain": [
       "[[[0, [5, 8]], [[1, 7], [9, 6]]], [[4, [1, 2]], [[1, 4], 2]]]"
      ]
     },
     "execution_count": 33,
     "metadata": {},
     "output_type": "execute_result"
    }
   ],
   "source": [
    "cleaned[0]"
   ]
  },
  {
   "cell_type": "code",
   "execution_count": 34,
   "id": "807d4d45",
   "metadata": {},
   "outputs": [
    {
     "data": {
      "text/plain": [
       "[[[5, [2, 8]], 4], [5, [[9, 9], 0]]]"
      ]
     },
     "execution_count": 34,
     "metadata": {},
     "output_type": "execute_result"
    }
   ],
   "source": [
    "cleaned[1]"
   ]
  },
  {
   "cell_type": "code",
   "execution_count": 35,
   "id": "2a3a65e4",
   "metadata": {},
   "outputs": [
    {
     "data": {
      "text/plain": [
       "[[[0, [5, 8]], [[1, 7], [9, 6]]],\n",
       " [[4, [1, 2]], [[1, 4], 2]],\n",
       " [[5, [2, 8]], 4],\n",
       " [5, [[9, 9], 0]]]"
      ]
     },
     "execution_count": 35,
     "metadata": {},
     "output_type": "execute_result"
    }
   ],
   "source": [
    "cleaned[0] + cleaned[1]"
   ]
  },
  {
   "cell_type": "code",
   "execution_count": 43,
   "id": "e89d7a6f",
   "metadata": {},
   "outputs": [
    {
     "data": {
      "text/plain": [
       "[[9, 1], [1, 9]]"
      ]
     },
     "execution_count": 43,
     "metadata": {},
     "output_type": "execute_result"
    }
   ],
   "source": [
    "[[9,1],[1,9]]"
   ]
  },
  {
   "cell_type": "code",
   "execution_count": 8,
   "id": "0a372a8f",
   "metadata": {},
   "outputs": [
    {
     "data": {
      "text/plain": [
       "3488"
      ]
     },
     "execution_count": 8,
     "metadata": {},
     "output_type": "execute_result"
    }
   ],
   "source": [
    "def get_magnitude(num = [[[[8,7],[7,7]],[[8,6],[7,7]]],[[[0,7],[6,6]],[8,7]]]):\n",
    "    \"\"\"3 * left elements + 2 * right elements\"\"\"\n",
    "    \n",
    "    left = num[0]\n",
    "    right = num[1]\n",
    "    \n",
    "    if isinstance(left,int) and isinstance(right,int):\n",
    "        left *= 3\n",
    "        right *= 2\n",
    "        num = left + right\n",
    "\n",
    "    elif isinstance(left,list) and isinstance(right,list):\n",
    "        left = get_magnitude(left)\n",
    "        right = get_magnitude(right)\n",
    "\n",
    "    elif isinstance(left,list):\n",
    "        left = get_magnitude(left)\n",
    "        \n",
    "    else:\n",
    "        right = get_magnitude(right)\n",
    "    \n",
    "    \n",
    "    if isinstance(num, int):\n",
    "        return num\n",
    "    else:\n",
    "        return get_magnitude([left, right])\n",
    "\n",
    "get_magnitude()"
   ]
  },
  {
   "cell_type": "code",
   "execution_count": 1,
   "id": "ae2bf286",
   "metadata": {},
   "outputs": [],
   "source": [
    "def explode():\n",
    "    pass"
   ]
  },
  {
   "cell_type": "code",
   "execution_count": 2,
   "id": "abfd4965",
   "metadata": {},
   "outputs": [],
   "source": [
    "def split():\n",
    "    pass"
   ]
  },
  {
   "cell_type": "code",
   "execution_count": null,
   "id": "b814d8e8",
   "metadata": {},
   "outputs": [],
   "source": [
    "def action_required(num):\n",
    "    \"\"\"Loop through num, check if num needs to be exploded or split\"\"\"\n",
    "    \n",
    "    pass"
   ]
  },
  {
   "cell_type": "code",
   "execution_count": 36,
   "id": "ac1971ab",
   "metadata": {},
   "outputs": [],
   "source": [
    "def snailfish(homework):\n",
    "    \n",
    "    current_num = homework[0]\n",
    "    \n",
    "    # Explode, split\n",
    "    action = action_required(current_num)\n",
    "    while action:\n",
    "        \n",
    "        if action == \"explode\":\n",
    "            current_num = explode(current_num)\n",
    "        else:\n",
    "            current_num = split(current_num)\n",
    "            \n",
    "        action = action_required(current_num)\n",
    "        \n",
    "    if len(homework) > 1:\n",
    "        homework[0] = current_num + homework.pop(1)\n",
    "        snailfish(homework)\n",
    "\n",
    "    return homework"
   ]
  },
  {
   "cell_type": "code",
   "execution_count": null,
   "id": "2718b752",
   "metadata": {},
   "outputs": [],
   "source": []
  },
  {
   "cell_type": "code",
   "execution_count": null,
   "id": "1d27f399",
   "metadata": {},
   "outputs": [],
   "source": []
  },
  {
   "cell_type": "code",
   "execution_count": null,
   "id": "6625d208",
   "metadata": {},
   "outputs": [],
   "source": [
    "get_magnitude(snailfish(test))"
   ]
  },
  {
   "cell_type": "markdown",
   "id": "686ade79-8415-43b8-8157-a0fa817c1d01",
   "metadata": {
    "tags": []
   },
   "source": [
    "## Q2"
   ]
  }
 ],
 "metadata": {
  "kernelspec": {
   "display_name": "Python 3 (ipykernel)",
   "language": "python",
   "name": "python3"
  },
  "language_info": {
   "codemirror_mode": {
    "name": "ipython",
    "version": 3
   },
   "file_extension": ".py",
   "mimetype": "text/x-python",
   "name": "python",
   "nbconvert_exporter": "python",
   "pygments_lexer": "ipython3",
   "version": "3.8.12"
  }
 },
 "nbformat": 4,
 "nbformat_minor": 5
}
