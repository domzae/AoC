{
 "cells": [
  {
   "cell_type": "code",
   "execution_count": 1,
   "id": "b4b5f2ac",
   "metadata": {},
   "outputs": [],
   "source": [
    "from itertools import product\n",
    "from functools import lru_cache"
   ]
  },
  {
   "cell_type": "markdown",
   "id": "76c68a63-4bf8-4ed0-a675-372a44d60d5f",
   "metadata": {
    "tags": []
   },
   "source": [
    "# Get inputs"
   ]
  },
  {
   "cell_type": "code",
   "execution_count": 2,
   "id": "0a8f2752",
   "metadata": {},
   "outputs": [],
   "source": [
    "# starting positions\n",
    "test = [4, 8]\n",
    "inp = [6, 3]"
   ]
  },
  {
   "cell_type": "markdown",
   "id": "9d0aa6d0-c00f-4587-894b-b85e59098257",
   "metadata": {},
   "source": [
    "## Q1"
   ]
  },
  {
   "cell_type": "code",
   "execution_count": 3,
   "id": "38c15d98",
   "metadata": {},
   "outputs": [
    {
     "data": {
      "text/plain": [
       "3"
      ]
     },
     "execution_count": 3,
     "metadata": {},
     "output_type": "execute_result"
    }
   ],
   "source": [
    "def roll(position, dice):\n",
    "    for i in range(3):\n",
    "        if dice > 100:\n",
    "            dice = 1\n",
    "        else:\n",
    "            dice += 1\n",
    "        position += dice\n",
    "    \n",
    "    while position > 10:\n",
    "        position -= 10\n",
    "    \n",
    "    return position\n",
    "\n",
    "roll(8, 3)"
   ]
  },
  {
   "cell_type": "code",
   "execution_count": 4,
   "id": "0306dddf",
   "metadata": {},
   "outputs": [],
   "source": [
    "def play(positions):\n",
    "    p1, p2 = positions\n",
    "    p1_score = 0\n",
    "    p2_score = 0\n",
    "    dice = 0\n",
    "    roll_count = 0\n",
    "    \n",
    "    while True:\n",
    "        p1 = roll(p1, dice)\n",
    "        p1_score += p1\n",
    "        dice += 3\n",
    "        if dice > 100:\n",
    "            dice -= 100\n",
    "        roll_count += 3\n",
    "        \n",
    "        if p1_score >= 1000:\n",
    "            print(f\"Rolls: {roll_count}\")\n",
    "            print(f\"Player 1: {p1_score}\")\n",
    "            print(f\"Player 2: {p2_score}\")\n",
    "            \n",
    "            return p2_score * roll_count\n",
    "        \n",
    "        \n",
    "        p2 = roll(p2, dice)\n",
    "        p2_score += p2\n",
    "        dice += 3\n",
    "        if dice > 100:\n",
    "            dice -= 100\n",
    "        roll_count += 3\n",
    "        \n",
    "        if p2_score >= 1000:\n",
    "            print(f\"Rolls: {roll_count}\")\n",
    "            print(f\"Player 1: {p1_score}\")\n",
    "            print(f\"Player 2: {p2_score}\")\n",
    "            \n",
    "            return p1_score * roll_count"
   ]
  },
  {
   "cell_type": "code",
   "execution_count": 5,
   "id": "fb7fca5e",
   "metadata": {},
   "outputs": [
    {
     "name": "stdout",
     "output_type": "stream",
     "text": [
      "Rolls: 1062\n",
      "Player 1: 966\n",
      "Player 2: 1000\n",
      "Part 1: 1025892\n"
     ]
    }
   ],
   "source": [
    "print(f\"Part 1: {play(inp)}\")"
   ]
  },
  {
   "cell_type": "markdown",
   "id": "686ade79-8415-43b8-8157-a0fa817c1d01",
   "metadata": {
    "tags": []
   },
   "source": [
    "## Q2"
   ]
  },
  {
   "cell_type": "code",
   "execution_count": 6,
   "id": "7e5c665f",
   "metadata": {},
   "outputs": [],
   "source": [
    "def play_2(pos, score, roll):\n",
    "\n",
    "    new_pos = ((pos - 1 + roll) % 10) + 1\n",
    "    new_score = score + new_pos\n",
    "    return new_pos, new_score"
   ]
  },
  {
   "cell_type": "code",
   "execution_count": 7,
   "id": "74e45ea8",
   "metadata": {},
   "outputs": [],
   "source": [
    "@lru_cache(maxsize=None)\n",
    "def count_wins(player, p1, p1_score, p2, p2_score):\n",
    "    \"\"\"For the given state, count in how many wolds each player will win.\"\"\"\n",
    "\n",
    "    if p1_score >= 21:\n",
    "        return 1, 0\n",
    "    elif p2_score >= 21:\n",
    "        return 0, 1\n",
    "\n",
    "    wins = [0, 0]\n",
    "    for rolls in product(range(1, 4), repeat=3):\n",
    "        if player == 0:\n",
    "            new_pos, new_score = play_2(p1, p1_score, sum(rolls))\n",
    "            wins0, wins1 = count_wins(1, new_pos, new_score, p2, p2_score)\n",
    "        else:\n",
    "            new_pos, new_score = play_2(p2, p2_score, sum(rolls))\n",
    "            wins0, wins1 = count_wins(0, p1, p1_score, new_pos, new_score)\n",
    "\n",
    "        wins[0] += wins0\n",
    "        wins[1] += wins1\n",
    "\n",
    "    return wins"
   ]
  },
  {
   "cell_type": "code",
   "execution_count": 8,
   "id": "dd18b38a",
   "metadata": {},
   "outputs": [
    {
     "name": "stdout",
     "output_type": "stream",
     "text": [
      "wins=[309196008717909, 227643103580178]\n",
      "Part 2 - Max: 309196008717909\n"
     ]
    }
   ],
   "source": [
    "# p1, p2 = test\n",
    "p1, p2 = inp\n",
    "wins = count_wins(0, p1, 0, p2, 0)\n",
    "print(f\"{wins=}\\nPart 2 - Max: {max(wins)}\")"
   ]
  }
 ],
 "metadata": {
  "kernelspec": {
   "display_name": "Python 3 (ipykernel)",
   "language": "python",
   "name": "python3"
  },
  "language_info": {
   "codemirror_mode": {
    "name": "ipython",
    "version": 3
   },
   "file_extension": ".py",
   "mimetype": "text/x-python",
   "name": "python",
   "nbconvert_exporter": "python",
   "pygments_lexer": "ipython3",
   "version": "3.8.12"
  }
 },
 "nbformat": 4,
 "nbformat_minor": 5
}
