{
 "cells": [
  {
   "cell_type": "code",
   "execution_count": 8,
   "id": "2c317d4c-42ed-4d58-b1ed-c9be5cca037d",
   "metadata": {},
   "outputs": [],
   "source": [
    "with open(\"01.txt\") as f:\n",
    "    ls = f.readlines()\n",
    "    ls = [line.rstrip() for line in ls]"
   ]
  },
  {
   "cell_type": "code",
   "execution_count": 29,
   "id": "2272c363-3019-4139-876b-b648f42677d1",
   "metadata": {},
   "outputs": [],
   "source": [
    "x = [199,200,208,210,200,207,240,269,260,263]"
   ]
  },
  {
   "cell_type": "code",
   "execution_count": 22,
   "id": "4e1a8a9a-494d-4214-bca2-9570b3dc22f8",
   "metadata": {},
   "outputs": [
    {
     "data": {
      "text/plain": [
       "1502"
      ]
     },
     "execution_count": 22,
     "metadata": {},
     "output_type": "execute_result"
    }
   ],
   "source": [
    "count = -1\n",
    "last = 0\n",
    "for line in ls:\n",
    "    #print(last, line)\n",
    "    if int(line) > last:\n",
    "        count += 1\n",
    "     #   print(count)\n",
    "    last = int(line)\n",
    "count"
   ]
  },
  {
   "cell_type": "code",
   "execution_count": 44,
   "id": "d71eab8c-e294-445a-affa-81d014c585a9",
   "metadata": {},
   "outputs": [],
   "source": [
    "y = [199,200,208,210,200,207,240,269,260,263]"
   ]
  },
  {
   "cell_type": "code",
   "execution_count": 57,
   "id": "5622c966-71b6-4c16-b6a7-a274f34893e5",
   "metadata": {},
   "outputs": [],
   "source": [
    "y = list(map(int,ls))"
   ]
  },
  {
   "cell_type": "code",
   "execution_count": 60,
   "id": "ea449ed4-2f28-49d3-a1f6-8c602bdce2e6",
   "metadata": {},
   "outputs": [
    {
     "ename": "IndexError",
     "evalue": "list index out of range",
     "output_type": "error",
     "traceback": [
      "\u001b[0;31m---------------------------------------------------------------------------\u001b[0m",
      "\u001b[0;31mIndexError\u001b[0m                                Traceback (most recent call last)",
      "\u001b[0;32m/tmp/ipykernel_31906/2660567781.py\u001b[0m in \u001b[0;36m<module>\u001b[0;34m\u001b[0m\n\u001b[1;32m      7\u001b[0m         \u001b[0mtmp\u001b[0m \u001b[0;34m=\u001b[0m \u001b[0;34m[\u001b[0m\u001b[0;36m0\u001b[0m\u001b[0;34m,\u001b[0m\u001b[0my\u001b[0m\u001b[0;34m[\u001b[0m\u001b[0;36m0\u001b[0m\u001b[0;34m]\u001b[0m\u001b[0;34m,\u001b[0m\u001b[0mline\u001b[0m\u001b[0;34m]\u001b[0m\u001b[0;34m\u001b[0m\u001b[0;34m\u001b[0m\u001b[0m\n\u001b[1;32m      8\u001b[0m     \u001b[0;32melse\u001b[0m\u001b[0;34m:\u001b[0m\u001b[0;34m\u001b[0m\u001b[0;34m\u001b[0m\u001b[0m\n\u001b[0;32m----> 9\u001b[0;31m         \u001b[0mtmp\u001b[0m \u001b[0;34m=\u001b[0m \u001b[0;34m[\u001b[0m\u001b[0my\u001b[0m\u001b[0;34m[\u001b[0m\u001b[0mi\u001b[0m\u001b[0;34m-\u001b[0m\u001b[0;36m2\u001b[0m\u001b[0;34m]\u001b[0m\u001b[0;34m,\u001b[0m\u001b[0my\u001b[0m\u001b[0;34m[\u001b[0m\u001b[0mi\u001b[0m\u001b[0;34m-\u001b[0m\u001b[0;36m1\u001b[0m\u001b[0;34m]\u001b[0m\u001b[0;34m,\u001b[0m\u001b[0mline\u001b[0m\u001b[0;34m]\u001b[0m\u001b[0;34m\u001b[0m\u001b[0;34m\u001b[0m\u001b[0m\n\u001b[0m\u001b[1;32m     10\u001b[0m     \u001b[0;31m# print(tmp, last)\u001b[0m\u001b[0;34m\u001b[0m\u001b[0;34m\u001b[0m\u001b[0;34m\u001b[0m\u001b[0m\n\u001b[1;32m     11\u001b[0m     \u001b[0;31m# print(sum(tmp), sum(last))\u001b[0m\u001b[0;34m\u001b[0m\u001b[0;34m\u001b[0m\u001b[0;34m\u001b[0m\u001b[0m\n",
      "\u001b[0;31mIndexError\u001b[0m: list index out of range"
     ]
    }
   ],
   "source": [
    "count = -1\n",
    "last = [0,0,0]\n",
    "for i, line in enumerate(y, 3):\n",
    "    if i == 0:\n",
    "        tmp = [0,0,line]\n",
    "    elif i == 1:\n",
    "        tmp = [0,y[0],line]\n",
    "    else:\n",
    "        tmp = [y[i-2],y[i-1],line]\n",
    "    # print(tmp, last)\n",
    "    # print(sum(tmp), sum(last))\n",
    "    if sum(tmp) > sum(last):\n",
    "        count += 1\n",
    "    #     print(\"plus 1: \", count)\n",
    "    last = tmp"
   ]
  },
  {
   "cell_type": "code",
   "execution_count": 61,
   "id": "f8b1a5c2-c27e-4adc-8034-5e81696b49a9",
   "metadata": {},
   "outputs": [
    {
     "data": {
      "text/plain": [
       "1538"
      ]
     },
     "execution_count": 61,
     "metadata": {},
     "output_type": "execute_result"
    }
   ],
   "source": [
    "count"
   ]
  },
  {
   "cell_type": "code",
   "execution_count": null,
   "id": "932894fd-4b80-49ea-afad-5083100f5751",
   "metadata": {},
   "outputs": [],
   "source": []
  }
 ],
 "metadata": {
  "kernelspec": {
   "display_name": "Python 3 (ipykernel)",
   "language": "python",
   "name": "python3"
  },
  "language_info": {
   "codemirror_mode": {
    "name": "ipython",
    "version": 3
   },
   "file_extension": ".py",
   "mimetype": "text/x-python",
   "name": "python",
   "nbconvert_exporter": "python",
   "pygments_lexer": "ipython3",
   "version": "3.8.12"
  }
 },
 "nbformat": 4,
 "nbformat_minor": 5
}
