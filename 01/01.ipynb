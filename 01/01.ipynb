{
 "cells": [
  {
   "cell_type": "code",
   "execution_count": 1,
   "id": "2c317d4c-42ed-4d58-b1ed-c9be5cca037d",
   "metadata": {},
   "outputs": [],
   "source": [
    "with open(\"01.txt\") as f:\n",
    "    ls = f.readlines()\n",
    "    ls = [line.rstrip() for line in ls]"
   ]
  },
  {
   "cell_type": "code",
   "execution_count": 2,
   "id": "2272c363-3019-4139-876b-b648f42677d1",
   "metadata": {},
   "outputs": [],
   "source": [
    "x = [199,200,208,210,200,207,240,269,260,263]"
   ]
  },
  {
   "cell_type": "markdown",
   "id": "51ce920a-035a-423b-96fd-1684317b4958",
   "metadata": {},
   "source": [
    "## Q1"
   ]
  },
  {
   "cell_type": "code",
   "execution_count": 3,
   "id": "4e1a8a9a-494d-4214-bca2-9570b3dc22f8",
   "metadata": {},
   "outputs": [],
   "source": [
    "count = -1\n",
    "last = 0\n",
    "for line in ls:\n",
    "    if int(line) > last:\n",
    "        count += 1\n",
    "    last = int(line)"
   ]
  },
  {
   "cell_type": "code",
   "execution_count": 4,
   "id": "b323b949",
   "metadata": {},
   "outputs": [
    {
     "name": "stdout",
     "output_type": "stream",
     "text": [
      "Part 1: 1502\n"
     ]
    }
   ],
   "source": [
    "print(f\"Part 1: {count}\")"
   ]
  },
  {
   "cell_type": "markdown",
   "id": "8a5d8ad1-51b0-4e33-87f3-3826ea3d8282",
   "metadata": {},
   "source": [
    "## Q2"
   ]
  },
  {
   "cell_type": "code",
   "execution_count": 5,
   "id": "d71eab8c-e294-445a-affa-81d014c585a9",
   "metadata": {},
   "outputs": [],
   "source": [
    "y = [199,200,208,210,200,207,240,269,260,263]"
   ]
  },
  {
   "cell_type": "code",
   "execution_count": 6,
   "id": "5622c966-71b6-4c16-b6a7-a274f34893e5",
   "metadata": {},
   "outputs": [],
   "source": [
    "y = list(map(int,ls))"
   ]
  },
  {
   "cell_type": "code",
   "execution_count": 7,
   "id": "ea449ed4-2f28-49d3-a1f6-8c602bdce2e6",
   "metadata": {},
   "outputs": [],
   "source": [
    "count = -1\n",
    "last = [0,0,0]\n",
    "for i, line in enumerate(y, 3):\n",
    "    if i == 0:\n",
    "        tmp = [0,0,line]\n",
    "    elif i == 1:\n",
    "        tmp = [0,y[0],line]\n",
    "    else:\n",
    "        try:\n",
    "            tmp = [y[i-2],y[i-1],line]\n",
    "        except IndexError:\n",
    "            break\n",
    "    \n",
    "    if sum(tmp) > sum(last):\n",
    "        count += 1\n",
    "    \n",
    "    last = tmp"
   ]
  },
  {
   "cell_type": "code",
   "execution_count": 8,
   "id": "b323b949",
   "metadata": {},
   "outputs": [
    {
     "name": "stdout",
     "output_type": "stream",
     "text": [
      "Part 2: 1538\n"
     ]
    }
   ],
   "source": [
    "print(f\"Part 2: {count}\")"
   ]
  }
 ],
 "metadata": {
  "kernelspec": {
   "display_name": "Python 3 (ipykernel)",
   "language": "python",
   "name": "python3"
  },
  "language_info": {
   "codemirror_mode": {
    "name": "ipython",
    "version": 3
   },
   "file_extension": ".py",
   "mimetype": "text/x-python",
   "name": "python",
   "nbconvert_exporter": "python",
   "pygments_lexer": "ipython3",
   "version": "3.8.12"
  }
 },
 "nbformat": 4,
 "nbformat_minor": 5
}
