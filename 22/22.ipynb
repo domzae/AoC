{
 "cells": [
  {
   "cell_type": "code",
   "execution_count": 1,
   "id": "0a8f2752",
   "metadata": {},
   "outputs": [],
   "source": [
    "import numpy as np"
   ]
  },
  {
   "cell_type": "markdown",
   "id": "76c68a63-4bf8-4ed0-a675-372a44d60d5f",
   "metadata": {
    "tags": []
   },
   "source": [
    "# Get inputs"
   ]
  },
  {
   "cell_type": "code",
   "execution_count": 2,
   "id": "2c317d4c-42ed-4d58-b1ed-c9be5cca037d",
   "metadata": {},
   "outputs": [],
   "source": [
    "# with open(\"test_input.txt\") as f:\n",
    "with open(\"input.txt\") as f:\n",
    "    inp = f.readlines()\n",
    "    inp = [line.rstrip() for line in inp]"
   ]
  },
  {
   "cell_type": "code",
   "execution_count": 3,
   "id": "fecfafcb",
   "metadata": {},
   "outputs": [],
   "source": [
    "cleaned = []\n",
    "for line in inp:\n",
    "    state, coords = line.split()\n",
    "    x,y,z = coords.split(',')\n",
    "    x = x[2:].split('..')\n",
    "    y = y[2:].split('..')\n",
    "    z = z[2:].split('..')\n",
    "    \n",
    "    cleaned.append([state, [(int(x[0]), int(x[1])+1), (int(y[0]), int(y[1])+1), (int(z[0]), int(z[1])+1)]])"
   ]
  },
  {
   "cell_type": "code",
   "execution_count": 4,
   "id": "862dd4cd",
   "metadata": {},
   "outputs": [],
   "source": [
    "# cleaned"
   ]
  },
  {
   "cell_type": "markdown",
   "id": "9d0aa6d0-c00f-4587-894b-b85e59098257",
   "metadata": {},
   "source": [
    "## Q1"
   ]
  },
  {
   "cell_type": "code",
   "execution_count": 5,
   "id": "f3de8899",
   "metadata": {},
   "outputs": [],
   "source": [
    "reactor = np.full((101,101,101), 0,dtype=np.int8)"
   ]
  },
  {
   "cell_type": "code",
   "execution_count": 6,
   "id": "0a622fdb",
   "metadata": {},
   "outputs": [],
   "source": [
    "def run(reactor, steps):\n",
    "    n = 50\n",
    "    for state, coords in steps:\n",
    "        x,y,z = coords\n",
    "        x = np.add(x,n)\n",
    "        y = np.add(y,n)\n",
    "        z = np.add(z,n)\n",
    "\n",
    "        state = 1 if 'on' in state else 0\n",
    "        \n",
    "        reactor[x[0]:x[1], y[0]:y[1], z[0]:z[1]] = state\n",
    "    \n",
    "    \n",
    "    return reactor"
   ]
  },
  {
   "cell_type": "code",
   "execution_count": 7,
   "id": "128f50b6",
   "metadata": {},
   "outputs": [
    {
     "name": "stdout",
     "output_type": "stream",
     "text": [
      "Part 1: 607657\n"
     ]
    }
   ],
   "source": [
    "print(f\"Part 1: {np.sum(run(reactor, cleaned))}\")"
   ]
  },
  {
   "cell_type": "markdown",
   "id": "686ade79-8415-43b8-8157-a0fa817c1d01",
   "metadata": {
    "tags": []
   },
   "source": [
    "## Q2"
   ]
  },
  {
   "cell_type": "code",
   "execution_count": 8,
   "id": "c29885fd",
   "metadata": {},
   "outputs": [],
   "source": [
    "def check_intersect(cuboid_1, cuboid_2):\n",
    "    \"\"\"Check if there is any intersection along any dimension\"\"\"\n",
    "    \n",
    "    # 1minx <= 2maxx and 1maxx >= 2minx\n",
    "    if not(cuboid_1[1] <= cuboid_2[2] and cuboid_1[2] >= cuboid_2[1]):\n",
    "        return False\n",
    " \n",
    "    if not(cuboid_1[3] <= cuboid_2[4] and cuboid_1[4] >= cuboid_2[3]):\n",
    "        return False\n",
    " \n",
    "    if not(cuboid_1[5] <= cuboid_2[6] and cuboid_1[6] >= cuboid_2[5]):\n",
    "        return False\n",
    "\n",
    "    return True"
   ]
  },
  {
   "cell_type": "code",
   "execution_count": 9,
   "id": "eb1fb6f1",
   "metadata": {},
   "outputs": [],
   "source": [
    "def get_intersection(cuboid_1, cuboid_2):\n",
    "    \"\"\"Get the intersection, including if the resulting state is on or off\"\"\"\n",
    "    \n",
    "    min_x = max(cuboid_1[1], cuboid_2[1])\n",
    "    max_x = min(cuboid_1[2], cuboid_2[2])\n",
    " \n",
    "    min_y = max(cuboid_1[3], cuboid_2[3])\n",
    "    max_y = min(cuboid_1[4], cuboid_2[4])\n",
    " \n",
    "    min_z = max(cuboid_1[5], cuboid_2[5])\n",
    "    max_z = min(cuboid_1[6], cuboid_2[6])\n",
    " \n",
    "    if cuboid_1[0] == cuboid_2[0]:\n",
    "        state = 0 if cuboid_1[0] == 1 else 1\n",
    "    elif cuboid_1[0] == 1 and cuboid_2[0] == 0:\n",
    "        state = 1\n",
    "    else:\n",
    "        state = 0\n",
    " \n",
    "    return (state, min_x, max_x, min_y, max_y, min_z, max_z)"
   ]
  },
  {
   "cell_type": "code",
   "execution_count": 10,
   "id": "62714222",
   "metadata": {},
   "outputs": [],
   "source": [
    "def get_volume(cuboid):\n",
    "    x = cuboid[2] - cuboid[1]\n",
    "    y = cuboid[4] - cuboid[3]\n",
    "    z = cuboid[6] - cuboid[5]\n",
    "    \n",
    "    return x * y * z"
   ]
  },
  {
   "cell_type": "code",
   "execution_count": 11,
   "id": "3fdca838",
   "metadata": {},
   "outputs": [],
   "source": [
    "def get_vol(steps):\n",
    "    cuboids = []\n",
    " \n",
    "    for state, coords in steps:\n",
    "        min_x, max_x = coords[0]\n",
    "        min_y, max_y = coords[1]\n",
    "        min_z, max_z = coords[2]\n",
    " \n",
    "        current_cuboid = (1 if state == 'on' else 0,\n",
    "                min_x, max_x,\n",
    "                min_y, max_y,\n",
    "                min_z, max_z,\n",
    "                )\n",
    "    \n",
    "        intersections = []\n",
    " \n",
    "        for cuboid in cuboids:\n",
    "            if check_intersect(current_cuboid, cuboid):\n",
    "                intersection = get_intersection(current_cuboid, cuboid)\n",
    "                intersections.append(intersection)\n",
    " \n",
    "        for intersection in intersections:\n",
    "            cuboids.append(intersection)\n",
    " \n",
    "        if state == 'on':\n",
    "            cuboids.append(current_cuboid)\n",
    " \n",
    "    on = 0\n",
    " \n",
    "    for cuboid in cuboids:\n",
    "        if cuboid[0] == 1:\n",
    "            on += get_volume(cuboid)\n",
    "        else:\n",
    "            on -= get_volume(cuboid)\n",
    " \n",
    "    return on"
   ]
  },
  {
   "cell_type": "code",
   "execution_count": 12,
   "id": "196380e9",
   "metadata": {},
   "outputs": [
    {
     "name": "stdout",
     "output_type": "stream",
     "text": [
      "Part 2: 1187742789778677\n"
     ]
    }
   ],
   "source": [
    "print(f\"Part 2: {get_vol(cleaned)}\")"
   ]
  }
 ],
 "metadata": {
  "kernelspec": {
   "display_name": "Python 3 (ipykernel)",
   "language": "python",
   "name": "python3"
  },
  "language_info": {
   "codemirror_mode": {
    "name": "ipython",
    "version": 3
   },
   "file_extension": ".py",
   "mimetype": "text/x-python",
   "name": "python",
   "nbconvert_exporter": "python",
   "pygments_lexer": "ipython3",
   "version": "3.8.12"
  }
 },
 "nbformat": 4,
 "nbformat_minor": 5
}
