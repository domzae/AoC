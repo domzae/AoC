{
 "cells": [
  {
   "cell_type": "code",
   "execution_count": 1,
   "id": "544e17f2",
   "metadata": {},
   "outputs": [],
   "source": [
    "import numpy as np\n",
    "import itertools"
   ]
  },
  {
   "cell_type": "markdown",
   "id": "76c68a63-4bf8-4ed0-a675-372a44d60d5f",
   "metadata": {
    "tags": []
   },
   "source": [
    "# Get inputs"
   ]
  },
  {
   "cell_type": "code",
   "execution_count": 2,
   "id": "2c317d4c-42ed-4d58-b1ed-c9be5cca037d",
   "metadata": {},
   "outputs": [],
   "source": [
    "#with open(\"test_input.txt\") as f:\n",
    "with open(\"input.txt\") as f:\n",
    "    inp = f.readlines()\n",
    "    inp = [line.rstrip() for line in inp]"
   ]
  },
  {
   "cell_type": "code",
   "execution_count": 3,
   "id": "c0c15c42",
   "metadata": {},
   "outputs": [
    {
     "data": {
      "text/plain": [
       "array([[8, 2, 6, 1, 3, 4, 4, 6, 5, 6],\n",
       "       [7, 7, 7, 3, 3, 5, 1, 1, 7, 5],\n",
       "       [7, 5, 2, 7, 8, 5, 6, 8, 5, 2],\n",
       "       [1, 7, 6, 3, 6, 1, 4, 6, 7, 3],\n",
       "       [8, 6, 7, 4, 5, 5, 6, 7, 4, 3],\n",
       "       [6, 8, 5, 3, 3, 8, 2, 1, 5, 3],\n",
       "       [4, 1, 3, 5, 8, 5, 2, 3, 8, 8],\n",
       "       [2, 8, 4, 6, 7, 1, 5, 5, 2, 2],\n",
       "       [7, 4, 7, 7, 4, 2, 5, 8, 6, 3],\n",
       "       [4, 7, 2, 3, 8, 8, 8, 8, 8, 8]])"
      ]
     },
     "execution_count": 3,
     "metadata": {},
     "output_type": "execute_result"
    }
   ],
   "source": [
    "arr = np.array([[int(x) for x in line] for line in inp])\n",
    "arr"
   ]
  },
  {
   "cell_type": "markdown",
   "id": "9d0aa6d0-c00f-4587-894b-b85e59098257",
   "metadata": {},
   "source": [
    "## Q1"
   ]
  },
  {
   "cell_type": "code",
   "execution_count": 4,
   "id": "e1103281",
   "metadata": {},
   "outputs": [],
   "source": [
    "def flash(flash_arr, coords):\n",
    "    perms = list(itertools.product([-1,0,1],repeat=2))\n",
    "    perms.remove((0,0))\n",
    "    new_flash = 0\n",
    "    \n",
    "    for coord in coords:\n",
    "        for perm in perms:\n",
    "            tmp_x, tmp_y = [x+y for x,y in zip(coord, perm)]\n",
    "            \n",
    "            if tmp_x < 0 or tmp_y < 0 or tmp_x >= len(flash_arr) or tmp_y >= len(flash_arr):\n",
    "                continue\n",
    "            \n",
    "            flash_arr[tmp_x, tmp_y] += 1\n",
    "            if flash_arr[tmp_x, tmp_y] == 10:\n",
    "                new_flash += 1\n",
    "\n",
    "    return flash_arr, new_flash"
   ]
  },
  {
   "cell_type": "code",
   "execution_count": 5,
   "id": "944e32f3",
   "metadata": {},
   "outputs": [
    {
     "data": {
      "text/plain": [
       "1649"
      ]
     },
     "execution_count": 5,
     "metadata": {},
     "output_type": "execute_result"
    }
   ],
   "source": [
    "\n",
    "octos = arr.copy()\n",
    "flashes = 0\n",
    "for step in range(100):\n",
    "    coords = np.array([])\n",
    "    old_coords = np.array([[-5,-5]])\n",
    "    octos += 1\n",
    "    new_flash = (octos >= 10).sum()\n",
    "    \n",
    "    while new_flash > 0:\n",
    "        flashes += new_flash\n",
    "        new_flash = 0\n",
    "        new_coords = np.array(np.where(octos >= 10)).T\n",
    "        \n",
    "        ls = [np.where((new_coords == x).all(axis=1))[0] for x in old_coords]\n",
    "        coords = new_coords.copy()\n",
    "        for i in ls[:0:-1]:\n",
    "            coords = np.delete(coords, i[0], axis=0)\n",
    "            \n",
    "        old_coords = np.append(old_coords, coords, axis=0)\n",
    "        tmp_old = [tuple(row) for row in old_coords]\n",
    "        old_coords = np.unique(old_coords, axis=0)\n",
    "        octos, new_flash = flash(octos, coords)\n",
    "    octos[octos >= 10] = 0\n",
    "flashes"
   ]
  },
  {
   "cell_type": "markdown",
   "id": "686ade79-8415-43b8-8157-a0fa817c1d01",
   "metadata": {
    "tags": []
   },
   "source": [
    "## Q2"
   ]
  },
  {
   "cell_type": "code",
   "execution_count": 6,
   "id": "944e32f3",
   "metadata": {},
   "outputs": [
    {
     "name": "stdout",
     "output_type": "stream",
     "text": [
      "256\n"
     ]
    }
   ],
   "source": [
    "\n",
    "octos = arr.copy()\n",
    "flashes = 0\n",
    "for step in range(1000):\n",
    "    coords = np.array([])\n",
    "    old_coords = np.array([[-5,-5]])\n",
    "    octos += 1\n",
    "    new_flash = (octos >= 10).sum()\n",
    "    this_flash = new_flash\n",
    "    while new_flash > 0:\n",
    "        flashes += new_flash\n",
    "        new_flash = 0\n",
    "        new_coords = np.array(np.where(octos >= 10)).T\n",
    "        \n",
    "        ls = [np.where((new_coords == x).all(axis=1))[0] for x in old_coords]\n",
    "        coords = new_coords.copy()\n",
    "        for i in ls[:0:-1]:\n",
    "            coords = np.delete(coords, i[0], axis=0)\n",
    "            \n",
    "        old_coords = np.append(old_coords, coords, axis=0)\n",
    "        tmp_old = [tuple(row) for row in old_coords]\n",
    "        old_coords = np.unique(old_coords, axis=0)\n",
    "        octos, new_flash = flash(octos, coords)\n",
    "        this_flash += new_flash\n",
    "    if this_flash == 100:\n",
    "        print(f\"{step+1}\")\n",
    "        break\n",
    "    octos[octos >= 10] = 0"
   ]
  }
 ],
 "metadata": {
  "kernelspec": {
   "display_name": "Python 3 (ipykernel)",
   "language": "python",
   "name": "python3"
  },
  "language_info": {
   "codemirror_mode": {
    "name": "ipython",
    "version": 3
   },
   "file_extension": ".py",
   "mimetype": "text/x-python",
   "name": "python",
   "nbconvert_exporter": "python",
   "pygments_lexer": "ipython3",
   "version": "3.8.12"
  }
 },
 "nbformat": 4,
 "nbformat_minor": 5
}
